{
  "nbformat": 4,
  "nbformat_minor": 0,
  "metadata": {
    "colab": {
      "provenance": [],
      "authorship_tag": "ABX9TyOhd6nLgc0br+QeElYJMswB",
      "include_colab_link": true
    },
    "kernelspec": {
      "name": "python3",
      "display_name": "Python 3"
    },
    "language_info": {
      "name": "python"
    },
    "widgets": {
      "application/vnd.jupyter.widget-state+json": {
        "ce049f971bcd4a9480e060559161ca3d": {
          "model_module": "@jupyter-widgets/controls",
          "model_name": "HBoxModel",
          "model_module_version": "1.5.0",
          "state": {
            "_dom_classes": [],
            "_model_module": "@jupyter-widgets/controls",
            "_model_module_version": "1.5.0",
            "_model_name": "HBoxModel",
            "_view_count": null,
            "_view_module": "@jupyter-widgets/controls",
            "_view_module_version": "1.5.0",
            "_view_name": "HBoxView",
            "box_style": "",
            "children": [
              "IPY_MODEL_c7b92ec78d56449681ec850a1f357692",
              "IPY_MODEL_34835dcff034472583649dcd7d519721",
              "IPY_MODEL_491c4a4b3f014aa5bee62a20d5e96a79"
            ],
            "layout": "IPY_MODEL_581609a31dd54fb6831dd4d2ed5bc810"
          }
        },
        "c7b92ec78d56449681ec850a1f357692": {
          "model_module": "@jupyter-widgets/controls",
          "model_name": "HTMLModel",
          "model_module_version": "1.5.0",
          "state": {
            "_dom_classes": [],
            "_model_module": "@jupyter-widgets/controls",
            "_model_module_version": "1.5.0",
            "_model_name": "HTMLModel",
            "_view_count": null,
            "_view_module": "@jupyter-widgets/controls",
            "_view_module_version": "1.5.0",
            "_view_name": "HTMLView",
            "description": "",
            "description_tooltip": null,
            "layout": "IPY_MODEL_b88766e1ec6c4c4995eb127677f3ec09",
            "placeholder": "​",
            "style": "IPY_MODEL_c0f499b519654974ab1b37b8d21be3e0",
            "value": "adapter_model.safetensors: 100%"
          }
        },
        "34835dcff034472583649dcd7d519721": {
          "model_module": "@jupyter-widgets/controls",
          "model_name": "FloatProgressModel",
          "model_module_version": "1.5.0",
          "state": {
            "_dom_classes": [],
            "_model_module": "@jupyter-widgets/controls",
            "_model_module_version": "1.5.0",
            "_model_name": "FloatProgressModel",
            "_view_count": null,
            "_view_module": "@jupyter-widgets/controls",
            "_view_module_version": "1.5.0",
            "_view_name": "ProgressView",
            "bar_style": "success",
            "description": "",
            "description_tooltip": null,
            "layout": "IPY_MODEL_880481fb631842d78275b79b2f6b1408",
            "max": 119975656,
            "min": 0,
            "orientation": "horizontal",
            "style": "IPY_MODEL_64d60bf2c09a4a3da21c0c03bd839c4d",
            "value": 119975656
          }
        },
        "491c4a4b3f014aa5bee62a20d5e96a79": {
          "model_module": "@jupyter-widgets/controls",
          "model_name": "HTMLModel",
          "model_module_version": "1.5.0",
          "state": {
            "_dom_classes": [],
            "_model_module": "@jupyter-widgets/controls",
            "_model_module_version": "1.5.0",
            "_model_name": "HTMLModel",
            "_view_count": null,
            "_view_module": "@jupyter-widgets/controls",
            "_view_module_version": "1.5.0",
            "_view_name": "HTMLView",
            "description": "",
            "description_tooltip": null,
            "layout": "IPY_MODEL_b33d9dcd556d449fb863a73c3576c7b0",
            "placeholder": "​",
            "style": "IPY_MODEL_ef97d83bba984849a3b697326fcc8994",
            "value": " 120M/120M [00:03&lt;00:00, 39.6MB/s]"
          }
        },
        "581609a31dd54fb6831dd4d2ed5bc810": {
          "model_module": "@jupyter-widgets/base",
          "model_name": "LayoutModel",
          "model_module_version": "1.2.0",
          "state": {
            "_model_module": "@jupyter-widgets/base",
            "_model_module_version": "1.2.0",
            "_model_name": "LayoutModel",
            "_view_count": null,
            "_view_module": "@jupyter-widgets/base",
            "_view_module_version": "1.2.0",
            "_view_name": "LayoutView",
            "align_content": null,
            "align_items": null,
            "align_self": null,
            "border": null,
            "bottom": null,
            "display": null,
            "flex": null,
            "flex_flow": null,
            "grid_area": null,
            "grid_auto_columns": null,
            "grid_auto_flow": null,
            "grid_auto_rows": null,
            "grid_column": null,
            "grid_gap": null,
            "grid_row": null,
            "grid_template_areas": null,
            "grid_template_columns": null,
            "grid_template_rows": null,
            "height": null,
            "justify_content": null,
            "justify_items": null,
            "left": null,
            "margin": null,
            "max_height": null,
            "max_width": null,
            "min_height": null,
            "min_width": null,
            "object_fit": null,
            "object_position": null,
            "order": null,
            "overflow": null,
            "overflow_x": null,
            "overflow_y": null,
            "padding": null,
            "right": null,
            "top": null,
            "visibility": null,
            "width": null
          }
        },
        "b88766e1ec6c4c4995eb127677f3ec09": {
          "model_module": "@jupyter-widgets/base",
          "model_name": "LayoutModel",
          "model_module_version": "1.2.0",
          "state": {
            "_model_module": "@jupyter-widgets/base",
            "_model_module_version": "1.2.0",
            "_model_name": "LayoutModel",
            "_view_count": null,
            "_view_module": "@jupyter-widgets/base",
            "_view_module_version": "1.2.0",
            "_view_name": "LayoutView",
            "align_content": null,
            "align_items": null,
            "align_self": null,
            "border": null,
            "bottom": null,
            "display": null,
            "flex": null,
            "flex_flow": null,
            "grid_area": null,
            "grid_auto_columns": null,
            "grid_auto_flow": null,
            "grid_auto_rows": null,
            "grid_column": null,
            "grid_gap": null,
            "grid_row": null,
            "grid_template_areas": null,
            "grid_template_columns": null,
            "grid_template_rows": null,
            "height": null,
            "justify_content": null,
            "justify_items": null,
            "left": null,
            "margin": null,
            "max_height": null,
            "max_width": null,
            "min_height": null,
            "min_width": null,
            "object_fit": null,
            "object_position": null,
            "order": null,
            "overflow": null,
            "overflow_x": null,
            "overflow_y": null,
            "padding": null,
            "right": null,
            "top": null,
            "visibility": null,
            "width": null
          }
        },
        "c0f499b519654974ab1b37b8d21be3e0": {
          "model_module": "@jupyter-widgets/controls",
          "model_name": "DescriptionStyleModel",
          "model_module_version": "1.5.0",
          "state": {
            "_model_module": "@jupyter-widgets/controls",
            "_model_module_version": "1.5.0",
            "_model_name": "DescriptionStyleModel",
            "_view_count": null,
            "_view_module": "@jupyter-widgets/base",
            "_view_module_version": "1.2.0",
            "_view_name": "StyleView",
            "description_width": ""
          }
        },
        "880481fb631842d78275b79b2f6b1408": {
          "model_module": "@jupyter-widgets/base",
          "model_name": "LayoutModel",
          "model_module_version": "1.2.0",
          "state": {
            "_model_module": "@jupyter-widgets/base",
            "_model_module_version": "1.2.0",
            "_model_name": "LayoutModel",
            "_view_count": null,
            "_view_module": "@jupyter-widgets/base",
            "_view_module_version": "1.2.0",
            "_view_name": "LayoutView",
            "align_content": null,
            "align_items": null,
            "align_self": null,
            "border": null,
            "bottom": null,
            "display": null,
            "flex": null,
            "flex_flow": null,
            "grid_area": null,
            "grid_auto_columns": null,
            "grid_auto_flow": null,
            "grid_auto_rows": null,
            "grid_column": null,
            "grid_gap": null,
            "grid_row": null,
            "grid_template_areas": null,
            "grid_template_columns": null,
            "grid_template_rows": null,
            "height": null,
            "justify_content": null,
            "justify_items": null,
            "left": null,
            "margin": null,
            "max_height": null,
            "max_width": null,
            "min_height": null,
            "min_width": null,
            "object_fit": null,
            "object_position": null,
            "order": null,
            "overflow": null,
            "overflow_x": null,
            "overflow_y": null,
            "padding": null,
            "right": null,
            "top": null,
            "visibility": null,
            "width": null
          }
        },
        "64d60bf2c09a4a3da21c0c03bd839c4d": {
          "model_module": "@jupyter-widgets/controls",
          "model_name": "ProgressStyleModel",
          "model_module_version": "1.5.0",
          "state": {
            "_model_module": "@jupyter-widgets/controls",
            "_model_module_version": "1.5.0",
            "_model_name": "ProgressStyleModel",
            "_view_count": null,
            "_view_module": "@jupyter-widgets/base",
            "_view_module_version": "1.2.0",
            "_view_name": "StyleView",
            "bar_color": null,
            "description_width": ""
          }
        },
        "b33d9dcd556d449fb863a73c3576c7b0": {
          "model_module": "@jupyter-widgets/base",
          "model_name": "LayoutModel",
          "model_module_version": "1.2.0",
          "state": {
            "_model_module": "@jupyter-widgets/base",
            "_model_module_version": "1.2.0",
            "_model_name": "LayoutModel",
            "_view_count": null,
            "_view_module": "@jupyter-widgets/base",
            "_view_module_version": "1.2.0",
            "_view_name": "LayoutView",
            "align_content": null,
            "align_items": null,
            "align_self": null,
            "border": null,
            "bottom": null,
            "display": null,
            "flex": null,
            "flex_flow": null,
            "grid_area": null,
            "grid_auto_columns": null,
            "grid_auto_flow": null,
            "grid_auto_rows": null,
            "grid_column": null,
            "grid_gap": null,
            "grid_row": null,
            "grid_template_areas": null,
            "grid_template_columns": null,
            "grid_template_rows": null,
            "height": null,
            "justify_content": null,
            "justify_items": null,
            "left": null,
            "margin": null,
            "max_height": null,
            "max_width": null,
            "min_height": null,
            "min_width": null,
            "object_fit": null,
            "object_position": null,
            "order": null,
            "overflow": null,
            "overflow_x": null,
            "overflow_y": null,
            "padding": null,
            "right": null,
            "top": null,
            "visibility": null,
            "width": null
          }
        },
        "ef97d83bba984849a3b697326fcc8994": {
          "model_module": "@jupyter-widgets/controls",
          "model_name": "DescriptionStyleModel",
          "model_module_version": "1.5.0",
          "state": {
            "_model_module": "@jupyter-widgets/controls",
            "_model_module_version": "1.5.0",
            "_model_name": "DescriptionStyleModel",
            "_view_count": null,
            "_view_module": "@jupyter-widgets/base",
            "_view_module_version": "1.2.0",
            "_view_name": "StyleView",
            "description_width": ""
          }
        },
        "8cb9dcfbbeba453ea9fe7c2d2c764a18": {
          "model_module": "@jupyter-widgets/controls",
          "model_name": "HBoxModel",
          "model_module_version": "1.5.0",
          "state": {
            "_dom_classes": [],
            "_model_module": "@jupyter-widgets/controls",
            "_model_module_version": "1.5.0",
            "_model_name": "HBoxModel",
            "_view_count": null,
            "_view_module": "@jupyter-widgets/controls",
            "_view_module_version": "1.5.0",
            "_view_name": "HBoxView",
            "box_style": "",
            "children": [
              "IPY_MODEL_18df70c39ab7458a8e909121886e572f",
              "IPY_MODEL_17c0bd9a1f81456984f339d053051a50",
              "IPY_MODEL_3adc21576fec42b4a199343f9f5c03ce"
            ],
            "layout": "IPY_MODEL_b6cbc47e760e49f8a605f4fd1eee86ae"
          }
        },
        "18df70c39ab7458a8e909121886e572f": {
          "model_module": "@jupyter-widgets/controls",
          "model_name": "HTMLModel",
          "model_module_version": "1.5.0",
          "state": {
            "_dom_classes": [],
            "_model_module": "@jupyter-widgets/controls",
            "_model_module_version": "1.5.0",
            "_model_name": "HTMLModel",
            "_view_count": null,
            "_view_module": "@jupyter-widgets/controls",
            "_view_module_version": "1.5.0",
            "_view_name": "HTMLView",
            "description": "",
            "description_tooltip": null,
            "layout": "IPY_MODEL_106abe20e36e4ff49b7a682b2e458eff",
            "placeholder": "​",
            "style": "IPY_MODEL_8bab8775c7ac413abcca45929c1688f0",
            "value": "training_args.bin: 100%"
          }
        },
        "17c0bd9a1f81456984f339d053051a50": {
          "model_module": "@jupyter-widgets/controls",
          "model_name": "FloatProgressModel",
          "model_module_version": "1.5.0",
          "state": {
            "_dom_classes": [],
            "_model_module": "@jupyter-widgets/controls",
            "_model_module_version": "1.5.0",
            "_model_name": "FloatProgressModel",
            "_view_count": null,
            "_view_module": "@jupyter-widgets/controls",
            "_view_module_version": "1.5.0",
            "_view_name": "ProgressView",
            "bar_style": "success",
            "description": "",
            "description_tooltip": null,
            "layout": "IPY_MODEL_4f24d80f6c75443ebc8bf14674d7df12",
            "max": 5624,
            "min": 0,
            "orientation": "horizontal",
            "style": "IPY_MODEL_c443b921247f4c939eab3eb073b4fe58",
            "value": 5624
          }
        },
        "3adc21576fec42b4a199343f9f5c03ce": {
          "model_module": "@jupyter-widgets/controls",
          "model_name": "HTMLModel",
          "model_module_version": "1.5.0",
          "state": {
            "_dom_classes": [],
            "_model_module": "@jupyter-widgets/controls",
            "_model_module_version": "1.5.0",
            "_model_name": "HTMLModel",
            "_view_count": null,
            "_view_module": "@jupyter-widgets/controls",
            "_view_module_version": "1.5.0",
            "_view_name": "HTMLView",
            "description": "",
            "description_tooltip": null,
            "layout": "IPY_MODEL_d56ce282a0794bcbb5e9145bfeffa294",
            "placeholder": "​",
            "style": "IPY_MODEL_4fb413dcbfa140109a23e074cc0d5fd4",
            "value": " 5.62k/5.62k [00:00&lt;00:00, 43.4kB/s]"
          }
        },
        "b6cbc47e760e49f8a605f4fd1eee86ae": {
          "model_module": "@jupyter-widgets/base",
          "model_name": "LayoutModel",
          "model_module_version": "1.2.0",
          "state": {
            "_model_module": "@jupyter-widgets/base",
            "_model_module_version": "1.2.0",
            "_model_name": "LayoutModel",
            "_view_count": null,
            "_view_module": "@jupyter-widgets/base",
            "_view_module_version": "1.2.0",
            "_view_name": "LayoutView",
            "align_content": null,
            "align_items": null,
            "align_self": null,
            "border": null,
            "bottom": null,
            "display": null,
            "flex": null,
            "flex_flow": null,
            "grid_area": null,
            "grid_auto_columns": null,
            "grid_auto_flow": null,
            "grid_auto_rows": null,
            "grid_column": null,
            "grid_gap": null,
            "grid_row": null,
            "grid_template_areas": null,
            "grid_template_columns": null,
            "grid_template_rows": null,
            "height": null,
            "justify_content": null,
            "justify_items": null,
            "left": null,
            "margin": null,
            "max_height": null,
            "max_width": null,
            "min_height": null,
            "min_width": null,
            "object_fit": null,
            "object_position": null,
            "order": null,
            "overflow": null,
            "overflow_x": null,
            "overflow_y": null,
            "padding": null,
            "right": null,
            "top": null,
            "visibility": null,
            "width": null
          }
        },
        "106abe20e36e4ff49b7a682b2e458eff": {
          "model_module": "@jupyter-widgets/base",
          "model_name": "LayoutModel",
          "model_module_version": "1.2.0",
          "state": {
            "_model_module": "@jupyter-widgets/base",
            "_model_module_version": "1.2.0",
            "_model_name": "LayoutModel",
            "_view_count": null,
            "_view_module": "@jupyter-widgets/base",
            "_view_module_version": "1.2.0",
            "_view_name": "LayoutView",
            "align_content": null,
            "align_items": null,
            "align_self": null,
            "border": null,
            "bottom": null,
            "display": null,
            "flex": null,
            "flex_flow": null,
            "grid_area": null,
            "grid_auto_columns": null,
            "grid_auto_flow": null,
            "grid_auto_rows": null,
            "grid_column": null,
            "grid_gap": null,
            "grid_row": null,
            "grid_template_areas": null,
            "grid_template_columns": null,
            "grid_template_rows": null,
            "height": null,
            "justify_content": null,
            "justify_items": null,
            "left": null,
            "margin": null,
            "max_height": null,
            "max_width": null,
            "min_height": null,
            "min_width": null,
            "object_fit": null,
            "object_position": null,
            "order": null,
            "overflow": null,
            "overflow_x": null,
            "overflow_y": null,
            "padding": null,
            "right": null,
            "top": null,
            "visibility": null,
            "width": null
          }
        },
        "8bab8775c7ac413abcca45929c1688f0": {
          "model_module": "@jupyter-widgets/controls",
          "model_name": "DescriptionStyleModel",
          "model_module_version": "1.5.0",
          "state": {
            "_model_module": "@jupyter-widgets/controls",
            "_model_module_version": "1.5.0",
            "_model_name": "DescriptionStyleModel",
            "_view_count": null,
            "_view_module": "@jupyter-widgets/base",
            "_view_module_version": "1.2.0",
            "_view_name": "StyleView",
            "description_width": ""
          }
        },
        "4f24d80f6c75443ebc8bf14674d7df12": {
          "model_module": "@jupyter-widgets/base",
          "model_name": "LayoutModel",
          "model_module_version": "1.2.0",
          "state": {
            "_model_module": "@jupyter-widgets/base",
            "_model_module_version": "1.2.0",
            "_model_name": "LayoutModel",
            "_view_count": null,
            "_view_module": "@jupyter-widgets/base",
            "_view_module_version": "1.2.0",
            "_view_name": "LayoutView",
            "align_content": null,
            "align_items": null,
            "align_self": null,
            "border": null,
            "bottom": null,
            "display": null,
            "flex": null,
            "flex_flow": null,
            "grid_area": null,
            "grid_auto_columns": null,
            "grid_auto_flow": null,
            "grid_auto_rows": null,
            "grid_column": null,
            "grid_gap": null,
            "grid_row": null,
            "grid_template_areas": null,
            "grid_template_columns": null,
            "grid_template_rows": null,
            "height": null,
            "justify_content": null,
            "justify_items": null,
            "left": null,
            "margin": null,
            "max_height": null,
            "max_width": null,
            "min_height": null,
            "min_width": null,
            "object_fit": null,
            "object_position": null,
            "order": null,
            "overflow": null,
            "overflow_x": null,
            "overflow_y": null,
            "padding": null,
            "right": null,
            "top": null,
            "visibility": null,
            "width": null
          }
        },
        "c443b921247f4c939eab3eb073b4fe58": {
          "model_module": "@jupyter-widgets/controls",
          "model_name": "ProgressStyleModel",
          "model_module_version": "1.5.0",
          "state": {
            "_model_module": "@jupyter-widgets/controls",
            "_model_module_version": "1.5.0",
            "_model_name": "ProgressStyleModel",
            "_view_count": null,
            "_view_module": "@jupyter-widgets/base",
            "_view_module_version": "1.2.0",
            "_view_name": "StyleView",
            "bar_color": null,
            "description_width": ""
          }
        },
        "d56ce282a0794bcbb5e9145bfeffa294": {
          "model_module": "@jupyter-widgets/base",
          "model_name": "LayoutModel",
          "model_module_version": "1.2.0",
          "state": {
            "_model_module": "@jupyter-widgets/base",
            "_model_module_version": "1.2.0",
            "_model_name": "LayoutModel",
            "_view_count": null,
            "_view_module": "@jupyter-widgets/base",
            "_view_module_version": "1.2.0",
            "_view_name": "LayoutView",
            "align_content": null,
            "align_items": null,
            "align_self": null,
            "border": null,
            "bottom": null,
            "display": null,
            "flex": null,
            "flex_flow": null,
            "grid_area": null,
            "grid_auto_columns": null,
            "grid_auto_flow": null,
            "grid_auto_rows": null,
            "grid_column": null,
            "grid_gap": null,
            "grid_row": null,
            "grid_template_areas": null,
            "grid_template_columns": null,
            "grid_template_rows": null,
            "height": null,
            "justify_content": null,
            "justify_items": null,
            "left": null,
            "margin": null,
            "max_height": null,
            "max_width": null,
            "min_height": null,
            "min_width": null,
            "object_fit": null,
            "object_position": null,
            "order": null,
            "overflow": null,
            "overflow_x": null,
            "overflow_y": null,
            "padding": null,
            "right": null,
            "top": null,
            "visibility": null,
            "width": null
          }
        },
        "4fb413dcbfa140109a23e074cc0d5fd4": {
          "model_module": "@jupyter-widgets/controls",
          "model_name": "DescriptionStyleModel",
          "model_module_version": "1.5.0",
          "state": {
            "_model_module": "@jupyter-widgets/controls",
            "_model_module_version": "1.5.0",
            "_model_name": "DescriptionStyleModel",
            "_view_count": null,
            "_view_module": "@jupyter-widgets/base",
            "_view_module_version": "1.2.0",
            "_view_name": "StyleView",
            "description_width": ""
          }
        },
        "a48a45c60c6d4b1685564e171e5862f1": {
          "model_module": "@jupyter-widgets/controls",
          "model_name": "HBoxModel",
          "model_module_version": "1.5.0",
          "state": {
            "_dom_classes": [],
            "_model_module": "@jupyter-widgets/controls",
            "_model_module_version": "1.5.0",
            "_model_name": "HBoxModel",
            "_view_count": null,
            "_view_module": "@jupyter-widgets/controls",
            "_view_module_version": "1.5.0",
            "_view_name": "HBoxView",
            "box_style": "",
            "children": [
              "IPY_MODEL_8669779f36a14b2b86f10e66599a3c70",
              "IPY_MODEL_6ee48a8bd7e4423aba64198e6b14958c",
              "IPY_MODEL_b1fa923842a64e84b146c55c2878af99"
            ],
            "layout": "IPY_MODEL_f1ba32ba6c93490ab65b6589d0836775"
          }
        },
        "8669779f36a14b2b86f10e66599a3c70": {
          "model_module": "@jupyter-widgets/controls",
          "model_name": "HTMLModel",
          "model_module_version": "1.5.0",
          "state": {
            "_dom_classes": [],
            "_model_module": "@jupyter-widgets/controls",
            "_model_module_version": "1.5.0",
            "_model_name": "HTMLModel",
            "_view_count": null,
            "_view_module": "@jupyter-widgets/controls",
            "_view_module_version": "1.5.0",
            "_view_name": "HTMLView",
            "description": "",
            "description_tooltip": null,
            "layout": "IPY_MODEL_9f3b9dea2bda4f9b9452669ad4f1120c",
            "placeholder": "​",
            "style": "IPY_MODEL_a8a5d7cfffc8445dabbbebedd2d6ca5b",
            "value": "Upload 2 LFS files: 100%"
          }
        },
        "6ee48a8bd7e4423aba64198e6b14958c": {
          "model_module": "@jupyter-widgets/controls",
          "model_name": "FloatProgressModel",
          "model_module_version": "1.5.0",
          "state": {
            "_dom_classes": [],
            "_model_module": "@jupyter-widgets/controls",
            "_model_module_version": "1.5.0",
            "_model_name": "FloatProgressModel",
            "_view_count": null,
            "_view_module": "@jupyter-widgets/controls",
            "_view_module_version": "1.5.0",
            "_view_name": "ProgressView",
            "bar_style": "success",
            "description": "",
            "description_tooltip": null,
            "layout": "IPY_MODEL_a8597d2cf90740fe86e7a5b72a8ad44b",
            "max": 2,
            "min": 0,
            "orientation": "horizontal",
            "style": "IPY_MODEL_c96f4a6e20204ff98fd5d615800aad35",
            "value": 2
          }
        },
        "b1fa923842a64e84b146c55c2878af99": {
          "model_module": "@jupyter-widgets/controls",
          "model_name": "HTMLModel",
          "model_module_version": "1.5.0",
          "state": {
            "_dom_classes": [],
            "_model_module": "@jupyter-widgets/controls",
            "_model_module_version": "1.5.0",
            "_model_name": "HTMLModel",
            "_view_count": null,
            "_view_module": "@jupyter-widgets/controls",
            "_view_module_version": "1.5.0",
            "_view_name": "HTMLView",
            "description": "",
            "description_tooltip": null,
            "layout": "IPY_MODEL_36fce71a7ee24f419c9bee2b0dba8b79",
            "placeholder": "​",
            "style": "IPY_MODEL_dc25527fdec14c7a9139a8d2b1fb720c",
            "value": " 2/2 [00:03&lt;00:00,  3.36s/it]"
          }
        },
        "f1ba32ba6c93490ab65b6589d0836775": {
          "model_module": "@jupyter-widgets/base",
          "model_name": "LayoutModel",
          "model_module_version": "1.2.0",
          "state": {
            "_model_module": "@jupyter-widgets/base",
            "_model_module_version": "1.2.0",
            "_model_name": "LayoutModel",
            "_view_count": null,
            "_view_module": "@jupyter-widgets/base",
            "_view_module_version": "1.2.0",
            "_view_name": "LayoutView",
            "align_content": null,
            "align_items": null,
            "align_self": null,
            "border": null,
            "bottom": null,
            "display": null,
            "flex": null,
            "flex_flow": null,
            "grid_area": null,
            "grid_auto_columns": null,
            "grid_auto_flow": null,
            "grid_auto_rows": null,
            "grid_column": null,
            "grid_gap": null,
            "grid_row": null,
            "grid_template_areas": null,
            "grid_template_columns": null,
            "grid_template_rows": null,
            "height": null,
            "justify_content": null,
            "justify_items": null,
            "left": null,
            "margin": null,
            "max_height": null,
            "max_width": null,
            "min_height": null,
            "min_width": null,
            "object_fit": null,
            "object_position": null,
            "order": null,
            "overflow": null,
            "overflow_x": null,
            "overflow_y": null,
            "padding": null,
            "right": null,
            "top": null,
            "visibility": null,
            "width": null
          }
        },
        "9f3b9dea2bda4f9b9452669ad4f1120c": {
          "model_module": "@jupyter-widgets/base",
          "model_name": "LayoutModel",
          "model_module_version": "1.2.0",
          "state": {
            "_model_module": "@jupyter-widgets/base",
            "_model_module_version": "1.2.0",
            "_model_name": "LayoutModel",
            "_view_count": null,
            "_view_module": "@jupyter-widgets/base",
            "_view_module_version": "1.2.0",
            "_view_name": "LayoutView",
            "align_content": null,
            "align_items": null,
            "align_self": null,
            "border": null,
            "bottom": null,
            "display": null,
            "flex": null,
            "flex_flow": null,
            "grid_area": null,
            "grid_auto_columns": null,
            "grid_auto_flow": null,
            "grid_auto_rows": null,
            "grid_column": null,
            "grid_gap": null,
            "grid_row": null,
            "grid_template_areas": null,
            "grid_template_columns": null,
            "grid_template_rows": null,
            "height": null,
            "justify_content": null,
            "justify_items": null,
            "left": null,
            "margin": null,
            "max_height": null,
            "max_width": null,
            "min_height": null,
            "min_width": null,
            "object_fit": null,
            "object_position": null,
            "order": null,
            "overflow": null,
            "overflow_x": null,
            "overflow_y": null,
            "padding": null,
            "right": null,
            "top": null,
            "visibility": null,
            "width": null
          }
        },
        "a8a5d7cfffc8445dabbbebedd2d6ca5b": {
          "model_module": "@jupyter-widgets/controls",
          "model_name": "DescriptionStyleModel",
          "model_module_version": "1.5.0",
          "state": {
            "_model_module": "@jupyter-widgets/controls",
            "_model_module_version": "1.5.0",
            "_model_name": "DescriptionStyleModel",
            "_view_count": null,
            "_view_module": "@jupyter-widgets/base",
            "_view_module_version": "1.2.0",
            "_view_name": "StyleView",
            "description_width": ""
          }
        },
        "a8597d2cf90740fe86e7a5b72a8ad44b": {
          "model_module": "@jupyter-widgets/base",
          "model_name": "LayoutModel",
          "model_module_version": "1.2.0",
          "state": {
            "_model_module": "@jupyter-widgets/base",
            "_model_module_version": "1.2.0",
            "_model_name": "LayoutModel",
            "_view_count": null,
            "_view_module": "@jupyter-widgets/base",
            "_view_module_version": "1.2.0",
            "_view_name": "LayoutView",
            "align_content": null,
            "align_items": null,
            "align_self": null,
            "border": null,
            "bottom": null,
            "display": null,
            "flex": null,
            "flex_flow": null,
            "grid_area": null,
            "grid_auto_columns": null,
            "grid_auto_flow": null,
            "grid_auto_rows": null,
            "grid_column": null,
            "grid_gap": null,
            "grid_row": null,
            "grid_template_areas": null,
            "grid_template_columns": null,
            "grid_template_rows": null,
            "height": null,
            "justify_content": null,
            "justify_items": null,
            "left": null,
            "margin": null,
            "max_height": null,
            "max_width": null,
            "min_height": null,
            "min_width": null,
            "object_fit": null,
            "object_position": null,
            "order": null,
            "overflow": null,
            "overflow_x": null,
            "overflow_y": null,
            "padding": null,
            "right": null,
            "top": null,
            "visibility": null,
            "width": null
          }
        },
        "c96f4a6e20204ff98fd5d615800aad35": {
          "model_module": "@jupyter-widgets/controls",
          "model_name": "ProgressStyleModel",
          "model_module_version": "1.5.0",
          "state": {
            "_model_module": "@jupyter-widgets/controls",
            "_model_module_version": "1.5.0",
            "_model_name": "ProgressStyleModel",
            "_view_count": null,
            "_view_module": "@jupyter-widgets/base",
            "_view_module_version": "1.2.0",
            "_view_name": "StyleView",
            "bar_color": null,
            "description_width": ""
          }
        },
        "36fce71a7ee24f419c9bee2b0dba8b79": {
          "model_module": "@jupyter-widgets/base",
          "model_name": "LayoutModel",
          "model_module_version": "1.2.0",
          "state": {
            "_model_module": "@jupyter-widgets/base",
            "_model_module_version": "1.2.0",
            "_model_name": "LayoutModel",
            "_view_count": null,
            "_view_module": "@jupyter-widgets/base",
            "_view_module_version": "1.2.0",
            "_view_name": "LayoutView",
            "align_content": null,
            "align_items": null,
            "align_self": null,
            "border": null,
            "bottom": null,
            "display": null,
            "flex": null,
            "flex_flow": null,
            "grid_area": null,
            "grid_auto_columns": null,
            "grid_auto_flow": null,
            "grid_auto_rows": null,
            "grid_column": null,
            "grid_gap": null,
            "grid_row": null,
            "grid_template_areas": null,
            "grid_template_columns": null,
            "grid_template_rows": null,
            "height": null,
            "justify_content": null,
            "justify_items": null,
            "left": null,
            "margin": null,
            "max_height": null,
            "max_width": null,
            "min_height": null,
            "min_width": null,
            "object_fit": null,
            "object_position": null,
            "order": null,
            "overflow": null,
            "overflow_x": null,
            "overflow_y": null,
            "padding": null,
            "right": null,
            "top": null,
            "visibility": null,
            "width": null
          }
        },
        "dc25527fdec14c7a9139a8d2b1fb720c": {
          "model_module": "@jupyter-widgets/controls",
          "model_name": "DescriptionStyleModel",
          "model_module_version": "1.5.0",
          "state": {
            "_model_module": "@jupyter-widgets/controls",
            "_model_module_version": "1.5.0",
            "_model_name": "DescriptionStyleModel",
            "_view_count": null,
            "_view_module": "@jupyter-widgets/base",
            "_view_module_version": "1.2.0",
            "_view_name": "StyleView",
            "description_width": ""
          }
        }
      }
    }
  },
  "cells": [
    {
      "cell_type": "markdown",
      "metadata": {
        "id": "view-in-github",
        "colab_type": "text"
      },
      "source": [
        "<a href=\"https://colab.research.google.com/github/WaliMuhammadAhmad/CODEX-FINETUNNING/blob/main/Kaggle_to_hf.ipynb\" target=\"_parent\"><img src=\"https://colab.research.google.com/assets/colab-badge.svg\" alt=\"Open In Colab\"/></a>"
      ]
    },
    {
      "cell_type": "code",
      "execution_count": 1,
      "metadata": {
        "id": "4Nj4M6rL6SFL"
      },
      "outputs": [],
      "source": [
        "%%capture\n",
        "%pip install kaggle huggingface_hub"
      ]
    },
    {
      "cell_type": "code",
      "source": [
        "import os\n",
        "import json\n",
        "import shutil\n",
        "from huggingface_hub import login, HfApi, create_repo"
      ],
      "metadata": {
        "id": "dSvK1FFS6akW"
      },
      "execution_count": 3,
      "outputs": []
    },
    {
      "cell_type": "code",
      "source": [
        "from google.colab import userdata\n",
        "login(userdata.get('HF_TOKEN'),add_to_git_credential=True)"
      ],
      "metadata": {
        "colab": {
          "base_uri": "https://localhost:8080/"
        },
        "id": "w3zjGUx-64k4",
        "outputId": "d7c5d6a9-cc36-41fb-b91e-e20495290bff"
      },
      "execution_count": 4,
      "outputs": [
        {
          "output_type": "stream",
          "name": "stdout",
          "text": [
            "Token is valid (permission: write).\n",
            "Your token has been saved in your configured git credential helpers (store).\n",
            "Your token has been saved to /root/.cache/huggingface/token\n",
            "Login successful\n"
          ]
        }
      ]
    },
    {
      "cell_type": "code",
      "source": [
        "with open('kaggle.json', 'r') as file:\n",
        "    data = json.load(file)\n",
        "    os.environ['KAGGLE_USERNAME'] = data['username']\n",
        "    os.environ['KAGGLE_KEY'] = data['key']"
      ],
      "metadata": {
        "id": "0CkPqQPYACIT"
      },
      "execution_count": 9,
      "outputs": []
    },
    {
      "cell_type": "code",
      "source": [
        "!kaggle kernels output walimuhammadahmad/deepseek-coder-ipynb -p ./"
      ],
      "metadata": {
        "colab": {
          "base_uri": "https://localhost:8080/"
        },
        "id": "rwVetu5r6_4B",
        "outputId": "63fc4840-04fe-42ba-b155-17822a2ae46d"
      },
      "execution_count": 22,
      "outputs": [
        {
          "output_type": "stream",
          "name": "stdout",
          "text": [
            "Output file downloaded to ./config.yaml\n",
            "Output file downloaded to ./finetune/.git/HEAD\n",
            "Output file downloaded to ./finetune/.git/config\n",
            "Output file downloaded to ./finetune/.git/description\n",
            "Output file downloaded to ./finetune/.git/hooks/applypatch-msg.sample\n",
            "Output file downloaded to ./finetune/.git/hooks/commit-msg.sample\n",
            "Output file downloaded to ./finetune/.git/hooks/fsmonitor-watchman.sample\n",
            "Output file downloaded to ./finetune/.git/hooks/post-update.sample\n",
            "Output file downloaded to ./finetune/.git/hooks/pre-applypatch.sample\n",
            "Output file downloaded to ./finetune/.git/hooks/pre-commit.sample\n",
            "Output file downloaded to ./finetune/.git/hooks/pre-merge-commit.sample\n",
            "Output file downloaded to ./finetune/.git/hooks/pre-push.sample\n",
            "Output file downloaded to ./finetune/.git/hooks/pre-rebase.sample\n",
            "Output file downloaded to ./finetune/.git/hooks/pre-receive.sample\n",
            "Output file downloaded to ./finetune/.git/hooks/prepare-commit-msg.sample\n",
            "Output file downloaded to ./finetune/.git/hooks/push-to-checkout.sample\n",
            "Output file downloaded to ./finetune/.git/hooks/update.sample\n",
            "Output file downloaded to ./finetune/.git/index\n",
            "Output file downloaded to ./finetune/.git/info/exclude\n",
            "Output file downloaded to ./finetune/.git/logs/HEAD\n",
            "Output file downloaded to ./finetune/.git/logs/refs/heads/main\n",
            "Output file downloaded to ./finetune/.git/logs/refs/remotes/origin/HEAD\n",
            "Output file downloaded to ./finetune/.git/objects/pack/pack-ffd762b1131dabfc5287e095892b021d124f2088.idx\n",
            "Output file downloaded to ./finetune/.git/objects/pack/pack-ffd762b1131dabfc5287e095892b021d124f2088.pack\n",
            "Output file downloaded to ./finetune/.git/packed-refs\n",
            "Output file downloaded to ./finetune/.git/refs/heads/main\n",
            "Output file downloaded to ./finetune/.git/refs/remotes/origin/HEAD\n",
            "Output file downloaded to ./finetune/.gitignore\n",
            "Output file downloaded to ./finetune/coder_config.yaml\n",
            "Output file downloaded to ./finetune/config.yaml\n",
            "Output file downloaded to ./finetune/deepspeed_config.yaml\n",
            "Output file downloaded to ./finetune/run.sh\n",
            "Output file downloaded to ./finetune/sft.py\n",
            "Output file downloaded to ./finetune/src/__init__.py\n",
            "Output file downloaded to ./finetune/src/__pycache__/__init__.cpython-310.pyc\n",
            "Output file downloaded to ./finetune/src/configs/__init__.py\n",
            "Output file downloaded to ./finetune/src/configs/__pycache__/__init__.cpython-310.pyc\n",
            "Output file downloaded to ./finetune/src/configs/__pycache__/data.cpython-310.pyc\n",
            "Output file downloaded to ./finetune/src/configs/__pycache__/sft.cpython-310.pyc\n",
            "Output file downloaded to ./finetune/src/configs/data.py\n",
            "Output file downloaded to ./finetune/src/configs/sft.py\n",
            "Output file downloaded to ./finetune/src/utils/__init__.py\n",
            "Output file downloaded to ./finetune/src/utils/__pycache__/__init__.cpython-310.pyc\n",
            "Output file downloaded to ./finetune/src/utils/__pycache__/data.cpython-310.pyc\n",
            "Output file downloaded to ./finetune/src/utils/__pycache__/utils.cpython-310.pyc\n",
            "Output file downloaded to ./finetune/src/utils/data.py\n",
            "Output file downloaded to ./finetune/src/utils/utils.py\n",
            "Output file downloaded to ./output/README.md\n",
            "Output file downloaded to ./output/adapter_config.json\n",
            "Output file downloaded to ./output/adapter_model.safetensors\n",
            "Output file downloaded to ./output/all_results.json\n",
            "Output file downloaded to ./output/config.json\n",
            "Output file downloaded to ./output/eval_results.json\n",
            "Output file downloaded to ./output/special_tokens_map.json\n",
            "Output file downloaded to ./output/tokenizer.json\n",
            "Output file downloaded to ./output/tokenizer_config.json\n",
            "Output file downloaded to ./output/train_results.json\n",
            "Output file downloaded to ./output/trainer_state.json\n",
            "Output file downloaded to ./output/training_args.bin\n",
            "Output file downloaded to ./wandb/run-20240909_162918-sft_00/files/code/finetune/sft.py\n",
            "Output file downloaded to ./wandb/run-20240909_162918-sft_00/files/conda-environment.yaml\n",
            "Output file downloaded to ./wandb/run-20240909_162918-sft_00/files/config.yaml\n",
            "Output file downloaded to ./wandb/run-20240909_162918-sft_00/files/output.log\n",
            "Output file downloaded to ./wandb/run-20240909_162918-sft_00/files/requirements.txt\n",
            "Output file downloaded to ./wandb/run-20240909_162918-sft_00/files/wandb-metadata.json\n",
            "Output file downloaded to ./wandb/run-20240909_162918-sft_00/files/wandb-summary.json\n",
            "Output file downloaded to ./wandb/run-20240909_162918-sft_00/logs/debug-internal.log\n",
            "Output file downloaded to ./wandb/run-20240909_162918-sft_00/logs/debug.log\n",
            "Output file downloaded to ./wandb/run-20240909_162918-sft_00/run-sft_00.wandb\n",
            "Kernel log downloaded to ./deepseek-coder-ipynb.log \n"
          ]
        }
      ]
    },
    {
      "cell_type": "code",
      "source": [
        "repo_url = f\"CodexAI/deepseek-coder-1.3b\""
      ],
      "metadata": {
        "id": "RMTvGGgF7G-x"
      },
      "execution_count": 23,
      "outputs": []
    },
    {
      "cell_type": "code",
      "source": [
        "create_repo(repo_url, repo_type=\"model\", private=True,exist_ok=True)"
      ],
      "metadata": {
        "colab": {
          "base_uri": "https://localhost:8080/",
          "height": 53
        },
        "id": "H-AtEGVKCGni",
        "outputId": "e35f2114-1da1-4b33-d8e4-1e9a7a2be714"
      },
      "execution_count": 24,
      "outputs": [
        {
          "output_type": "execute_result",
          "data": {
            "text/plain": [
              "RepoUrl('https://huggingface.co/CodexAI/deepseek-coder-1.3b', endpoint='https://huggingface.co', repo_type='model', repo_id='CodexAI/deepseek-coder-1.3b')"
            ],
            "application/vnd.google.colaboratory.intrinsic+json": {
              "type": "string"
            }
          },
          "metadata": {},
          "execution_count": 24
        }
      ]
    },
    {
      "cell_type": "code",
      "source": [
        "api = HfApi()\n",
        "api.upload_folder(folder_path='output',repo_id=repo_url)"
      ],
      "metadata": {
        "colab": {
          "base_uri": "https://localhost:8080/",
          "height": 167,
          "referenced_widgets": [
            "ce049f971bcd4a9480e060559161ca3d",
            "c7b92ec78d56449681ec850a1f357692",
            "34835dcff034472583649dcd7d519721",
            "491c4a4b3f014aa5bee62a20d5e96a79",
            "581609a31dd54fb6831dd4d2ed5bc810",
            "b88766e1ec6c4c4995eb127677f3ec09",
            "c0f499b519654974ab1b37b8d21be3e0",
            "880481fb631842d78275b79b2f6b1408",
            "64d60bf2c09a4a3da21c0c03bd839c4d",
            "b33d9dcd556d449fb863a73c3576c7b0",
            "ef97d83bba984849a3b697326fcc8994",
            "8cb9dcfbbeba453ea9fe7c2d2c764a18",
            "18df70c39ab7458a8e909121886e572f",
            "17c0bd9a1f81456984f339d053051a50",
            "3adc21576fec42b4a199343f9f5c03ce",
            "b6cbc47e760e49f8a605f4fd1eee86ae",
            "106abe20e36e4ff49b7a682b2e458eff",
            "8bab8775c7ac413abcca45929c1688f0",
            "4f24d80f6c75443ebc8bf14674d7df12",
            "c443b921247f4c939eab3eb073b4fe58",
            "d56ce282a0794bcbb5e9145bfeffa294",
            "4fb413dcbfa140109a23e074cc0d5fd4",
            "a48a45c60c6d4b1685564e171e5862f1",
            "8669779f36a14b2b86f10e66599a3c70",
            "6ee48a8bd7e4423aba64198e6b14958c",
            "b1fa923842a64e84b146c55c2878af99",
            "f1ba32ba6c93490ab65b6589d0836775",
            "9f3b9dea2bda4f9b9452669ad4f1120c",
            "a8a5d7cfffc8445dabbbebedd2d6ca5b",
            "a8597d2cf90740fe86e7a5b72a8ad44b",
            "c96f4a6e20204ff98fd5d615800aad35",
            "36fce71a7ee24f419c9bee2b0dba8b79",
            "dc25527fdec14c7a9139a8d2b1fb720c"
          ]
        },
        "id": "h8bj9aPcCNC-",
        "outputId": "f07b6543-de2e-49f4-cb99-78d24dd9f141"
      },
      "execution_count": 25,
      "outputs": [
        {
          "output_type": "display_data",
          "data": {
            "text/plain": [
              "adapter_model.safetensors:   0%|          | 0.00/120M [00:00<?, ?B/s]"
            ],
            "application/vnd.jupyter.widget-view+json": {
              "version_major": 2,
              "version_minor": 0,
              "model_id": "ce049f971bcd4a9480e060559161ca3d"
            }
          },
          "metadata": {}
        },
        {
          "output_type": "display_data",
          "data": {
            "text/plain": [
              "training_args.bin:   0%|          | 0.00/5.62k [00:00<?, ?B/s]"
            ],
            "application/vnd.jupyter.widget-view+json": {
              "version_major": 2,
              "version_minor": 0,
              "model_id": "8cb9dcfbbeba453ea9fe7c2d2c764a18"
            }
          },
          "metadata": {}
        },
        {
          "output_type": "display_data",
          "data": {
            "text/plain": [
              "Upload 2 LFS files:   0%|          | 0/2 [00:00<?, ?it/s]"
            ],
            "application/vnd.jupyter.widget-view+json": {
              "version_major": 2,
              "version_minor": 0,
              "model_id": "a48a45c60c6d4b1685564e171e5862f1"
            }
          },
          "metadata": {}
        },
        {
          "output_type": "execute_result",
          "data": {
            "text/plain": [
              "CommitInfo(commit_url='https://huggingface.co/CodexAI/deepseek-coder-1.3b/commit/168ec2343905415a0316112c27474b45aff80665', commit_message='Upload folder using huggingface_hub', commit_description='', oid='168ec2343905415a0316112c27474b45aff80665', pr_url=None, pr_revision=None, pr_num=None)"
            ],
            "application/vnd.google.colaboratory.intrinsic+json": {
              "type": "string"
            }
          },
          "metadata": {},
          "execution_count": 25
        }
      ]
    },
    {
      "cell_type": "code",
      "source": [
        "print('Model uploaded!')"
      ],
      "metadata": {
        "colab": {
          "base_uri": "https://localhost:8080/"
        },
        "id": "RREPNCrHCqyi",
        "outputId": "ef5d223a-c03d-4d0b-a570-f852106cd647"
      },
      "execution_count": 26,
      "outputs": [
        {
          "output_type": "stream",
          "name": "stdout",
          "text": [
            "Model uploaded!\n"
          ]
        }
      ]
    }
  ]
}