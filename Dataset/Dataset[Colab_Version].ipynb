{
  "metadata": {
    "colab": {
      "provenance": []
    },
    "kernelspec": {
      "name": "python3",
      "display_name": "Python 3",
      "language": "python"
    },
    "language_info": {
      "name": "python",
      "version": "3.10.13",
      "mimetype": "text/x-python",
      "codemirror_mode": {
        "name": "ipython",
        "version": 3
      },
      "pygments_lexer": "ipython3",
      "nbconvert_exporter": "python",
      "file_extension": ".py"
    },
    "kaggle": {
      "accelerator": "none",
      "dataSources": [
        {
          "sourceId": 8919149,
          "sourceType": "datasetVersion",
          "datasetId": 5364162
        }
      ],
      "dockerImageVersionId": 30732,
      "isInternetEnabled": true,
      "language": "python",
      "sourceType": "notebook",
      "isGpuEnabled": false
    }
  },
  "nbformat_minor": 0,
  "nbformat": 4,
  "cells": [
    {
      "cell_type": "code",
      "source": [
        "!pip install javalang"
      ],
      "metadata": {
        "execution": {
          "iopub.status.busy": "2024-07-11T09:52:22.677832Z",
          "iopub.execute_input": "2024-07-11T09:52:22.678276Z",
          "iopub.status.idle": "2024-07-11T09:52:36.813769Z",
          "shell.execute_reply.started": "2024-07-11T09:52:22.678242Z",
          "shell.execute_reply": "2024-07-11T09:52:36.812156Z"
        },
        "trusted": true,
        "colab": {
          "base_uri": "https://localhost:8080/"
        },
        "id": "EnfVZ20_OzP0",
        "outputId": "33d95b18-2c80-4329-88bf-5a01180a4cbf"
      },
      "execution_count": 1,
      "outputs": [
        {
          "output_type": "stream",
          "name": "stdout",
          "text": [
            "Collecting javalang\n",
            "  Downloading javalang-0.13.0-py3-none-any.whl (22 kB)\n",
            "Requirement already satisfied: six in /usr/local/lib/python3.10/dist-packages (from javalang) (1.16.0)\n",
            "Installing collected packages: javalang\n",
            "Successfully installed javalang-0.13.0\n"
          ]
        }
      ]
    },
    {
      "cell_type": "code",
      "source": [
        "import pandas as pd\n",
        "import subprocess\n",
        "import javalang\n",
        "import zipfile\n",
        "import shutil\n",
        "import csv\n",
        "import os\n",
        "\n",
        "from urllib.parse import urlparse\n",
        "from javalang.tree import MethodDeclaration, MethodInvocation"
      ],
      "metadata": {
        "id": "uh0A86iWsYL6",
        "execution": {
          "iopub.status.busy": "2024-07-11T09:52:36.816661Z",
          "iopub.execute_input": "2024-07-11T09:52:36.817209Z",
          "iopub.status.idle": "2024-07-11T09:52:37.244385Z",
          "shell.execute_reply.started": "2024-07-11T09:52:36.817166Z",
          "shell.execute_reply": "2024-07-11T09:52:37.243365Z"
        },
        "trusted": true
      },
      "execution_count": 2,
      "outputs": []
    },
    {
      "cell_type": "code",
      "source": [
        "from google.colab import drive\n",
        "drive.mount('/content/drive')"
      ],
      "metadata": {
        "colab": {
          "base_uri": "https://localhost:8080/"
        },
        "id": "sQjfELJ2PaSD",
        "outputId": "e25df713-6ea9-4527-b381-f4020d6535f8"
      },
      "execution_count": 3,
      "outputs": [
        {
          "output_type": "stream",
          "name": "stdout",
          "text": [
            "Mounted at /content/drive\n"
          ]
        }
      ]
    },
    {
      "cell_type": "markdown",
      "source": [
        "### Define variables"
      ],
      "metadata": {
        "id": "DswU2kA6OzP8"
      }
    },
    {
      "cell_type": "code",
      "source": [
        "start_range = 500\n",
        "end_range = 600\n",
        "\n",
        "# Directory to clone repositories\n",
        "target_dir = '/content/repos'\n",
        "\n",
        "repo_df = pd.read_csv('/content/drive/MyDrive/Colab Notebooks/data_info.csv')\n",
        "repo_df.head()"
      ],
      "metadata": {
        "execution": {
          "iopub.status.busy": "2024-07-11T09:52:37.245813Z",
          "iopub.execute_input": "2024-07-11T09:52:37.246383Z",
          "iopub.status.idle": "2024-07-11T09:52:37.296331Z",
          "shell.execute_reply.started": "2024-07-11T09:52:37.246341Z",
          "shell.execute_reply": "2024-07-11T09:52:37.295269Z"
        },
        "trusted": true,
        "colab": {
          "base_uri": "https://localhost:8080/",
          "height": 330
        },
        "id": "Daejkq_XOzP9",
        "outputId": "902a66aa-9558-412c-c27f-77efec395329"
      },
      "execution_count": 4,
      "outputs": [
        {
          "output_type": "execute_result",
          "data": {
            "text/plain": [
              "   Unnamed: 0  ProjectID                       Name  \\\n",
              "0           0  132464395                  JavaGuide   \n",
              "1           1  206462776  GitHub-Chinese-Top-Charts   \n",
              "2           2   22790488       java-design-patterns   \n",
              "3           3  561730219                 hello-algo   \n",
              "4           4  127988011                       mall   \n",
              "\n",
              "                               FullName  Forks   Stars  Watchers  \\\n",
              "0                  Snailclimb/JavaGuide  45411  144730      4522   \n",
              "1  GrowingGit/GitHub-Chinese-Top-Charts  12600   94520      2577   \n",
              "2         iluwatar/java-design-patterns  26207   88316      3780   \n",
              "3                    krahets/hello-algo  10168   79878       459   \n",
              "4                       macrozheng/mall  28527   76479      2232   \n",
              "\n",
              "                                                 URL  \\\n",
              "0  https://api.github.com/repos/Snailclimb/JavaGuide   \n",
              "1  https://api.github.com/repos/GrowingGit/GitHub...   \n",
              "2  https://api.github.com/repos/iluwatar/java-des...   \n",
              "3    https://api.github.com/repos/krahets/hello-algo   \n",
              "4       https://api.github.com/repos/macrozheng/mall   \n",
              "\n",
              "                                             HTMLURL  \n",
              "0            https://github.com/Snailclimb/JavaGuide  \n",
              "1  https://github.com/GrowingGit/GitHub-Chinese-T...  \n",
              "2   https://github.com/iluwatar/java-design-patterns  \n",
              "3              https://github.com/krahets/hello-algo  \n",
              "4                 https://github.com/macrozheng/mall  "
            ],
            "text/html": [
              "\n",
              "  <div id=\"df-eedc41fd-231f-42f6-825a-6c60f11ea47a\" class=\"colab-df-container\">\n",
              "    <div>\n",
              "<style scoped>\n",
              "    .dataframe tbody tr th:only-of-type {\n",
              "        vertical-align: middle;\n",
              "    }\n",
              "\n",
              "    .dataframe tbody tr th {\n",
              "        vertical-align: top;\n",
              "    }\n",
              "\n",
              "    .dataframe thead th {\n",
              "        text-align: right;\n",
              "    }\n",
              "</style>\n",
              "<table border=\"1\" class=\"dataframe\">\n",
              "  <thead>\n",
              "    <tr style=\"text-align: right;\">\n",
              "      <th></th>\n",
              "      <th>Unnamed: 0</th>\n",
              "      <th>ProjectID</th>\n",
              "      <th>Name</th>\n",
              "      <th>FullName</th>\n",
              "      <th>Forks</th>\n",
              "      <th>Stars</th>\n",
              "      <th>Watchers</th>\n",
              "      <th>URL</th>\n",
              "      <th>HTMLURL</th>\n",
              "    </tr>\n",
              "  </thead>\n",
              "  <tbody>\n",
              "    <tr>\n",
              "      <th>0</th>\n",
              "      <td>0</td>\n",
              "      <td>132464395</td>\n",
              "      <td>JavaGuide</td>\n",
              "      <td>Snailclimb/JavaGuide</td>\n",
              "      <td>45411</td>\n",
              "      <td>144730</td>\n",
              "      <td>4522</td>\n",
              "      <td>https://api.github.com/repos/Snailclimb/JavaGuide</td>\n",
              "      <td>https://github.com/Snailclimb/JavaGuide</td>\n",
              "    </tr>\n",
              "    <tr>\n",
              "      <th>1</th>\n",
              "      <td>1</td>\n",
              "      <td>206462776</td>\n",
              "      <td>GitHub-Chinese-Top-Charts</td>\n",
              "      <td>GrowingGit/GitHub-Chinese-Top-Charts</td>\n",
              "      <td>12600</td>\n",
              "      <td>94520</td>\n",
              "      <td>2577</td>\n",
              "      <td>https://api.github.com/repos/GrowingGit/GitHub...</td>\n",
              "      <td>https://github.com/GrowingGit/GitHub-Chinese-T...</td>\n",
              "    </tr>\n",
              "    <tr>\n",
              "      <th>2</th>\n",
              "      <td>2</td>\n",
              "      <td>22790488</td>\n",
              "      <td>java-design-patterns</td>\n",
              "      <td>iluwatar/java-design-patterns</td>\n",
              "      <td>26207</td>\n",
              "      <td>88316</td>\n",
              "      <td>3780</td>\n",
              "      <td>https://api.github.com/repos/iluwatar/java-des...</td>\n",
              "      <td>https://github.com/iluwatar/java-design-patterns</td>\n",
              "    </tr>\n",
              "    <tr>\n",
              "      <th>3</th>\n",
              "      <td>3</td>\n",
              "      <td>561730219</td>\n",
              "      <td>hello-algo</td>\n",
              "      <td>krahets/hello-algo</td>\n",
              "      <td>10168</td>\n",
              "      <td>79878</td>\n",
              "      <td>459</td>\n",
              "      <td>https://api.github.com/repos/krahets/hello-algo</td>\n",
              "      <td>https://github.com/krahets/hello-algo</td>\n",
              "    </tr>\n",
              "    <tr>\n",
              "      <th>4</th>\n",
              "      <td>4</td>\n",
              "      <td>127988011</td>\n",
              "      <td>mall</td>\n",
              "      <td>macrozheng/mall</td>\n",
              "      <td>28527</td>\n",
              "      <td>76479</td>\n",
              "      <td>2232</td>\n",
              "      <td>https://api.github.com/repos/macrozheng/mall</td>\n",
              "      <td>https://github.com/macrozheng/mall</td>\n",
              "    </tr>\n",
              "  </tbody>\n",
              "</table>\n",
              "</div>\n",
              "    <div class=\"colab-df-buttons\">\n",
              "\n",
              "  <div class=\"colab-df-container\">\n",
              "    <button class=\"colab-df-convert\" onclick=\"convertToInteractive('df-eedc41fd-231f-42f6-825a-6c60f11ea47a')\"\n",
              "            title=\"Convert this dataframe to an interactive table.\"\n",
              "            style=\"display:none;\">\n",
              "\n",
              "  <svg xmlns=\"http://www.w3.org/2000/svg\" height=\"24px\" viewBox=\"0 -960 960 960\">\n",
              "    <path d=\"M120-120v-720h720v720H120Zm60-500h600v-160H180v160Zm220 220h160v-160H400v160Zm0 220h160v-160H400v160ZM180-400h160v-160H180v160Zm440 0h160v-160H620v160ZM180-180h160v-160H180v160Zm440 0h160v-160H620v160Z\"/>\n",
              "  </svg>\n",
              "    </button>\n",
              "\n",
              "  <style>\n",
              "    .colab-df-container {\n",
              "      display:flex;\n",
              "      gap: 12px;\n",
              "    }\n",
              "\n",
              "    .colab-df-convert {\n",
              "      background-color: #E8F0FE;\n",
              "      border: none;\n",
              "      border-radius: 50%;\n",
              "      cursor: pointer;\n",
              "      display: none;\n",
              "      fill: #1967D2;\n",
              "      height: 32px;\n",
              "      padding: 0 0 0 0;\n",
              "      width: 32px;\n",
              "    }\n",
              "\n",
              "    .colab-df-convert:hover {\n",
              "      background-color: #E2EBFA;\n",
              "      box-shadow: 0px 1px 2px rgba(60, 64, 67, 0.3), 0px 1px 3px 1px rgba(60, 64, 67, 0.15);\n",
              "      fill: #174EA6;\n",
              "    }\n",
              "\n",
              "    .colab-df-buttons div {\n",
              "      margin-bottom: 4px;\n",
              "    }\n",
              "\n",
              "    [theme=dark] .colab-df-convert {\n",
              "      background-color: #3B4455;\n",
              "      fill: #D2E3FC;\n",
              "    }\n",
              "\n",
              "    [theme=dark] .colab-df-convert:hover {\n",
              "      background-color: #434B5C;\n",
              "      box-shadow: 0px 1px 3px 1px rgba(0, 0, 0, 0.15);\n",
              "      filter: drop-shadow(0px 1px 2px rgba(0, 0, 0, 0.3));\n",
              "      fill: #FFFFFF;\n",
              "    }\n",
              "  </style>\n",
              "\n",
              "    <script>\n",
              "      const buttonEl =\n",
              "        document.querySelector('#df-eedc41fd-231f-42f6-825a-6c60f11ea47a button.colab-df-convert');\n",
              "      buttonEl.style.display =\n",
              "        google.colab.kernel.accessAllowed ? 'block' : 'none';\n",
              "\n",
              "      async function convertToInteractive(key) {\n",
              "        const element = document.querySelector('#df-eedc41fd-231f-42f6-825a-6c60f11ea47a');\n",
              "        const dataTable =\n",
              "          await google.colab.kernel.invokeFunction('convertToInteractive',\n",
              "                                                    [key], {});\n",
              "        if (!dataTable) return;\n",
              "\n",
              "        const docLinkHtml = 'Like what you see? Visit the ' +\n",
              "          '<a target=\"_blank\" href=https://colab.research.google.com/notebooks/data_table.ipynb>data table notebook</a>'\n",
              "          + ' to learn more about interactive tables.';\n",
              "        element.innerHTML = '';\n",
              "        dataTable['output_type'] = 'display_data';\n",
              "        await google.colab.output.renderOutput(dataTable, element);\n",
              "        const docLink = document.createElement('div');\n",
              "        docLink.innerHTML = docLinkHtml;\n",
              "        element.appendChild(docLink);\n",
              "      }\n",
              "    </script>\n",
              "  </div>\n",
              "\n",
              "\n",
              "<div id=\"df-262adb23-a2ee-4501-bfe0-ca2d40ded517\">\n",
              "  <button class=\"colab-df-quickchart\" onclick=\"quickchart('df-262adb23-a2ee-4501-bfe0-ca2d40ded517')\"\n",
              "            title=\"Suggest charts\"\n",
              "            style=\"display:none;\">\n",
              "\n",
              "<svg xmlns=\"http://www.w3.org/2000/svg\" height=\"24px\"viewBox=\"0 0 24 24\"\n",
              "     width=\"24px\">\n",
              "    <g>\n",
              "        <path d=\"M19 3H5c-1.1 0-2 .9-2 2v14c0 1.1.9 2 2 2h14c1.1 0 2-.9 2-2V5c0-1.1-.9-2-2-2zM9 17H7v-7h2v7zm4 0h-2V7h2v10zm4 0h-2v-4h2v4z\"/>\n",
              "    </g>\n",
              "</svg>\n",
              "  </button>\n",
              "\n",
              "<style>\n",
              "  .colab-df-quickchart {\n",
              "      --bg-color: #E8F0FE;\n",
              "      --fill-color: #1967D2;\n",
              "      --hover-bg-color: #E2EBFA;\n",
              "      --hover-fill-color: #174EA6;\n",
              "      --disabled-fill-color: #AAA;\n",
              "      --disabled-bg-color: #DDD;\n",
              "  }\n",
              "\n",
              "  [theme=dark] .colab-df-quickchart {\n",
              "      --bg-color: #3B4455;\n",
              "      --fill-color: #D2E3FC;\n",
              "      --hover-bg-color: #434B5C;\n",
              "      --hover-fill-color: #FFFFFF;\n",
              "      --disabled-bg-color: #3B4455;\n",
              "      --disabled-fill-color: #666;\n",
              "  }\n",
              "\n",
              "  .colab-df-quickchart {\n",
              "    background-color: var(--bg-color);\n",
              "    border: none;\n",
              "    border-radius: 50%;\n",
              "    cursor: pointer;\n",
              "    display: none;\n",
              "    fill: var(--fill-color);\n",
              "    height: 32px;\n",
              "    padding: 0;\n",
              "    width: 32px;\n",
              "  }\n",
              "\n",
              "  .colab-df-quickchart:hover {\n",
              "    background-color: var(--hover-bg-color);\n",
              "    box-shadow: 0 1px 2px rgba(60, 64, 67, 0.3), 0 1px 3px 1px rgba(60, 64, 67, 0.15);\n",
              "    fill: var(--button-hover-fill-color);\n",
              "  }\n",
              "\n",
              "  .colab-df-quickchart-complete:disabled,\n",
              "  .colab-df-quickchart-complete:disabled:hover {\n",
              "    background-color: var(--disabled-bg-color);\n",
              "    fill: var(--disabled-fill-color);\n",
              "    box-shadow: none;\n",
              "  }\n",
              "\n",
              "  .colab-df-spinner {\n",
              "    border: 2px solid var(--fill-color);\n",
              "    border-color: transparent;\n",
              "    border-bottom-color: var(--fill-color);\n",
              "    animation:\n",
              "      spin 1s steps(1) infinite;\n",
              "  }\n",
              "\n",
              "  @keyframes spin {\n",
              "    0% {\n",
              "      border-color: transparent;\n",
              "      border-bottom-color: var(--fill-color);\n",
              "      border-left-color: var(--fill-color);\n",
              "    }\n",
              "    20% {\n",
              "      border-color: transparent;\n",
              "      border-left-color: var(--fill-color);\n",
              "      border-top-color: var(--fill-color);\n",
              "    }\n",
              "    30% {\n",
              "      border-color: transparent;\n",
              "      border-left-color: var(--fill-color);\n",
              "      border-top-color: var(--fill-color);\n",
              "      border-right-color: var(--fill-color);\n",
              "    }\n",
              "    40% {\n",
              "      border-color: transparent;\n",
              "      border-right-color: var(--fill-color);\n",
              "      border-top-color: var(--fill-color);\n",
              "    }\n",
              "    60% {\n",
              "      border-color: transparent;\n",
              "      border-right-color: var(--fill-color);\n",
              "    }\n",
              "    80% {\n",
              "      border-color: transparent;\n",
              "      border-right-color: var(--fill-color);\n",
              "      border-bottom-color: var(--fill-color);\n",
              "    }\n",
              "    90% {\n",
              "      border-color: transparent;\n",
              "      border-bottom-color: var(--fill-color);\n",
              "    }\n",
              "  }\n",
              "</style>\n",
              "\n",
              "  <script>\n",
              "    async function quickchart(key) {\n",
              "      const quickchartButtonEl =\n",
              "        document.querySelector('#' + key + ' button');\n",
              "      quickchartButtonEl.disabled = true;  // To prevent multiple clicks.\n",
              "      quickchartButtonEl.classList.add('colab-df-spinner');\n",
              "      try {\n",
              "        const charts = await google.colab.kernel.invokeFunction(\n",
              "            'suggestCharts', [key], {});\n",
              "      } catch (error) {\n",
              "        console.error('Error during call to suggestCharts:', error);\n",
              "      }\n",
              "      quickchartButtonEl.classList.remove('colab-df-spinner');\n",
              "      quickchartButtonEl.classList.add('colab-df-quickchart-complete');\n",
              "    }\n",
              "    (() => {\n",
              "      let quickchartButtonEl =\n",
              "        document.querySelector('#df-262adb23-a2ee-4501-bfe0-ca2d40ded517 button');\n",
              "      quickchartButtonEl.style.display =\n",
              "        google.colab.kernel.accessAllowed ? 'block' : 'none';\n",
              "    })();\n",
              "  </script>\n",
              "</div>\n",
              "\n",
              "    </div>\n",
              "  </div>\n"
            ],
            "application/vnd.google.colaboratory.intrinsic+json": {
              "type": "dataframe",
              "variable_name": "repo_df",
              "summary": "{\n  \"name\": \"repo_df\",\n  \"rows\": 1020,\n  \"fields\": [\n    {\n      \"column\": \"Unnamed: 0\",\n      \"properties\": {\n        \"dtype\": \"number\",\n        \"std\": 294,\n        \"min\": 0,\n        \"max\": 1019,\n        \"num_unique_values\": 1020,\n        \"samples\": [\n          523,\n          602,\n          526\n        ],\n        \"semantic_type\": \"\",\n        \"description\": \"\"\n      }\n    },\n    {\n      \"column\": \"ProjectID\",\n      \"properties\": {\n        \"dtype\": \"number\",\n        \"std\": 157216102,\n        \"min\": 65885,\n        \"max\": 814708478,\n        \"num_unique_values\": 1020,\n        \"samples\": [\n          8779606,\n          156514718,\n          13045763\n        ],\n        \"semantic_type\": \"\",\n        \"description\": \"\"\n      }\n    },\n    {\n      \"column\": \"Name\",\n      \"properties\": {\n        \"dtype\": \"string\",\n        \"num_unique_values\": 1018,\n        \"samples\": [\n          \"pdfbox\",\n          \"ZeroTermux\",\n          \"NiceVieoPlayer\"\n        ],\n        \"semantic_type\": \"\",\n        \"description\": \"\"\n      }\n    },\n    {\n      \"column\": \"FullName\",\n      \"properties\": {\n        \"dtype\": \"string\",\n        \"num_unique_values\": 1020,\n        \"samples\": [\n          \"assertj/assertj\",\n          \"spring-io/start.spring.io\",\n          \"konsoletyper/teavm\"\n        ],\n        \"semantic_type\": \"\",\n        \"description\": \"\"\n      }\n    },\n    {\n      \"column\": \"Forks\",\n      \"properties\": {\n        \"dtype\": \"number\",\n        \"std\": 3781,\n        \"min\": 46,\n        \"max\": 54398,\n        \"num_unique_values\": 811,\n        \"samples\": [\n          4913,\n          3610,\n          3485\n        ],\n        \"semantic_type\": \"\",\n        \"description\": \"\"\n      }\n    },\n    {\n      \"column\": \"Stars\",\n      \"properties\": {\n        \"dtype\": \"number\",\n        \"std\": 10308,\n        \"min\": 1134,\n        \"max\": 144730,\n        \"num_unique_values\": 922,\n        \"samples\": [\n          4476,\n          3661,\n          2343\n        ],\n        \"semantic_type\": \"\",\n        \"description\": \"\"\n      }\n    },\n    {\n      \"column\": \"Watchers\",\n      \"properties\": {\n        \"dtype\": \"number\",\n        \"std\": 378,\n        \"min\": 5,\n        \"max\": 4522,\n        \"num_unique_values\": 396,\n        \"samples\": [\n          187,\n          83,\n          189\n        ],\n        \"semantic_type\": \"\",\n        \"description\": \"\"\n      }\n    },\n    {\n      \"column\": \"URL\",\n      \"properties\": {\n        \"dtype\": \"string\",\n        \"num_unique_values\": 1020,\n        \"samples\": [\n          \"https://api.github.com/repos/assertj/assertj\",\n          \"https://api.github.com/repos/spring-io/start.spring.io\",\n          \"https://api.github.com/repos/konsoletyper/teavm\"\n        ],\n        \"semantic_type\": \"\",\n        \"description\": \"\"\n      }\n    },\n    {\n      \"column\": \"HTMLURL\",\n      \"properties\": {\n        \"dtype\": \"string\",\n        \"num_unique_values\": 1020,\n        \"samples\": [\n          \"https://github.com/assertj/assertj\",\n          \"https://github.com/spring-io/start.spring.io\",\n          \"https://github.com/konsoletyper/teavm\"\n        ],\n        \"semantic_type\": \"\",\n        \"description\": \"\"\n      }\n    }\n  ]\n}"
            }
          },
          "metadata": {},
          "execution_count": 4
        }
      ]
    },
    {
      "cell_type": "code",
      "source": [
        "repo_df.info()"
      ],
      "metadata": {
        "execution": {
          "iopub.status.busy": "2024-07-11T09:52:37.299006Z",
          "iopub.execute_input": "2024-07-11T09:52:37.299344Z",
          "iopub.status.idle": "2024-07-11T09:52:37.324066Z",
          "shell.execute_reply.started": "2024-07-11T09:52:37.299316Z",
          "shell.execute_reply": "2024-07-11T09:52:37.322889Z"
        },
        "trusted": true,
        "colab": {
          "base_uri": "https://localhost:8080/"
        },
        "id": "Pww7R9lUOzP-",
        "outputId": "525dae7f-5409-4462-fd3c-c173af24df15"
      },
      "execution_count": 5,
      "outputs": [
        {
          "output_type": "stream",
          "name": "stdout",
          "text": [
            "<class 'pandas.core.frame.DataFrame'>\n",
            "RangeIndex: 1020 entries, 0 to 1019\n",
            "Data columns (total 9 columns):\n",
            " #   Column      Non-Null Count  Dtype \n",
            "---  ------      --------------  ----- \n",
            " 0   Unnamed: 0  1020 non-null   int64 \n",
            " 1   ProjectID   1020 non-null   int64 \n",
            " 2   Name        1020 non-null   object\n",
            " 3   FullName    1020 non-null   object\n",
            " 4   Forks       1020 non-null   int64 \n",
            " 5   Stars       1020 non-null   int64 \n",
            " 6   Watchers    1020 non-null   int64 \n",
            " 7   URL         1020 non-null   object\n",
            " 8   HTMLURL     1020 non-null   object\n",
            "dtypes: int64(5), object(4)\n",
            "memory usage: 71.8+ KB\n"
          ]
        }
      ]
    },
    {
      "cell_type": "code",
      "source": [
        "os.makedirs(target_dir, exist_ok=True)\n",
        "print(f\"{target_dir} dir created\")"
      ],
      "metadata": {
        "execution": {
          "iopub.status.busy": "2024-07-11T09:52:37.325427Z",
          "iopub.execute_input": "2024-07-11T09:52:37.325812Z",
          "iopub.status.idle": "2024-07-11T09:52:37.332281Z",
          "shell.execute_reply.started": "2024-07-11T09:52:37.325774Z",
          "shell.execute_reply": "2024-07-11T09:52:37.331061Z"
        },
        "trusted": true,
        "colab": {
          "base_uri": "https://localhost:8080/"
        },
        "id": "otXsQ9zZOzP_",
        "outputId": "82b9e8a1-f2be-4ded-92c5-f5b9889be24a"
      },
      "execution_count": 6,
      "outputs": [
        {
          "output_type": "stream",
          "name": "stdout",
          "text": [
            "/content/repos dir created\n"
          ]
        }
      ]
    },
    {
      "cell_type": "markdown",
      "source": [
        "### Define Functions"
      ],
      "metadata": {
        "id": "06MORA3UOzP_"
      }
    },
    {
      "cell_type": "code",
      "source": [
        "def clone_repos(repo_url, target_dir):\n",
        "\n",
        "    if not os.path.exists(target_dir):\n",
        "        os.makedirs(target_dir)\n",
        "\n",
        "    try:\n",
        "        repo_name = repo_url.split('/')[-1].replace('.git', '')\n",
        "        repo_path = os.path.join(target_dir, repo_name)\n",
        "\n",
        "        if os.path.exists(repo_path):\n",
        "            print(f\"Repository {repo_name} already exists. Skipping clone.\")\n",
        "            return repo_path\n",
        "\n",
        "        print(f\"Cloning {repo_url} into {repo_path}...\")\n",
        "        subprocess.run(['git', 'clone', repo_url, repo_path], check=True)\n",
        "        print(f\"Successfully cloned {repo_url}\")\n",
        "    except subprocess.CalledProcessError as e:\n",
        "        print(f\"Failed to clone {repo_url}: {e}\")\n",
        "\n",
        "    return repo_path"
      ],
      "metadata": {
        "execution": {
          "iopub.status.busy": "2024-07-11T09:52:37.333919Z",
          "iopub.execute_input": "2024-07-11T09:52:37.334457Z",
          "iopub.status.idle": "2024-07-11T09:52:37.346130Z",
          "shell.execute_reply.started": "2024-07-11T09:52:37.334412Z",
          "shell.execute_reply": "2024-07-11T09:52:37.344771Z"
        },
        "trusted": true,
        "id": "FAKXRrr4OzQA"
      },
      "execution_count": 7,
      "outputs": []
    },
    {
      "cell_type": "code",
      "source": [
        "def extract_repo_name(repo_url):\n",
        "    parsed_url = urlparse(repo_url)\n",
        "    path_parts = parsed_url.path.strip('/').split('/')\n",
        "    repo_name = path_parts[-1] if path_parts else None\n",
        "    return repo_name"
      ],
      "metadata": {
        "execution": {
          "iopub.status.busy": "2024-07-11T09:52:37.347820Z",
          "iopub.execute_input": "2024-07-11T09:52:37.348291Z",
          "iopub.status.idle": "2024-07-11T09:52:37.361989Z",
          "shell.execute_reply.started": "2024-07-11T09:52:37.348214Z",
          "shell.execute_reply": "2024-07-11T09:52:37.360713Z"
        },
        "trusted": true,
        "id": "ropVib1jOzQA"
      },
      "execution_count": 8,
      "outputs": []
    },
    {
      "cell_type": "code",
      "source": [
        "def extract_methods_and_tests(repo_dir):\n",
        "    methods_and_tests = []\n",
        "    total_methods = 0\n",
        "    total_test_cases = 0\n",
        "\n",
        "    repo_name = extract_repo_name(repo_dir)\n",
        "    print(f\"Repository: {repo_name}\")\n",
        "\n",
        "    for root, _, files in os.walk(repo_dir):\n",
        "        for file in files:\n",
        "            if file.endswith('.java'):\n",
        "                file_path = os.path.join(root, file)\n",
        "                with open(file_path, 'r', encoding='utf-8') as f:\n",
        "                    code = f.read()\n",
        "                    try:\n",
        "                        tree = javalang.parse.parse(code)\n",
        "                        for path, node in tree.filter(javalang.tree.MethodDeclaration):\n",
        "                            method_name = node.name\n",
        "                            start_line = node.position.line - 1\n",
        "\n",
        "                            if node.body:\n",
        "                                end_line = max(statement.position.line for statement in node.body if statement.position) - 1\n",
        "                            else:\n",
        "                                end_line = start_line\n",
        "\n",
        "                            method_code = '\\n'.join(code.splitlines()[start_line:end_line + 1])\n",
        "\n",
        "                            test_cases = []\n",
        "                            for _, test_node in tree.filter(javalang.tree.MethodDeclaration):\n",
        "                                if ('test' in test_node.name.lower() or\n",
        "                                    any('assert' in statement if isinstance(statement, javalang.tree.StatementExpression) else False for statement in (test_node.body or [])) or\n",
        "                                    any('@Test' in annotation.name for annotation in (test_node.annotations or []))):\n",
        "\n",
        "                                    test_start_line = test_node.position.line - 1\n",
        "                                    if test_node.body:\n",
        "                                        test_end_line = max(statement.position.line for statement in test_node.body if statement.position) - 1\n",
        "                                    else:\n",
        "                                        test_end_line = test_start_line\n",
        "\n",
        "                                    test_code = '\\n'.join(code.splitlines()[test_start_line:test_end_line + 1])\n",
        "                                    test_cases.append({\n",
        "                                        'test_name': test_node.name,\n",
        "                                        'test_code': test_code\n",
        "                                    })\n",
        "\n",
        "                            methods_and_tests.append({\n",
        "                                'method_name': method_name,\n",
        "                                'method_code': method_code,\n",
        "                                'test_cases': test_cases\n",
        "                            })\n",
        "                            total_methods += 1\n",
        "                            total_test_cases += len(test_cases)\n",
        "                    except (javalang.parser.JavaSyntaxError, javalang.tokenizer.LexerError) as e:\n",
        "#                         print(f\"Error parsing {file_path}: {e}\")\n",
        "                        continue\n",
        "\n",
        "    print(f\"Extraction finished from {repo_name}\")\n",
        "    print(f\"Total methods extracted: {total_methods}\")\n",
        "    print(f\"Total test cases extracted: {total_test_cases}\")\n",
        "\n",
        "    data = []\n",
        "    for item in methods_and_tests:\n",
        "        for test in item['test_cases']:\n",
        "            data.append({\n",
        "                'method_name': item['method_name'],\n",
        "                'method_code': item['method_code'],\n",
        "                'test_name': test['test_name'],\n",
        "                'test_code': test['test_code']\n",
        "            })\n",
        "\n",
        "    df_methods_and_tests = pd.DataFrame(data)\n",
        "    df_methods_and_tests.to_csv(f\"{repo_name}.csv\", index=False, encoding='utf-8-sig', escapechar='\\\\', errors='ignore')\n",
        "\n",
        "    print(f\"CSV file saved for {repo_name}\")\n",
        "    return methods_and_tests"
      ],
      "metadata": {
        "execution": {
          "iopub.status.busy": "2024-07-11T09:52:37.363539Z",
          "iopub.execute_input": "2024-07-11T09:52:37.363905Z",
          "iopub.status.idle": "2024-07-11T09:52:37.386234Z",
          "shell.execute_reply.started": "2024-07-11T09:52:37.363876Z",
          "shell.execute_reply": "2024-07-11T09:52:37.384943Z"
        },
        "trusted": true,
        "id": "mXqlXiUoOzQB"
      },
      "execution_count": 9,
      "outputs": []
    },
    {
      "cell_type": "code",
      "source": [
        "def zip_csv_files(directory):\n",
        "\n",
        "    csv_files = [f for f in os.listdir(directory) if f.endswith('.csv')]\n",
        "    if not csv_files:\n",
        "        print(\"No CSV files found in the directory.\")\n",
        "        return None\n",
        "\n",
        "    zip_filename = f'Range_{start_range}_{end_range}.zip'\n",
        "    with zipfile.ZipFile(zip_filename, 'w') as zipf:\n",
        "        for csv_file in csv_files:\n",
        "            file_path = os.path.join(directory, csv_file)\n",
        "            zipf.write(file_path, csv_file)\n",
        "\n",
        "    print(f\"Zip file '{zip_filename}' created successfully.\")"
      ],
      "metadata": {
        "execution": {
          "iopub.status.busy": "2024-07-11T09:52:37.387804Z",
          "iopub.execute_input": "2024-07-11T09:52:37.388333Z",
          "iopub.status.idle": "2024-07-11T09:52:37.403715Z",
          "shell.execute_reply.started": "2024-07-11T09:52:37.388297Z",
          "shell.execute_reply": "2024-07-11T09:52:37.402178Z"
        },
        "trusted": true,
        "id": "gVUkWOuNOzQD"
      },
      "execution_count": 10,
      "outputs": []
    },
    {
      "cell_type": "code",
      "source": [
        "def SelectRepo(start,end):\n",
        "    repo_names = repo_df['Name'].tolist()[start:end]\n",
        "    repo_urls = repo_df['HTMLURL'].tolist()[start:end]\n",
        "\n",
        "    return repo_names,repo_urls"
      ],
      "metadata": {
        "execution": {
          "iopub.status.busy": "2024-07-11T09:53:02.148072Z",
          "iopub.execute_input": "2024-07-11T09:53:02.148502Z",
          "iopub.status.idle": "2024-07-11T09:53:02.154610Z",
          "shell.execute_reply.started": "2024-07-11T09:53:02.148469Z",
          "shell.execute_reply": "2024-07-11T09:53:02.153422Z"
        },
        "trusted": true,
        "id": "34cP16w4OzQG"
      },
      "execution_count": 11,
      "outputs": []
    },
    {
      "cell_type": "code",
      "source": [
        "def Pipeline(start,end):\n",
        "    repo_names,repo_urls = SelectRepo(start,end)\n",
        "    print(f\"Selected Repos Name : {repo_names}\")\n",
        "\n",
        "    for repo in repo_urls:\n",
        "        path = clone_repos(repo,target_dir)\n",
        "        print(f\"Looking into {path} ...\")\n",
        "        extract_methods_and_tests(path)\n",
        "        shutil.rmtree(path)\n",
        "        print(f\"Folder '{path}' deleted.\")"
      ],
      "metadata": {
        "execution": {
          "iopub.status.busy": "2024-07-11T09:53:44.352640Z",
          "iopub.execute_input": "2024-07-11T09:53:44.353090Z",
          "iopub.status.idle": "2024-07-11T09:53:44.360084Z",
          "shell.execute_reply.started": "2024-07-11T09:53:44.353056Z",
          "shell.execute_reply": "2024-07-11T09:53:44.358663Z"
        },
        "trusted": true,
        "id": "4MZZ4EsTOzQH"
      },
      "execution_count": 12,
      "outputs": []
    },
    {
      "cell_type": "code",
      "source": [
        "Pipeline(start_range,end_range)"
      ],
      "metadata": {
        "execution": {
          "iopub.status.busy": "2024-07-11T09:53:45.894745Z",
          "iopub.execute_input": "2024-07-11T09:53:45.895924Z",
          "iopub.status.idle": "2024-07-11T09:54:00.562093Z",
          "shell.execute_reply.started": "2024-07-11T09:53:45.895876Z",
          "shell.execute_reply": "2024-07-11T09:54:00.560955Z"
        },
        "trusted": true,
        "colab": {
          "base_uri": "https://localhost:8080/"
        },
        "id": "focp2opROzQI",
        "outputId": "29ff9351-ed11-4604-9fb6-33f0bce69bc9"
      },
      "execution_count": null,
      "outputs": [
        {
          "output_type": "stream",
          "name": "stdout",
          "text": [
            "Selected Repos Name : ['truth', 'Create', 'proguard', 'cucumber-jvm', 'commons-lang', 'classgraph', 'cruise-control', 'Omni-Notes', 'PlayEdu', 'HackerRank_solutions', 'configuration-as-code-plugin', 'SikuliX1', 'easy_javadoc', 'spring-batch', 'TTS', 'javacpp-presets', 'JavaVerbalExpressions', 'code-examples', 'HaE', 'mongo-java-driver', 'netbeans', 'commafeed', 'incubator-hugegraph', 'assertj', 'cordova-plugin-local-notifications', 'BigDataGuide', 'teavm', 'TIMSDK', 'reactor-netty', 'sonic-server', 'pdfbox', 'spring-ai', 'webdrivermanager', 'symphony', 'android-chat', 'parquet-java', 'material-menu', 'lucene', 'erupt', 'rest.li', 'dependency-track', 'http-kit', 'Lealone', 'jimfs', 'logstash-logback-encoder', 'connectbot', 'freeplane', 'sofa-bolt', 'android-samples', 'pac4j', 'alldata', 'eclipse-collections', 'Smack', 'material-ripple', 'jcasbin', 'brave', 'jeromq', 'LakeSoul', 'xpipe', 'hypersistence-utils', 'java-sec-code', 'kafka-streams-examples', 'autopsy', 'spring-integration-samples', 'pf4j', 'activemq', 'manifold', 'SAI', 'jobrunr', 'moquette', 'tika', 'tlaplus', 'kubernetes-plugin', 'azure-sdk-for-java', 'kafka-rest', 'piranha', 'incubator-seata-samples', 'jackson-core', 'HotswapAgent', 'firebase-android-sdk', 'lanterna', 'find-sec-bugs', 'commonmark-java', 'bc-java', 'mybatis-plus-samples', 'bucket4j', 'UniversalMediaServer', 'gobblin', 'flexmark-java', 'NiceVieoPlayer', 'Minestom', 'fabric', 'BilibiliDown', 'dubbo-samples', 'android-inapp-billing-v3', 'RuoYi-Vue', 'Shelter', 'squirrel', 'schema-registry', 'vprofile-project']\n",
            "Cloning https://github.com/google/truth into /content/repos/truth...\n",
            "Successfully cloned https://github.com/google/truth\n",
            "Looking into /content/repos/truth ...\n",
            "Repository: truth\n",
            "Extraction finished from truth\n",
            "Total methods extracted: 3290\n",
            "Total test cases extracted: 16568\n",
            "CSV file saved for truth\n",
            "Folder '/content/repos/truth' deleted.\n",
            "Cloning https://github.com/Creators-of-Create/Create into /content/repos/Create...\n",
            "Successfully cloned https://github.com/Creators-of-Create/Create\n",
            "Looking into /content/repos/Create ...\n",
            "Repository: Create\n",
            "Extraction finished from Create\n",
            "Total methods extracted: 10346\n",
            "Total test cases extracted: 965\n",
            "CSV file saved for Create\n",
            "Folder '/content/repos/Create' deleted.\n",
            "Cloning https://github.com/Guardsquare/proguard into /content/repos/proguard...\n",
            "Successfully cloned https://github.com/Guardsquare/proguard\n",
            "Looking into /content/repos/proguard ...\n",
            "Repository: proguard\n",
            "Extraction finished from proguard\n",
            "Total methods extracted: 3201\n",
            "Total test cases extracted: 135\n",
            "CSV file saved for proguard\n",
            "Folder '/content/repos/proguard' deleted.\n",
            "Cloning https://github.com/cucumber/cucumber-jvm into /content/repos/cucumber-jvm...\n",
            "Successfully cloned https://github.com/cucumber/cucumber-jvm\n",
            "Looking into /content/repos/cucumber-jvm ...\n",
            "Repository: cucumber-jvm\n",
            "Extraction finished from cucumber-jvm\n",
            "Total methods extracted: 4845\n",
            "Total test cases extracted: 3767\n",
            "CSV file saved for cucumber-jvm\n",
            "Folder '/content/repos/cucumber-jvm' deleted.\n",
            "Cloning https://github.com/apache/commons-lang into /content/repos/commons-lang...\n",
            "Successfully cloned https://github.com/apache/commons-lang\n",
            "Looking into /content/repos/commons-lang ...\n",
            "Repository: commons-lang\n"
          ]
        }
      ]
    },
    {
      "cell_type": "code",
      "source": [
        "zip_csv_files('/content/')"
      ],
      "metadata": {
        "execution": {
          "iopub.status.busy": "2024-07-11T09:54:05.893820Z",
          "iopub.execute_input": "2024-07-11T09:54:05.894322Z",
          "iopub.status.idle": "2024-07-11T09:54:05.910223Z",
          "shell.execute_reply.started": "2024-07-11T09:54:05.894288Z",
          "shell.execute_reply": "2024-07-11T09:54:05.908824Z"
        },
        "trusted": true,
        "id": "AUN40kacOzQI"
      },
      "execution_count": null,
      "outputs": []
    },
    {
      "cell_type": "code",
      "source": [
        "shutil.move('/content/csv_files.zip', '/content/drive/MyDrive/Colab Notebooks')"
      ],
      "metadata": {
        "id": "wmOIhwuWWSMt"
      },
      "execution_count": null,
      "outputs": []
    },
    {
      "cell_type": "code",
      "source": [
        "print('Success')"
      ],
      "metadata": {
        "execution": {
          "iopub.status.busy": "2024-07-11T09:54:07.096021Z",
          "iopub.execute_input": "2024-07-11T09:54:07.097014Z",
          "iopub.status.idle": "2024-07-11T09:54:07.102525Z",
          "shell.execute_reply.started": "2024-07-11T09:54:07.096972Z",
          "shell.execute_reply": "2024-07-11T09:54:07.101357Z"
        },
        "trusted": true,
        "id": "7_zQxUMLOzQJ"
      },
      "execution_count": null,
      "outputs": []
    }
  ]
}