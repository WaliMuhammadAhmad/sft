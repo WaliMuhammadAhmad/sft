{
  "nbformat": 4,
  "nbformat_minor": 0,
  "metadata": {
    "colab": {
      "provenance": [],
      "authorship_tag": "ABX9TyOBda0hSxzROuHJKbTVFqH9",
      "include_colab_link": true
    },
    "kernelspec": {
      "name": "python3",
      "display_name": "Python 3"
    },
    "language_info": {
      "name": "python"
    }
  },
  "cells": [
    {
      "cell_type": "markdown",
      "metadata": {
        "id": "view-in-github",
        "colab_type": "text"
      },
      "source": [
        "<a href=\"https://colab.research.google.com/github/WaliMuhammadAhmad/Llama-2-7B-Fine-Tuning-for-Unit-Test-Generation/blob/main/Method2Test%5BExtract_Dataset%5D.ipynb\" target=\"_parent\"><img src=\"https://colab.research.google.com/assets/colab-badge.svg\" alt=\"Open In Colab\"/></a>"
      ]
    },
    {
      "cell_type": "code",
      "execution_count": 1,
      "metadata": {
        "colab": {
          "base_uri": "https://localhost:8080/"
        },
        "id": "HJQXoWi1kXW0",
        "outputId": "cb6417cb-d59f-4047-f341-e3974d12d339"
      },
      "outputs": [
        {
          "output_type": "stream",
          "name": "stdout",
          "text": [
            "Collecting git-lfs\n",
            "  Downloading git_lfs-1.6-py2.py3-none-any.whl (5.6 kB)\n",
            "Installing collected packages: git-lfs\n",
            "Successfully installed git-lfs-1.6\n",
            "Git LFS initialized.\n"
          ]
        }
      ],
      "source": [
        "!pip install git-lfs\n",
        "!git lfs install"
      ]
    },
    {
      "cell_type": "code",
      "source": [
        "import os\n",
        "import shutil\n",
        "import tarfile\n",
        "import zipfile"
      ],
      "metadata": {
        "id": "HUZXZMjcnDm-"
      },
      "execution_count": 40,
      "outputs": []
    },
    {
      "cell_type": "code",
      "source": [
        "!git clone https://github.com/microsoft/methods2test.git"
      ],
      "metadata": {
        "colab": {
          "base_uri": "https://localhost:8080/"
        },
        "id": "gJUzYB7Xke1p",
        "outputId": "378be1f4-fa0e-4639-db3e-0beaf8489131"
      },
      "execution_count": 3,
      "outputs": [
        {
          "output_type": "stream",
          "name": "stdout",
          "text": [
            "Cloning into 'methods2test'...\n",
            "remote: Enumerating objects: 190, done.\u001b[K\n",
            "remote: Counting objects: 100% (190/190), done.\u001b[K\n",
            "remote: Compressing objects: 100% (171/171), done.\u001b[K\n",
            "remote: Total 190 (delta 45), reused 143 (delta 17), pack-reused 0\u001b[K\n",
            "Receiving objects: 100% (190/190), 9.65 MiB | 9.25 MiB/s, done.\n",
            "Resolving deltas: 100% (45/45), done.\n",
            "Filtering content: 100% (65/65), 3.07 GiB | 53.10 MiB/s, done.\n"
          ]
        }
      ]
    },
    {
      "cell_type": "code",
      "source": [
        "%cd /content/methods2test"
      ],
      "metadata": {
        "colab": {
          "base_uri": "https://localhost:8080/"
        },
        "id": "vfRB34s9ktLh",
        "outputId": "5919047e-122c-4de7-bd78-91b3caa38f3c"
      },
      "execution_count": 4,
      "outputs": [
        {
          "output_type": "stream",
          "name": "stdout",
          "text": [
            "/content/methods2test\n"
          ]
        }
      ]
    },
    {
      "cell_type": "code",
      "source": [
        "!git lfs pull"
      ],
      "metadata": {
        "id": "PeG1somSlBt7"
      },
      "execution_count": 5,
      "outputs": []
    },
    {
      "cell_type": "code",
      "source": [
        "!git lfs fetch --all"
      ],
      "metadata": {
        "colab": {
          "base_uri": "https://localhost:8080/"
        },
        "id": "6FzNarvXBven",
        "outputId": "5f7d326e-a30a-41b1-c53f-646ab7b959bb"
      },
      "execution_count": 6,
      "outputs": [
        {
          "output_type": "stream",
          "name": "stdout",
          "text": [
            "fetch: 1 object(s) found\rfetch: 2 object(s) found\rfetch: 3 object(s) found\rfetch: 4 object(s) found\rfetch: 5 object(s) found\rfetch: 6 object(s) found\rfetch: 7 object(s) found\rfetch: 8 object(s) found\rfetch: 9 object(s) found\rfetch: 10 object(s) found\rfetch: 11 object(s) found\rfetch: 12 object(s) found\rfetch: 13 object(s) found\rfetch: 14 object(s) found\rfetch: 15 object(s) found\rfetch: 16 object(s) found\rfetch: 17 object(s) found\rfetch: 18 object(s) found\rfetch: 19 object(s) found\rfetch: 20 object(s) found\rfetch: 21 object(s) found\rfetch: 22 object(s) found\rfetch: 23 object(s) found\rfetch: 24 object(s) found\rfetch: 25 object(s) found\rfetch: 26 object(s) found\rfetch: 27 object(s) found\rfetch: 28 object(s) found\rfetch: 29 object(s) found\rfetch: 30 object(s) found\rfetch: 31 object(s) found\rfetch: 32 object(s) found\rfetch: 33 object(s) found\rfetch: 34 object(s) found\rfetch: 35 object(s) found\rfetch: 36 object(s) found\rfetch: 37 object(s) found\rfetch: 38 object(s) found\rfetch: 39 object(s) found\rfetch: 40 object(s) found\rfetch: 41 object(s) found\rfetch: 42 object(s) found\rfetch: 43 object(s) found\rfetch: 44 object(s) found\rfetch: 45 object(s) found\rfetch: 46 object(s) found\rfetch: 47 object(s) found\rfetch: 48 object(s) found\rfetch: 49 object(s) found\rfetch: 50 object(s) found\rfetch: 51 object(s) found\rfetch: 52 object(s) found\rfetch: 53 object(s) found\rfetch: 54 object(s) found\rfetch: 55 object(s) found\rfetch: 56 object(s) found\rfetch: 57 object(s) found\rfetch: 58 object(s) found\rfetch: 59 object(s) found\rfetch: 60 object(s) found\rfetch: 61 object(s) found\rfetch: 62 object(s) found\rfetch: 63 object(s) found\rfetch: 64 object(s) found\rfetch: 65 object(s) found\rfetch: 65 object(s) found, done.\n",
            "fetch: Fetching all references...\n"
          ]
        }
      ]
    },
    {
      "cell_type": "code",
      "source": [
        "!git lfs ls-files"
      ],
      "metadata": {
        "colab": {
          "base_uri": "https://localhost:8080/"
        },
        "id": "uVHfhMxvlwk0",
        "outputId": "be6d1d37-b2a1-4e2e-bcdf-c85b864c4228"
      },
      "execution_count": 7,
      "outputs": [
        {
          "output_type": "stream",
          "name": "stdout",
          "text": [
            "42ff90a891 * corpus/json/eval.tar.bz2\n",
            "8905415d87 * corpus/json/test.tar.bz2\n",
            "267de6b480 * corpus/json/train.tar.bz2\n",
            "481a6945e2 * corpus/preprocessed/dict.tar.bz2\n",
            "f577ad4a67 * corpus/preprocessed/fm/eval.tar.bz2\n",
            "d5c58c50f2 * corpus/preprocessed/fm/test.tar.bz2\n",
            "31fe2b5a03 * corpus/preprocessed/fm/train.tar.bz2\n",
            "d0991f7f99 * corpus/preprocessed/fm_fc/eval.tar.bz2\n",
            "ce7a5d5a1d * corpus/preprocessed/fm_fc/test.tar.bz2\n",
            "69f7a59a47 * corpus/preprocessed/fm_fc/train.tar.bz2\n",
            "3766160e6d * corpus/preprocessed/fm_fc_co/eval.tar.bz2\n",
            "d9378bd447 * corpus/preprocessed/fm_fc_co/test.tar.bz2\n",
            "bb066d80fa * corpus/preprocessed/fm_fc_co/train.tar.bz2\n",
            "a0a1e37862 * corpus/preprocessed/fm_fc_ms/eval.tar.bz2\n",
            "5737bad14f * corpus/preprocessed/fm_fc_ms/test.tar.bz2\n",
            "2b1b95189f * corpus/preprocessed/fm_fc_ms/train.tar.bz2\n",
            "268709bde8 * corpus/preprocessed/fm_fc_ms_ff/eval.tar.bz2\n",
            "03a39e4038 * corpus/preprocessed/fm_fc_ms_ff/test.tar.bz2\n",
            "2b25ad0753 * corpus/preprocessed/fm_fc_ms_ff/train.tar.bz2\n",
            "186b8eb53b * corpus/raw/fm/eval.tar.bz2\n",
            "43b5ee59e8 * corpus/raw/fm/test.tar.bz2\n",
            "219851efcf * corpus/raw/fm/train.tar.bz2\n",
            "4c2a842e55 * corpus/raw/fm_fc/eval.tar.bz2\n",
            "dd41e66233 * corpus/raw/fm_fc/test.tar.bz2\n",
            "7b113952ea * corpus/raw/fm_fc/train.tar.bz2\n",
            "4ea08dc4e6 * corpus/raw/fm_fc_co/eval.tar.bz2\n",
            "0f76dec1c4 * corpus/raw/fm_fc_co/test.tar.bz2\n",
            "4e7306e2ca * corpus/raw/fm_fc_co/train.tar.bz2\n",
            "55e9a13ec3 * corpus/raw/fm_fc_ms/eval.tar.bz2\n",
            "eece58787f * corpus/raw/fm_fc_ms/test.tar.bz2\n",
            "c5b4a2e575 * corpus/raw/fm_fc_ms/train.tar.bz2\n",
            "ddb4071837 * corpus/raw/fm_fc_ms_ff/eval.tar.bz2\n",
            "522dc3c9da * corpus/raw/fm_fc_ms_ff/test.tar.bz2\n",
            "cffa6f68d9 * corpus/raw/fm_fc_ms_ff/train.tar.bz2\n",
            "8590110245 * corpus/tokenized/fm/eval.tar.bz2\n",
            "90618875d1 * corpus/tokenized/fm/test.tar.bz2\n",
            "22bbda7760 * corpus/tokenized/fm/train.tar.bz2\n",
            "91e799d4a7 * corpus/tokenized/fm_fc/eval.tar.bz2\n",
            "631179d446 * corpus/tokenized/fm_fc/test.tar.bz2\n",
            "0ef68b60ad * corpus/tokenized/fm_fc/train.tar.bz2\n",
            "fc2551d800 * corpus/tokenized/fm_fc_co/eval.tar.bz2\n",
            "8b6c0aa00e * corpus/tokenized/fm_fc_co/test.tar.bz2\n",
            "8d2b028b4a * corpus/tokenized/fm_fc_co/train.tar.bz2\n",
            "2d8b565460 * corpus/tokenized/fm_fc_ms/eval.tar.bz2\n",
            "418e8fb038 * corpus/tokenized/fm_fc_ms/test.tar.bz2\n",
            "8feee782d1 * corpus/tokenized/fm_fc_ms/train.tar.bz2\n",
            "f56ab21774 * corpus/tokenized/fm_fc_ms_ff/eval.tar.bz2\n",
            "19c0402510 * corpus/tokenized/fm_fc_ms_ff/test.tar.bz2\n",
            "644b7d61a3 * corpus/tokenized/fm_fc_ms_ff/train.tar.bz2\n",
            "6c826ea5f2 * dataset/eval.tar.bz2\n",
            "f83c184089 * dataset/test.tar.bz2\n",
            "ea912bee89 * dataset/train.tar.bz2\n",
            "481a6945e2 * methods2test-v1.0/corpus/preprocessed/dict.tar.bz2\n",
            "c8ea8ebc85 * methods2test-v1.0/corpus/preprocessed/eval.tar.bz2\n",
            "6f37f94211 * methods2test-v1.0/corpus/preprocessed/test.tar.bz2\n",
            "c0cafb85cf * methods2test-v1.0/corpus/preprocessed/train.tar.bz2\n",
            "3196de268f * methods2test-v1.0/corpus/raw/eval.tar.bz2\n",
            "b3ee89018a * methods2test-v1.0/corpus/raw/test.tar.bz2\n",
            "a5b99ce9fa * methods2test-v1.0/corpus/raw/train.tar.bz2\n",
            "8c6159eb55 * methods2test-v1.0/corpus/tokenized/eval.tar.bz2\n",
            "cae2e3ea75 * methods2test-v1.0/corpus/tokenized/test.tar.bz2\n",
            "b1de41de2d * methods2test-v1.0/corpus/tokenized/train.tar.bz2\n",
            "0142227de4 * methods2test-v1.0/dataset/eval.tar.bz2\n",
            "96abe0859d * methods2test-v1.0/dataset/test.tar.bz2\n",
            "7b092a87b8 * methods2test-v1.0/dataset/train.tar.bz2\n"
          ]
        }
      ]
    },
    {
      "cell_type": "code",
      "source": [
        "list = ['train','eval','test']"
      ],
      "metadata": {
        "id": "tJqdTQzpVuME"
      },
      "execution_count": 31,
      "outputs": []
    },
    {
      "cell_type": "markdown",
      "source": [
        "### Define Functions"
      ],
      "metadata": {
        "id": "lVzAxUfyt4bY"
      }
    },
    {
      "cell_type": "code",
      "source": [
        "def extract_tar_bz2(file_path, extract_path='.'):\n",
        "    with tarfile.open(file_path, 'r:bz2') as tar:\n",
        "        tar.extractall(path=extract_path)\n",
        "        print(f'Extracted all files to {extract_path}')\n"
      ],
      "metadata": {
        "id": "0KvCRadOQ5vu"
      },
      "execution_count": 18,
      "outputs": []
    },
    {
      "cell_type": "code",
      "source": [
        "def count_json_files(folder_path):\n",
        "    json_count = 0\n",
        "    for root, dirs, files in os.walk(folder_path):\n",
        "        for file in files:\n",
        "            if file.endswith('.json'):\n",
        "                json_count += 1\n",
        "    return json_count"
      ],
      "metadata": {
        "id": "K8g6GDXtZKsh"
      },
      "execution_count": 34,
      "outputs": []
    },
    {
      "cell_type": "code",
      "source": [
        "def zip_folder(folder_path, output_path):\n",
        "    with zipfile.ZipFile(output_path, 'w', zipfile.ZIP_DEFLATED) as zipf:\n",
        "        for root, dirs, files in os.walk(folder_path):\n",
        "            for file in files:\n",
        "                file_path = os.path.join(root, file)\n",
        "                zipf.write(file_path, os.path.relpath(file_path, folder_path))\n",
        "    print(f'Folder {folder_path} has been zipped to {output_path}')"
      ],
      "metadata": {
        "id": "2JzMJueCZj2A"
      },
      "execution_count": 37,
      "outputs": []
    },
    {
      "cell_type": "markdown",
      "source": [
        "### Main Execution"
      ],
      "metadata": {
        "id": "0bwpcrP-ukHB"
      }
    },
    {
      "cell_type": "code",
      "source": [
        "!mkdir /content/dataset"
      ],
      "metadata": {
        "id": "KbFujQmwl1LW"
      },
      "execution_count": 29,
      "outputs": []
    },
    {
      "cell_type": "code",
      "source": [
        "for i in list:\n",
        "  file_path = f'/content/methods2test/corpus/json/{i}.tar.bz2'\n",
        "  extract_path = '/content/dataset/'\n",
        "  extract_tar_bz2(file_path, extract_path)\n",
        "  print(f'Files in {i} : {count_json_files(f\"/content/dataset/{i}\")}')"
      ],
      "metadata": {
        "colab": {
          "base_uri": "https://localhost:8080/"
        },
        "id": "940W-HnwV2v1",
        "outputId": "f66ca787-a038-442f-d4ab-75c37a1822cd"
      },
      "execution_count": 33,
      "outputs": [
        {
          "output_type": "stream",
          "name": "stdout",
          "text": [
            "Extracted all files to /content/dataset/\n",
            "Extracted all files to /content/dataset/\n",
            "Extracted all files to /content/dataset/\n"
          ]
        }
      ]
    },
    {
      "cell_type": "code",
      "source": [
        "folder_path = '/content/dataset'\n",
        "output_path = '/content/method2test_json.zip'\n",
        "zip_folder(folder_path, output_path)"
      ],
      "metadata": {
        "colab": {
          "base_uri": "https://localhost:8080/"
        },
        "id": "rlvSCv6VZyAo",
        "outputId": "2f94124b-9025-48b9-91ca-9bc2235d749b"
      },
      "execution_count": 38,
      "outputs": [
        {
          "output_type": "stream",
          "name": "stdout",
          "text": [
            "Folder /content/dataset has been zipped to /content/method2test_json.zip\n"
          ]
        }
      ]
    },
    {
      "cell_type": "markdown",
      "source": [
        "### Releasing storage"
      ],
      "metadata": {
        "id": "ippKDbbbupod"
      }
    },
    {
      "cell_type": "code",
      "source": [
        "shutil.rmtree('/content/methods2test')\n",
        "shutil.rmtree('/content/dataset')"
      ],
      "metadata": {
        "id": "zNDwDTzTcUR0"
      },
      "execution_count": 39,
      "outputs": []
    }
  ]
}