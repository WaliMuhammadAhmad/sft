{
  "metadata": {
    "accelerator": "GPU",
    "colab": {
      "gpuType": "T4",
      "provenance": [],
      "include_colab_link": true
    },
    "kaggle": {
      "accelerator": "gpu",
      "dataSources": [],
      "dockerImageVersionId": 30762,
      "isInternetEnabled": true,
      "language": "python",
      "sourceType": "notebook",
      "isGpuEnabled": true
    },
    "kernelspec": {
      "display_name": "Python 3",
      "language": "python",
      "name": "python3"
    },
    "language_info": {
      "name": "python",
      "version": "3.10.14",
      "mimetype": "text/x-python",
      "codemirror_mode": {
        "name": "ipython",
        "version": 3
      },
      "pygments_lexer": "ipython3",
      "nbconvert_exporter": "python",
      "file_extension": ".py"
    },
    "papermill": {
      "default_parameters": {},
      "duration": 466.447066,
      "end_time": "2024-08-19T18:33:13.577836",
      "environment_variables": {},
      "exception": true,
      "input_path": "__notebook__.ipynb",
      "output_path": "__notebook__.ipynb",
      "parameters": {},
      "start_time": "2024-08-19T18:25:27.130770",
      "version": "2.5.0"
    }
  },
  "nbformat_minor": 5,
  "nbformat": 4,
  "cells": [
    {
      "cell_type": "markdown",
      "metadata": {
        "id": "view-in-github",
        "colab_type": "text"
      },
      "source": [
        "<a href=\"https://colab.research.google.com/github/WaliMuhammadAhmad/CODEX-FINETUNNING/blob/main/codet5_base.ipynb\" target=\"_parent\"><img src=\"https://colab.research.google.com/assets/colab-badge.svg\" alt=\"Open In Colab\"/></a>"
      ]
    },
    {
      "cell_type": "code",
      "source": [
        "%%capture\n",
        "%pip install --upgrade torch torchvision transformers datasets sentencepiece peft accelerate"
      ],
      "metadata": {
        "id": "f895ca10",
        "papermill": {
          "duration": 0.030296,
          "end_time": "2024-08-19T18:25:29.993267",
          "exception": false,
          "start_time": "2024-08-19T18:25:29.962971",
          "status": "completed"
        },
        "tags": [],
        "execution": {
          "iopub.status.busy": "2024-08-24T18:18:51.154891Z",
          "iopub.execute_input": "2024-08-24T18:18:51.155207Z",
          "iopub.status.idle": "2024-08-24T18:19:22.206792Z",
          "shell.execute_reply.started": "2024-08-24T18:18:51.155167Z",
          "shell.execute_reply": "2024-08-24T18:19:22.205633Z"
        },
        "trusted": true
      },
      "execution_count": null,
      "outputs": [],
      "id": "f895ca10"
    },
    {
      "cell_type": "code",
      "source": [
        "import os\n",
        "import json\n",
        "import torch\n",
        "import shutil\n",
        "import pandas as pd\n",
        "import numpy as np\n",
        "import transformers"
      ],
      "metadata": {
        "id": "33753376",
        "papermill": {
          "duration": 5.492564,
          "end_time": "2024-08-19T18:25:35.561131",
          "exception": false,
          "start_time": "2024-08-19T18:25:30.068567",
          "status": "completed"
        },
        "tags": [],
        "execution": {
          "iopub.status.busy": "2024-08-24T18:38:10.103014Z",
          "iopub.execute_input": "2024-08-24T18:38:10.103417Z",
          "iopub.status.idle": "2024-08-24T18:38:10.108228Z",
          "shell.execute_reply.started": "2024-08-24T18:38:10.103379Z",
          "shell.execute_reply": "2024-08-24T18:38:10.107167Z"
        },
        "trusted": true
      },
      "execution_count": null,
      "outputs": [],
      "id": "33753376"
    },
    {
      "cell_type": "code",
      "source": [
        "from datasets import load_dataset\n",
        "from datasets import Dataset, load_dataset\n",
        "from huggingface_hub import login, Repository\n",
        "from transformers import (\n",
        "    Seq2SeqTrainer,\n",
        "    Seq2SeqTrainingArguments,\n",
        "    DataCollatorForSeq2Seq,\n",
        "    T5ForConditionalGeneration,\n",
        "    RobertaTokenizer\n",
        ")\n",
        "from peft import (\n",
        "    LoraConfig,\n",
        "    get_peft_model,\n",
        "    TaskType,\n",
        "    prepare_model_for_kbit_training\n",
        ")"
      ],
      "metadata": {
        "id": "acafb72d",
        "papermill": {
          "duration": 13.5379,
          "end_time": "2024-08-19T18:33:10.211670",
          "exception": true,
          "start_time": "2024-08-19T18:32:56.673770",
          "status": "failed"
        },
        "tags": [],
        "execution": {
          "iopub.status.busy": "2024-08-24T18:19:31.809127Z",
          "iopub.execute_input": "2024-08-24T18:19:31.809802Z",
          "iopub.status.idle": "2024-08-24T18:19:31.896091Z",
          "shell.execute_reply.started": "2024-08-24T18:19:31.809766Z",
          "shell.execute_reply": "2024-08-24T18:19:31.895169Z"
        },
        "trusted": true
      },
      "execution_count": null,
      "outputs": [],
      "id": "acafb72d"
    },
    {
      "cell_type": "code",
      "source": [
        "from google.colab import userdata"
      ],
      "metadata": {
        "id": "0GJ_oyxrzmU2"
      },
      "id": "0GJ_oyxrzmU2",
      "execution_count": null,
      "outputs": []
    },
    {
      "cell_type": "code",
      "source": [
        "login(userdata.get('HF_TOKEN'),add_to_git_credential=True)"
      ],
      "metadata": {
        "execution": {
          "iopub.status.busy": "2024-08-24T18:19:35.482845Z",
          "iopub.execute_input": "2024-08-24T18:19:35.483537Z",
          "iopub.status.idle": "2024-08-24T18:19:35.613285Z",
          "shell.execute_reply.started": "2024-08-24T18:19:35.483497Z",
          "shell.execute_reply": "2024-08-24T18:19:35.612366Z"
        },
        "trusted": true,
        "id": "TKLrtuEMzS4A",
        "outputId": "78eb4800-fd7e-46f6-94a4-93519c20af78"
      },
      "execution_count": null,
      "outputs": [
        {
          "name": "stdout",
          "text": "The token has not been saved to the git credentials helper. Pass `add_to_git_credential=True` in this function directly or `--add-to-git-credential` if using via `huggingface-cli` if you want to set the git credential as well.\nToken is valid (permission: write).\nYour token has been saved to /root/.cache/huggingface/token\nLogin successful\n",
          "output_type": "stream"
        }
      ],
      "id": "TKLrtuEMzS4A"
    },
    {
      "cell_type": "code",
      "source": [
        "base_model = \"Salesforce/codet5-base\"\n",
        "\n",
        "model_path = \"peft_model\"\n",
        "\n",
        "tokenizer_path = \"tokenizer\"\n",
        "\n",
        "dataset = \"CodexAI/Eval4Deepseek-Coder\"  # dataset name at huggingface\n",
        "\n",
        "dataset_dir = \"dataset\"  # dataset dir path\n",
        "\n",
        "repo_url = f'https://huggingface.co/datasets/{dataset}'"
      ],
      "metadata": {
        "execution": {
          "iopub.status.busy": "2024-08-24T18:19:42.807260Z",
          "iopub.execute_input": "2024-08-24T18:19:42.808357Z",
          "iopub.status.idle": "2024-08-24T18:19:42.812900Z",
          "shell.execute_reply.started": "2024-08-24T18:19:42.808314Z",
          "shell.execute_reply": "2024-08-24T18:19:42.811709Z"
        },
        "trusted": true,
        "id": "IC9DtP9ezS4B"
      },
      "execution_count": null,
      "outputs": [],
      "id": "IC9DtP9ezS4B"
    },
    {
      "cell_type": "code",
      "source": [
        "if not os.path.exists(dataset_dir):\n",
        "    os.makedirs(dataset_dir)"
      ],
      "metadata": {
        "execution": {
          "iopub.status.busy": "2024-08-24T18:19:46.670626Z",
          "iopub.execute_input": "2024-08-24T18:19:46.671286Z",
          "iopub.status.idle": "2024-08-24T18:19:46.675464Z",
          "shell.execute_reply.started": "2024-08-24T18:19:46.671246Z",
          "shell.execute_reply": "2024-08-24T18:19:46.674546Z"
        },
        "trusted": true,
        "id": "E9mZJGPXzS4B"
      },
      "execution_count": null,
      "outputs": [],
      "id": "E9mZJGPXzS4B"
    },
    {
      "cell_type": "code",
      "source": [
        "repo = Repository(local_dir=dataset_dir,clone_from=repo_url)"
      ],
      "metadata": {
        "execution": {
          "iopub.status.busy": "2024-08-24T18:19:48.194640Z",
          "iopub.execute_input": "2024-08-24T18:19:48.195346Z",
          "iopub.status.idle": "2024-08-24T18:19:48.508929Z",
          "shell.execute_reply.started": "2024-08-24T18:19:48.195308Z",
          "shell.execute_reply": "2024-08-24T18:19:48.507708Z"
        },
        "trusted": true,
        "id": "2M2_KK_yzS4B",
        "outputId": "11d598ca-70ce-4928-ce68-cee2caf7b2a8"
      },
      "execution_count": null,
      "outputs": [
        {
          "name": "stderr",
          "text": "/opt/conda/lib/python3.10/site-packages/huggingface_hub/utils/_deprecation.py:131: FutureWarning: 'Repository' (from 'huggingface_hub.repository') is deprecated and will be removed from version '1.0'. Please prefer the http-based alternatives instead. Given its large adoption in legacy code, the complete removal is only planned on next major release.\nFor more details, please read https://huggingface.co/docs/huggingface_hub/concepts/git_vs_http.\n  warnings.warn(warning_message, FutureWarning)\n/kaggle/working/dataset is already a clone of https://huggingface.co/datasets/CodexAI/Eval4Deepseek-Coder. Make sure you pull the latest changes with `repo.git_pull()`.\n",
          "output_type": "stream"
        }
      ],
      "id": "2M2_KK_yzS4B"
    },
    {
      "cell_type": "markdown",
      "source": [
        "# Playing with Dataset"
      ],
      "metadata": {
        "id": "H0IMWL8v0T02"
      },
      "id": "H0IMWL8v0T02"
    },
    {
      "cell_type": "code",
      "source": [
        "def load_json_data(dir_name):\n",
        "  \"\"\"\n",
        "  This function is used to load the json data from the given directory.\n",
        "  After reading the data store them in a list\n",
        "  After storing all the data in a list we can return the list.\n",
        "  \"\"\"\n",
        "\n",
        "  data=[]\n",
        "  for root_folder in os.listdir(dir_name):\n",
        "    if root_folder!=\".git\" and root_folder!=\".gitattributes\":\n",
        "      for files in os.listdir(os.path.join(dir_name,root_folder)):\n",
        "        if files.endswith(\".json\"):\n",
        "          with open(os.path.join(dir_name,root_folder,files),\"r\")as f:\n",
        "            json_file=json.load(f)\n",
        "            data.append(json_file)\n",
        "  return data"
      ],
      "metadata": {
        "execution": {
          "iopub.status.busy": "2024-08-24T18:20:00.395629Z",
          "iopub.execute_input": "2024-08-24T18:20:00.396011Z",
          "iopub.status.idle": "2024-08-24T18:20:00.402637Z",
          "shell.execute_reply.started": "2024-08-24T18:20:00.395974Z",
          "shell.execute_reply": "2024-08-24T18:20:00.401654Z"
        },
        "trusted": true,
        "id": "qj_zuW7ezS4B"
      },
      "execution_count": null,
      "outputs": [],
      "id": "qj_zuW7ezS4B"
    },
    {
      "cell_type": "code",
      "source": [
        "json_data=load_json_data(dataset_dir)"
      ],
      "metadata": {
        "execution": {
          "iopub.status.busy": "2024-08-24T18:20:20.790261Z",
          "iopub.execute_input": "2024-08-24T18:20:20.790635Z",
          "iopub.status.idle": "2024-08-24T18:20:24.759157Z",
          "shell.execute_reply.started": "2024-08-24T18:20:20.790599Z",
          "shell.execute_reply": "2024-08-24T18:20:24.758363Z"
        },
        "trusted": true,
        "id": "xbIGm-rUzS4B"
      },
      "execution_count": null,
      "outputs": [],
      "id": "xbIGm-rUzS4B"
    },
    {
      "cell_type": "code",
      "source": [
        "json_data=json_data[:40000]"
      ],
      "metadata": {
        "execution": {
          "iopub.status.busy": "2024-08-24T18:20:30.938582Z",
          "iopub.execute_input": "2024-08-24T18:20:30.939280Z",
          "iopub.status.idle": "2024-08-24T18:20:30.960062Z",
          "shell.execute_reply.started": "2024-08-24T18:20:30.939243Z",
          "shell.execute_reply": "2024-08-24T18:20:30.959002Z"
        },
        "trusted": true,
        "id": "KwRSp_oVzS4B"
      },
      "execution_count": null,
      "outputs": [],
      "id": "KwRSp_oVzS4B"
    },
    {
      "cell_type": "code",
      "source": [
        "json_data[0]['instruction']"
      ],
      "metadata": {
        "execution": {
          "iopub.status.busy": "2024-08-24T18:22:39.345511Z",
          "iopub.execute_input": "2024-08-24T18:22:39.345877Z",
          "iopub.status.idle": "2024-08-24T18:22:39.352313Z",
          "shell.execute_reply.started": "2024-08-24T18:22:39.345842Z",
          "shell.execute_reply": "2024-08-24T18:22:39.351467Z"
        },
        "trusted": true,
        "id": "MRktKu2zzS4C",
        "outputId": "d0db8154-3282-4caf-ed73-f0faa85b4b0d"
      },
      "execution_count": null,
      "outputs": [
        {
          "execution_count": 14,
          "output_type": "execute_result",
          "data": {
            "text/plain": "'Generate a unit test case for the following Java method: SHA { public static byte[] encryptSHA(byte[] data) throws Exception { MessageDigest sha = MessageDigest.getInstance(KEY_SHA1); sha.update(data); return sha.digest(); } SHA(); static byte[] encryptSHA(byte[] data); static String encryptSHA(String data); static String encryptSHA(String str,String ecryptCode); static void main(String[] args);  }'"
          },
          "metadata": {}
        }
      ],
      "id": "MRktKu2zzS4C"
    },
    {
      "cell_type": "code",
      "source": [
        "json_data[0]['output']"
      ],
      "metadata": {
        "execution": {
          "iopub.status.busy": "2024-08-24T18:22:57.992970Z",
          "iopub.execute_input": "2024-08-24T18:22:57.993866Z",
          "iopub.status.idle": "2024-08-24T18:22:57.999545Z",
          "shell.execute_reply.started": "2024-08-24T18:22:57.993824Z",
          "shell.execute_reply": "2024-08-24T18:22:57.998679Z"
        },
        "trusted": true,
        "id": "ZRW7zLK-zS4C",
        "outputId": "2a2ff2ad-852f-41e2-f53e-539a518d6fc9"
      },
      "execution_count": null,
      "outputs": [
        {
          "execution_count": 15,
          "output_type": "execute_result",
          "data": {
            "text/plain": "'The unit test case for the given Java method is: @Test public void testEncryptSHAStringString() throws NoSuchAlgorithmException { Assert.assertEquals(\"\", SHA.encryptSHA(null, null)); Assert.assertEquals(SHA_foo, SHA.encryptSHA(\"foo\", \"SHA\")); Assert.assertEquals(SHA_1_foo, SHA.encryptSHA(\"foo\", \"SHA-1\")); Assert.assertEquals(SHA_256_foo, SHA.encryptSHA(\"foo\", \"SHA-256\")); Assert.assertEquals(SHA_bar, SHA.encryptSHA(\"bar\", \"SHA\")); Assert.assertEquals(SHA_1_bar, SHA.encryptSHA(\"bar\", \"SHA-1\")); Assert.assertEquals(SHA_256_bar, SHA.encryptSHA(\"bar\", \"SHA-256\")); }'"
          },
          "metadata": {}
        }
      ],
      "id": "ZRW7zLK-zS4C"
    },
    {
      "cell_type": "code",
      "source": [
        "data=Dataset.from_list(json_data)"
      ],
      "metadata": {
        "execution": {
          "iopub.status.busy": "2024-08-24T18:23:17.907953Z",
          "iopub.execute_input": "2024-08-24T18:23:17.908359Z",
          "iopub.status.idle": "2024-08-24T18:23:18.775306Z",
          "shell.execute_reply.started": "2024-08-24T18:23:17.908322Z",
          "shell.execute_reply": "2024-08-24T18:23:18.774313Z"
        },
        "trusted": true,
        "id": "25sj0DRbzS4C"
      },
      "execution_count": null,
      "outputs": [],
      "id": "25sj0DRbzS4C"
    },
    {
      "cell_type": "code",
      "source": [
        "data"
      ],
      "metadata": {
        "execution": {
          "iopub.status.busy": "2024-08-24T18:23:26.442878Z",
          "iopub.execute_input": "2024-08-24T18:23:26.443504Z",
          "iopub.status.idle": "2024-08-24T18:23:26.449417Z",
          "shell.execute_reply.started": "2024-08-24T18:23:26.443465Z",
          "shell.execute_reply": "2024-08-24T18:23:26.448494Z"
        },
        "trusted": true,
        "id": "0VxEhjsKzS4C",
        "outputId": "33f5b23c-03b5-4cab-d708-3c2a539352c2"
      },
      "execution_count": null,
      "outputs": [
        {
          "execution_count": 17,
          "output_type": "execute_result",
          "data": {
            "text/plain": "Dataset({\n    features: ['instruction', 'output'],\n    num_rows: 40000\n})"
          },
          "metadata": {}
        }
      ],
      "id": "0VxEhjsKzS4C"
    },
    {
      "cell_type": "code",
      "source": [
        "data=data.train_test_split(test_size=0.2)"
      ],
      "metadata": {
        "execution": {
          "iopub.status.busy": "2024-08-24T18:24:32.603115Z",
          "iopub.execute_input": "2024-08-24T18:24:32.603977Z",
          "iopub.status.idle": "2024-08-24T18:24:32.643089Z",
          "shell.execute_reply.started": "2024-08-24T18:24:32.603938Z",
          "shell.execute_reply": "2024-08-24T18:24:32.642343Z"
        },
        "trusted": true,
        "id": "h6JpRNNBzS4C"
      },
      "execution_count": null,
      "outputs": [],
      "id": "h6JpRNNBzS4C"
    },
    {
      "cell_type": "code",
      "source": [
        "data"
      ],
      "metadata": {
        "execution": {
          "iopub.status.busy": "2024-08-24T18:24:40.352714Z",
          "iopub.execute_input": "2024-08-24T18:24:40.353346Z",
          "iopub.status.idle": "2024-08-24T18:24:40.359190Z",
          "shell.execute_reply.started": "2024-08-24T18:24:40.353306Z",
          "shell.execute_reply": "2024-08-24T18:24:40.358277Z"
        },
        "trusted": true,
        "id": "3yp0nnU1zS4C",
        "outputId": "0962c012-a681-452e-da6d-7c5b5c0259bf"
      },
      "execution_count": null,
      "outputs": [
        {
          "execution_count": 19,
          "output_type": "execute_result",
          "data": {
            "text/plain": "DatasetDict({\n    train: Dataset({\n        features: ['instruction', 'output'],\n        num_rows: 32000\n    })\n    test: Dataset({\n        features: ['instruction', 'output'],\n        num_rows: 8000\n    })\n})"
          },
          "metadata": {}
        }
      ],
      "id": "3yp0nnU1zS4C"
    },
    {
      "cell_type": "code",
      "source": [
        "train=data['train']\n",
        "test=data['test']"
      ],
      "metadata": {
        "id": "7c12b067",
        "papermill": {
          "duration": 0.053784,
          "end_time": "2024-08-19T18:28:39.640464",
          "exception": false,
          "start_time": "2024-08-19T18:28:39.586680",
          "status": "completed"
        },
        "tags": [],
        "execution": {
          "iopub.status.busy": "2024-08-24T18:25:35.783712Z",
          "iopub.execute_input": "2024-08-24T18:25:35.784356Z",
          "iopub.status.idle": "2024-08-24T18:25:35.788643Z",
          "shell.execute_reply.started": "2024-08-24T18:25:35.784313Z",
          "shell.execute_reply": "2024-08-24T18:25:35.787606Z"
        },
        "trusted": true
      },
      "execution_count": null,
      "outputs": [],
      "id": "7c12b067"
    },
    {
      "cell_type": "code",
      "source": [
        "train"
      ],
      "metadata": {
        "id": "bf0f2c41",
        "outputId": "a17061ba-2030-4feb-8868-c0ad33df8105",
        "papermill": {
          "duration": 0.05529,
          "end_time": "2024-08-19T18:28:39.742770",
          "exception": false,
          "start_time": "2024-08-19T18:28:39.687480",
          "status": "completed"
        },
        "tags": [],
        "execution": {
          "iopub.status.busy": "2024-08-24T18:25:43.269473Z",
          "iopub.execute_input": "2024-08-24T18:25:43.269810Z",
          "iopub.status.idle": "2024-08-24T18:25:43.275764Z",
          "shell.execute_reply.started": "2024-08-24T18:25:43.269779Z",
          "shell.execute_reply": "2024-08-24T18:25:43.274850Z"
        },
        "trusted": true
      },
      "execution_count": null,
      "outputs": [
        {
          "execution_count": 22,
          "output_type": "execute_result",
          "data": {
            "text/plain": "Dataset({\n    features: ['instruction', 'output'],\n    num_rows: 32000\n})"
          },
          "metadata": {}
        }
      ],
      "id": "bf0f2c41"
    },
    {
      "cell_type": "code",
      "source": [
        "test"
      ],
      "metadata": {
        "id": "e4d5e98e",
        "outputId": "3b1d6787-eb13-4486-a4bb-aad8a459b338",
        "papermill": {
          "duration": 0.055959,
          "end_time": "2024-08-19T18:28:39.846072",
          "exception": false,
          "start_time": "2024-08-19T18:28:39.790113",
          "status": "completed"
        },
        "tags": [],
        "execution": {
          "iopub.status.busy": "2024-08-24T18:25:44.739801Z",
          "iopub.execute_input": "2024-08-24T18:25:44.740302Z",
          "iopub.status.idle": "2024-08-24T18:25:44.748619Z",
          "shell.execute_reply.started": "2024-08-24T18:25:44.740254Z",
          "shell.execute_reply": "2024-08-24T18:25:44.747580Z"
        },
        "trusted": true
      },
      "execution_count": null,
      "outputs": [
        {
          "execution_count": 23,
          "output_type": "execute_result",
          "data": {
            "text/plain": "Dataset({\n    features: ['instruction', 'output'],\n    num_rows: 8000\n})"
          },
          "metadata": {}
        }
      ],
      "id": "e4d5e98e"
    },
    {
      "cell_type": "code",
      "source": [
        "tokenizer = RobertaTokenizer.from_pretrained('Salesforce/codet5-base')"
      ],
      "metadata": {
        "id": "06649468",
        "outputId": "b6c926d0-2e26-4c14-b1ec-fdb5fd451b4b",
        "papermill": {
          "duration": 2.448931,
          "end_time": "2024-08-19T18:28:42.437899",
          "exception": false,
          "start_time": "2024-08-19T18:28:39.988968",
          "status": "completed"
        },
        "tags": [],
        "colab": {
          "referenced_widgets": [
            "92d0bd44169d4ba28497f45b32316ee4",
            "363afb583fc04cefbed0a6e27027627b",
            "71cc6c9fd6744831a7522f2c7a8a970e",
            "8bd827f31856418f8c2312554b7aff7f",
            "fd69de66b82d44538bfa3fa3566d4a9c",
            "a3760fb0f3204e379c797bb6a03c1116",
            "89ba70b9ef304816bd7e046ba51d4ab9",
            "80840b152adf4e319c8210388615a4f8",
            "8abd7593b8a4449e8c7abbf91888a259",
            "b680e8289dc3473a88610b354befb747"
          ]
        },
        "execution": {
          "iopub.status.busy": "2024-08-24T18:25:57.424193Z",
          "iopub.execute_input": "2024-08-24T18:25:57.424611Z",
          "iopub.status.idle": "2024-08-24T18:26:02.919409Z",
          "shell.execute_reply.started": "2024-08-24T18:25:57.424571Z",
          "shell.execute_reply": "2024-08-24T18:26:02.918322Z"
        },
        "trusted": true
      },
      "execution_count": null,
      "outputs": [
        {
          "output_type": "display_data",
          "data": {
            "text/plain": "tokenizer_config.json:   0%|          | 0.00/1.48k [00:00<?, ?B/s]",
            "application/vnd.jupyter.widget-view+json": {
              "version_major": 2,
              "version_minor": 0,
              "model_id": "a3760fb0f3204e379c797bb6a03c1116"
            }
          },
          "metadata": {}
        },
        {
          "output_type": "display_data",
          "data": {
            "text/plain": "vocab.json:   0%|          | 0.00/703k [00:00<?, ?B/s]",
            "application/vnd.jupyter.widget-view+json": {
              "version_major": 2,
              "version_minor": 0,
              "model_id": "89ba70b9ef304816bd7e046ba51d4ab9"
            }
          },
          "metadata": {}
        },
        {
          "output_type": "display_data",
          "data": {
            "text/plain": "merges.txt:   0%|          | 0.00/294k [00:00<?, ?B/s]",
            "application/vnd.jupyter.widget-view+json": {
              "version_major": 2,
              "version_minor": 0,
              "model_id": "80840b152adf4e319c8210388615a4f8"
            }
          },
          "metadata": {}
        },
        {
          "output_type": "display_data",
          "data": {
            "text/plain": "added_tokens.json:   0%|          | 0.00/2.00 [00:00<?, ?B/s]",
            "application/vnd.jupyter.widget-view+json": {
              "version_major": 2,
              "version_minor": 0,
              "model_id": "8abd7593b8a4449e8c7abbf91888a259"
            }
          },
          "metadata": {}
        },
        {
          "output_type": "display_data",
          "data": {
            "text/plain": "special_tokens_map.json:   0%|          | 0.00/12.5k [00:00<?, ?B/s]",
            "application/vnd.jupyter.widget-view+json": {
              "version_major": 2,
              "version_minor": 0,
              "model_id": "b680e8289dc3473a88610b354befb747"
            }
          },
          "metadata": {}
        },
        {
          "name": "stderr",
          "text": "/opt/conda/lib/python3.10/site-packages/transformers/tokenization_utils_base.py:1601: FutureWarning: `clean_up_tokenization_spaces` was not set. It will be set to `True` by default. This behavior will be depracted in transformers v4.45, and will be then set to `False` by default. For more details check this issue: https://github.com/huggingface/transformers/issues/31884\n  warnings.warn(\n",
          "output_type": "stream"
        }
      ],
      "id": "06649468"
    },
    {
      "cell_type": "code",
      "source": [
        "tokens=tokenizer.tokenize(train['instruction'][0])\n",
        "print(\"Token:\\n\",tokens)"
      ],
      "metadata": {
        "id": "eGxlfyOcIqjD",
        "execution": {
          "iopub.status.busy": "2024-08-24T18:26:35.700054Z",
          "iopub.execute_input": "2024-08-24T18:26:35.700815Z",
          "iopub.status.idle": "2024-08-24T18:26:36.000354Z",
          "shell.execute_reply.started": "2024-08-24T18:26:35.700774Z",
          "shell.execute_reply": "2024-08-24T18:26:35.999409Z"
        },
        "trusted": true,
        "outputId": "42c0365c-11a9-4338-f803-2d12d83251e9"
      },
      "execution_count": null,
      "outputs": [
        {
          "name": "stdout",
          "text": "Token:\n ['Generate', 'Ġa', 'Ġunit', 'Ġtest', 'Ġcase', 'Ġfor', 'Ġthe', 'Ġfollowing', 'ĠJava', 'Ġmethod', ':', 'ĠEmail', 'Output', 'Ġimplements', 'ĠReport', 'OutputHandler', 'Ġ{', 'Ġpublic', 'Ġint', 'Ġgenerate', '(', 'Ġfinal', 'ĠMaster', 'Report', 'Ġreport', ',', 'Ġfinal', 'Ġint', 'Ġaccepted', 'Page', ',', 'Ġfinal', 'ĠOutputStream', 'ĠoutputStream', ',', 'Ġfinal', 'Ġint', 'Ġyield', 'Rate', 'Ġ)', 'Ġthrows', 'ĠReport', 'ProcessingException', ',', 'ĠIOException', ',', 'ĠContent', 'IOException', 'Ġ{', 'Ġfinal', 'ĠI', 'ApplicationContext', 'Ġctx', 'Ġ=', 'ĠP', 'ent', 'ah', 'o', 'System', '.', 'get', 'ApplicationContext', '();', 'Ġif', 'Ġ(', 'Ġctx', 'Ġ==', 'Ġnull', 'Ġ)', 'Ġ{', 'Ġreturn', 'Ġ-', '1', ';', 'Ġ}', 'Ġtry', 'Ġ{', 'Ġfinal', 'ĠConfiguration', 'Ġconfiguration', 'Ġ=', 'Ġreport', '.', 'get', 'Configuration', '();', 'Ġif', 'Ġ(', 'Ġconfiguration', 'Ġinstanceof', 'ĠMod', 'ifiable', 'Configuration', 'Ġ)', 'Ġ{', 'Ġfinal', 'ĠMod', 'ifiable', 'Configuration', 'Ġmod', 'ifiable', 'Configuration', 'Ġ=', 'Ġ(', 'Mod', 'ifiable', 'Configuration', ')', 'Ġconfiguration', ';', 'Ġmod', 'ifiable', 'Configuration', '.', 'set', 'Config', 'Property', '(', 'ĠHtml', 'Table', 'Module', '.', 'IN', 'LINE', '_', 'STYLE', ',', 'Ġ\"', 'true', '\"', 'Ġ);', 'Ġmod', 'ifiable', 'Configuration', '.', 'set', 'Config', 'Property', '(', 'ĠHtml', 'Table', 'Module', '.', 'EX', 'TERNAL', 'IZE', '_', 'STYLE', ',', 'Ġ\"', 'false', '\"', 'Ġ);', 'Ġmod', 'ifiable', 'Configuration', '.', 'set', 'Config', 'Property', '(', 'ĠR', 'OT', 'ATED', '_', 'TEXT', '_', 'AS', '_', 'IMAGE', 'S', ',', 'Ġ\"', 'true', '\"', 'Ġ);', 'Ġ}', 'Ġfinal', 'ĠProperties', 'Ġprops', 'Ġ=', 'Ġnew', 'ĠProperties', '();', 'Ġfinal', 'ĠSession', 'Ġsession', 'Ġ=', 'ĠSession', '.', 'get', 'Instance', '(', 'Ġprops', 'Ġ);', 'Ġfinal', 'ĠEmail', 'Repository', 'Ġdata', 'Repository', 'Ġ=', 'Ġnew', 'ĠEmail', 'Repository', '(', 'Ġsession', 'Ġ);', 'Ġfinal', 'ĠContent', 'Location', 'Ġdata', 'Location', 'Ġ=', 'Ġdata', 'Repository', '.', 'get', 'Root', '();', 'Ġfinal', 'ĠHtml', 'Output', 'Processor', 'Ġoutput', 'Processor', 'Ġ=', 'Ġnew', 'ĠStream', 'Html', 'Output', 'Processor', '(', 'Ġconfiguration', 'Ġ);', 'Ġfinal', 'ĠHtml', 'Printer', 'Ġprinter', 'Ġ=', 'Ġnew', 'ĠAll', 'Items', 'Html', 'Printer', '(', 'Ġreport', '.', 'get', 'Resource', 'Manager', '()', 'Ġ);', 'Ġprinter', '.', 'set', 'Content', 'Writer', '(', 'Ġdata', 'Location', ',', 'Ġnew', 'ĠDefault', 'Name', 'Generator', '(', 'Ġdata', 'Location', ',', 'Ġ\"', 'index', '\",', 'Ġ\"', 'html', '\"', 'Ġ)', 'Ġ);', 'Ġprinter', '.', 'set', 'Data', 'Writer', '(', 'Ġdata', 'Location', ',', 'Ġnew', 'ĠDefault', 'Name', 'Generator', '(', 'Ġdata', 'Location', 'Ġ)', 'Ġ);', 'Ġprinter', '.', 'set', 'Url', 'Rew', 'riter', '(', 'Ġnew', 'ĠMail', 'URL', 'Rew', 'riter', '()', 'Ġ);', 'Ġoutput', 'Processor', '.', 'set', 'Printer', '(', 'Ġprinter', 'Ġ);', 'Ġfinal', 'ĠStream', 'Report', 'Processor', 'Ġsp', 'Ġ=', 'Ġnew', 'ĠStream', 'Report', 'Processor', '(', 'Ġreport', ',', 'Ġoutput', 'Processor', 'Ġ);', 'Ġif', 'Ġ(', 'Ġyield', 'Rate', 'Ġ>', 'Ġ0', 'Ġ)', 'Ġ{', 'Ġsp', '.', 'add', 'Report', 'Progress', 'Listener', '(', 'ĠgetY', 'ield', 'Listener', '(', 'Ġyield', 'Rate', 'Ġ)', 'Ġ);', 'Ġ}', 'Ġfinal', 'ĠI', 'Async', 'Report', 'Listener', 'Ġlistener', 'Ġ=', 'ĠReport', 'Listener', 'Thread', 'Holder', '.', 'get', 'Listener', '();', 'Ġdo', 'Process', '(', 'Ġlistener', ',', 'Ġsp', 'Ġ);', 'Ġdata', 'Repository', '.', 'write', 'Email', '(', 'ĠoutputStream', 'Ġ);', 'ĠoutputStream', '.', 'flush', '();', 'Ġreturn', 'Ġ0', ';', 'Ġ}', 'Ġcatch', 'Ġ(', 'Ġfinal', 'ĠMessaging', 'Exception', 'Ġe', 'Ġ)', 'Ġ{', 'Ġthrow', 'Ġnew', 'ĠReport', 'ProcessingException', '(', 'Ġ\"', 'Error', '\",', 'Ġe', 'Ġ);', 'Ġ}', 'Ġ}', 'ĠEmail', 'Output', '();', 'ĠObject', 'ĠgetReport', 'Lock', '();', 'Ġint', 'Ġpaginate', '(', 'Ġfinal', 'ĠMaster', 'Report', 'Ġreport', ',', 'Ġfinal', 'Ġint', 'Ġyield', 'Rate', 'Ġ);', 'Ġint', 'Ġgenerate', '(', 'Ġfinal', 'ĠMaster', 'Report', 'Ġreport', ',', 'Ġfinal', 'Ġint', 'Ġaccepted', 'Page', ',', 'Ġfinal', 'ĠOutputStream', 'ĠoutputStream', ',', 'Ċ', 'ĠĠĠĠĠĠĠĠĠĠĠĠĠĠĠĠĠĠĠĠĠĠ', 'Ġfinal', 'Ġint', 'Ġyield', 'Rate', 'Ġ);', 'Ġboolean', 'Ġsupports', 'Pagination', '();', 'Ġvoid', 'Ġclose', '();', 'Ġ', 'Ġ}']\n",
          "output_type": "stream"
        }
      ],
      "id": "eGxlfyOcIqjD"
    },
    {
      "cell_type": "code",
      "source": [
        "token_id=tokenizer.convert_tokens_to_ids(tokens)\n",
        "print(\"Token id:\\n\",token_id)"
      ],
      "metadata": {
        "id": "G2ioQnUlI-rV",
        "execution": {
          "iopub.status.busy": "2024-08-24T18:26:46.927547Z",
          "iopub.execute_input": "2024-08-24T18:26:46.928272Z",
          "iopub.status.idle": "2024-08-24T18:26:46.933548Z",
          "shell.execute_reply.started": "2024-08-24T18:26:46.928233Z",
          "shell.execute_reply": "2024-08-24T18:26:46.932483Z"
        },
        "trusted": true,
        "outputId": "7db82721-2aef-4e0f-d8f8-0245757b6d3d"
      },
      "execution_count": null,
      "outputs": [
        {
          "name": "stdout",
          "text": "Token id:\n [4625, 279, 2836, 1842, 648, 364, 326, 3751, 5110, 707, 30, 8166, 1447, 4792, 8706, 30796, 288, 1071, 509, 2103, 12, 727, 13453, 4820, 2605, 16, 727, 509, 8494, 1964, 16, 727, 8962, 14956, 16, 727, 509, 2824, 4727, 262, 1216, 8706, 23684, 16, 1860, 16, 3697, 14106, 288, 727, 467, 28278, 1103, 273, 453, 319, 9795, 83, 3163, 18, 588, 28278, 5621, 309, 261, 1103, 422, 446, 262, 288, 327, 300, 21, 31, 289, 775, 288, 727, 4659, 1664, 273, 2605, 18, 588, 1750, 5621, 309, 261, 1664, 1276, 3431, 8424, 1750, 262, 288, 727, 3431, 8424, 1750, 681, 8424, 1750, 273, 261, 1739, 8424, 1750, 13, 1664, 31, 681, 8424, 1750, 18, 542, 809, 1396, 12, 5430, 1388, 3120, 18, 706, 5997, 67, 15066, 16, 315, 3767, 6, 11272, 681, 8424, 1750, 18, 542, 809, 1396, 12, 5430, 1388, 3120, 18, 2294, 11702, 15641, 67, 15066, 16, 315, 5743, 6, 11272, 681, 8424, 1750, 18, 542, 809, 1396, 12, 534, 1974, 6344, 67, 5151, 67, 3033, 67, 13603, 55, 16, 315, 3767, 6, 11272, 289, 727, 6183, 3458, 273, 394, 6183, 5621, 727, 3877, 1339, 273, 3877, 18, 588, 1442, 12, 3458, 11272, 727, 8166, 3305, 501, 3305, 273, 394, 8166, 3305, 12, 1339, 11272, 727, 3697, 2735, 501, 2735, 273, 501, 3305, 18, 588, 2375, 5621, 727, 5430, 1447, 5164, 876, 5164, 273, 394, 3961, 4353, 1447, 5164, 12, 1664, 11272, 727, 5430, 12149, 12539, 273, 394, 4826, 3126, 4353, 12149, 12, 2605, 18, 588, 1420, 1318, 1435, 11272, 12539, 18, 542, 1350, 2289, 12, 501, 2735, 16, 394, 2989, 461, 3908, 12, 501, 2735, 16, 315, 1615, 3113, 315, 2620, 6, 262, 11272, 12539, 18, 542, 751, 2289, 12, 501, 2735, 16, 394, 2989, 461, 3908, 12, 501, 2735, 262, 11272, 12539, 18, 542, 1489, 17631, 1091, 12, 394, 11542, 1785, 17631, 1091, 1435, 11272, 876, 5164, 18, 542, 12149, 12, 12539, 11272, 727, 3961, 4820, 5164, 1694, 273, 394, 3961, 4820, 5164, 12, 2605, 16, 876, 5164, 11272, 309, 261, 2824, 4727, 405, 374, 262, 288, 1694, 18, 1289, 4820, 5491, 2223, 12, 10448, 491, 2223, 12, 2824, 4727, 262, 11272, 289, 727, 467, 2771, 4820, 2223, 2991, 273, 8706, 2223, 3830, 6064, 18, 588, 2223, 5621, 741, 2227, 12, 2991, 16, 1694, 11272, 501, 3305, 18, 2626, 4134, 12, 14956, 11272, 14956, 18, 11330, 5621, 327, 374, 31, 289, 1044, 261, 727, 23794, 503, 425, 262, 288, 604, 394, 8706, 23684, 12, 315, 668, 3113, 425, 11272, 289, 289, 8166, 1447, 5621, 1033, 22452, 2531, 5621, 509, 15171, 12, 727, 13453, 4820, 2605, 16, 727, 509, 2824, 4727, 11272, 509, 2103, 12, 727, 13453, 4820, 2605, 16, 727, 509, 8494, 1964, 16, 727, 8962, 14956, 16, 203, 15604, 727, 509, 2824, 4727, 11272, 1250, 6146, 19224, 5621, 918, 1746, 5621, 225, 289]\n",
          "output_type": "stream"
        }
      ],
      "id": "G2ioQnUlI-rV"
    },
    {
      "cell_type": "code",
      "source": [
        "original_tokens=tokenizer.convert_ids_to_tokens(token_id)\n",
        "print(\"Original token:\\n\",original_tokens)"
      ],
      "metadata": {
        "id": "396b93d0",
        "outputId": "5d9e3b88-4c66-4bf3-ac97-f3f0733bd03a",
        "papermill": {
          "duration": 0.347068,
          "end_time": "2024-08-19T18:28:42.930975",
          "exception": false,
          "start_time": "2024-08-19T18:28:42.583907",
          "status": "completed"
        },
        "tags": [],
        "execution": {
          "iopub.status.busy": "2024-08-24T18:26:52.712975Z",
          "iopub.execute_input": "2024-08-24T18:26:52.713872Z",
          "iopub.status.idle": "2024-08-24T18:26:52.719110Z",
          "shell.execute_reply.started": "2024-08-24T18:26:52.713830Z",
          "shell.execute_reply": "2024-08-24T18:26:52.718279Z"
        },
        "trusted": true
      },
      "execution_count": null,
      "outputs": [
        {
          "name": "stdout",
          "text": "Original token:\n ['Generate', 'Ġa', 'Ġunit', 'Ġtest', 'Ġcase', 'Ġfor', 'Ġthe', 'Ġfollowing', 'ĠJava', 'Ġmethod', ':', 'ĠEmail', 'Output', 'Ġimplements', 'ĠReport', 'OutputHandler', 'Ġ{', 'Ġpublic', 'Ġint', 'Ġgenerate', '(', 'Ġfinal', 'ĠMaster', 'Report', 'Ġreport', ',', 'Ġfinal', 'Ġint', 'Ġaccepted', 'Page', ',', 'Ġfinal', 'ĠOutputStream', 'ĠoutputStream', ',', 'Ġfinal', 'Ġint', 'Ġyield', 'Rate', 'Ġ)', 'Ġthrows', 'ĠReport', 'ProcessingException', ',', 'ĠIOException', ',', 'ĠContent', 'IOException', 'Ġ{', 'Ġfinal', 'ĠI', 'ApplicationContext', 'Ġctx', 'Ġ=', 'ĠP', 'ent', 'ah', 'o', 'System', '.', 'get', 'ApplicationContext', '();', 'Ġif', 'Ġ(', 'Ġctx', 'Ġ==', 'Ġnull', 'Ġ)', 'Ġ{', 'Ġreturn', 'Ġ-', '1', ';', 'Ġ}', 'Ġtry', 'Ġ{', 'Ġfinal', 'ĠConfiguration', 'Ġconfiguration', 'Ġ=', 'Ġreport', '.', 'get', 'Configuration', '();', 'Ġif', 'Ġ(', 'Ġconfiguration', 'Ġinstanceof', 'ĠMod', 'ifiable', 'Configuration', 'Ġ)', 'Ġ{', 'Ġfinal', 'ĠMod', 'ifiable', 'Configuration', 'Ġmod', 'ifiable', 'Configuration', 'Ġ=', 'Ġ(', 'Mod', 'ifiable', 'Configuration', ')', 'Ġconfiguration', ';', 'Ġmod', 'ifiable', 'Configuration', '.', 'set', 'Config', 'Property', '(', 'ĠHtml', 'Table', 'Module', '.', 'IN', 'LINE', '_', 'STYLE', ',', 'Ġ\"', 'true', '\"', 'Ġ);', 'Ġmod', 'ifiable', 'Configuration', '.', 'set', 'Config', 'Property', '(', 'ĠHtml', 'Table', 'Module', '.', 'EX', 'TERNAL', 'IZE', '_', 'STYLE', ',', 'Ġ\"', 'false', '\"', 'Ġ);', 'Ġmod', 'ifiable', 'Configuration', '.', 'set', 'Config', 'Property', '(', 'ĠR', 'OT', 'ATED', '_', 'TEXT', '_', 'AS', '_', 'IMAGE', 'S', ',', 'Ġ\"', 'true', '\"', 'Ġ);', 'Ġ}', 'Ġfinal', 'ĠProperties', 'Ġprops', 'Ġ=', 'Ġnew', 'ĠProperties', '();', 'Ġfinal', 'ĠSession', 'Ġsession', 'Ġ=', 'ĠSession', '.', 'get', 'Instance', '(', 'Ġprops', 'Ġ);', 'Ġfinal', 'ĠEmail', 'Repository', 'Ġdata', 'Repository', 'Ġ=', 'Ġnew', 'ĠEmail', 'Repository', '(', 'Ġsession', 'Ġ);', 'Ġfinal', 'ĠContent', 'Location', 'Ġdata', 'Location', 'Ġ=', 'Ġdata', 'Repository', '.', 'get', 'Root', '();', 'Ġfinal', 'ĠHtml', 'Output', 'Processor', 'Ġoutput', 'Processor', 'Ġ=', 'Ġnew', 'ĠStream', 'Html', 'Output', 'Processor', '(', 'Ġconfiguration', 'Ġ);', 'Ġfinal', 'ĠHtml', 'Printer', 'Ġprinter', 'Ġ=', 'Ġnew', 'ĠAll', 'Items', 'Html', 'Printer', '(', 'Ġreport', '.', 'get', 'Resource', 'Manager', '()', 'Ġ);', 'Ġprinter', '.', 'set', 'Content', 'Writer', '(', 'Ġdata', 'Location', ',', 'Ġnew', 'ĠDefault', 'Name', 'Generator', '(', 'Ġdata', 'Location', ',', 'Ġ\"', 'index', '\",', 'Ġ\"', 'html', '\"', 'Ġ)', 'Ġ);', 'Ġprinter', '.', 'set', 'Data', 'Writer', '(', 'Ġdata', 'Location', ',', 'Ġnew', 'ĠDefault', 'Name', 'Generator', '(', 'Ġdata', 'Location', 'Ġ)', 'Ġ);', 'Ġprinter', '.', 'set', 'Url', 'Rew', 'riter', '(', 'Ġnew', 'ĠMail', 'URL', 'Rew', 'riter', '()', 'Ġ);', 'Ġoutput', 'Processor', '.', 'set', 'Printer', '(', 'Ġprinter', 'Ġ);', 'Ġfinal', 'ĠStream', 'Report', 'Processor', 'Ġsp', 'Ġ=', 'Ġnew', 'ĠStream', 'Report', 'Processor', '(', 'Ġreport', ',', 'Ġoutput', 'Processor', 'Ġ);', 'Ġif', 'Ġ(', 'Ġyield', 'Rate', 'Ġ>', 'Ġ0', 'Ġ)', 'Ġ{', 'Ġsp', '.', 'add', 'Report', 'Progress', 'Listener', '(', 'ĠgetY', 'ield', 'Listener', '(', 'Ġyield', 'Rate', 'Ġ)', 'Ġ);', 'Ġ}', 'Ġfinal', 'ĠI', 'Async', 'Report', 'Listener', 'Ġlistener', 'Ġ=', 'ĠReport', 'Listener', 'Thread', 'Holder', '.', 'get', 'Listener', '();', 'Ġdo', 'Process', '(', 'Ġlistener', ',', 'Ġsp', 'Ġ);', 'Ġdata', 'Repository', '.', 'write', 'Email', '(', 'ĠoutputStream', 'Ġ);', 'ĠoutputStream', '.', 'flush', '();', 'Ġreturn', 'Ġ0', ';', 'Ġ}', 'Ġcatch', 'Ġ(', 'Ġfinal', 'ĠMessaging', 'Exception', 'Ġe', 'Ġ)', 'Ġ{', 'Ġthrow', 'Ġnew', 'ĠReport', 'ProcessingException', '(', 'Ġ\"', 'Error', '\",', 'Ġe', 'Ġ);', 'Ġ}', 'Ġ}', 'ĠEmail', 'Output', '();', 'ĠObject', 'ĠgetReport', 'Lock', '();', 'Ġint', 'Ġpaginate', '(', 'Ġfinal', 'ĠMaster', 'Report', 'Ġreport', ',', 'Ġfinal', 'Ġint', 'Ġyield', 'Rate', 'Ġ);', 'Ġint', 'Ġgenerate', '(', 'Ġfinal', 'ĠMaster', 'Report', 'Ġreport', ',', 'Ġfinal', 'Ġint', 'Ġaccepted', 'Page', ',', 'Ġfinal', 'ĠOutputStream', 'ĠoutputStream', ',', 'Ċ', 'ĠĠĠĠĠĠĠĠĠĠĠĠĠĠĠĠĠĠĠĠĠĠ', 'Ġfinal', 'Ġint', 'Ġyield', 'Rate', 'Ġ);', 'Ġboolean', 'Ġsupports', 'Pagination', '();', 'Ġvoid', 'Ġclose', '();', 'Ġ', 'Ġ}']\n",
          "output_type": "stream"
        }
      ],
      "id": "396b93d0"
    },
    {
      "cell_type": "code",
      "source": [
        "tokenizer(train['instruction'][0],max_length=100,truncation=True,padding=\"max_length\",return_tensors=\"pt\")"
      ],
      "metadata": {
        "id": "9896bc30",
        "outputId": "3ede11d6-ff0a-418f-f43a-132e48e6a77b",
        "papermill": {
          "duration": 0.362936,
          "end_time": "2024-08-19T18:28:43.343150",
          "exception": false,
          "start_time": "2024-08-19T18:28:42.980214",
          "status": "completed"
        },
        "tags": [],
        "execution": {
          "iopub.status.busy": "2024-08-24T18:27:13.407090Z",
          "iopub.execute_input": "2024-08-24T18:27:13.407499Z",
          "iopub.status.idle": "2024-08-24T18:27:14.166956Z",
          "shell.execute_reply.started": "2024-08-24T18:27:13.407461Z",
          "shell.execute_reply": "2024-08-24T18:27:14.165909Z"
        },
        "trusted": true
      },
      "execution_count": null,
      "outputs": [
        {
          "execution_count": 28,
          "output_type": "execute_result",
          "data": {
            "text/plain": "{'input_ids': tensor([[    1,  4625,   279,  2836,  1842,   648,   364,   326,  3751,  5110,\n           707,    30,  8166,  1447,  4792,  8706, 30796,   288,  1071,   509,\n          2103,    12,   727, 13453,  4820,  2605,    16,   727,   509,  8494,\n          1964,    16,   727,  8962, 14956,    16,   727,   509,  2824,  4727,\n           262,  1216,  8706, 23684,    16,  1860,    16,  3697, 14106,   288,\n           727,   467, 28278,  1103,   273,   453,   319,  9795,    83,  3163,\n            18,   588, 28278,  5621,   309,   261,  1103,   422,   446,   262,\n           288,   327,   300,    21,    31,   289,   775,   288,   727,  4659,\n          1664,   273,  2605,    18,   588,  1750,  5621,   309,   261,  1664,\n          1276,  3431,  8424,  1750,   262,   288,   727,  3431,  8424,     2]]), 'attention_mask': tensor([[1, 1, 1, 1, 1, 1, 1, 1, 1, 1, 1, 1, 1, 1, 1, 1, 1, 1, 1, 1, 1, 1, 1, 1,\n         1, 1, 1, 1, 1, 1, 1, 1, 1, 1, 1, 1, 1, 1, 1, 1, 1, 1, 1, 1, 1, 1, 1, 1,\n         1, 1, 1, 1, 1, 1, 1, 1, 1, 1, 1, 1, 1, 1, 1, 1, 1, 1, 1, 1, 1, 1, 1, 1,\n         1, 1, 1, 1, 1, 1, 1, 1, 1, 1, 1, 1, 1, 1, 1, 1, 1, 1, 1, 1, 1, 1, 1, 1,\n         1, 1, 1, 1]])}"
          },
          "metadata": {}
        }
      ],
      "id": "9896bc30"
    },
    {
      "cell_type": "code",
      "source": [
        "def tokenize_data(data):\n",
        "  input_col=tokenizer(data['instruction'],max_length=512,truncation=True,padding=\"max_length\",return_tensors=\"pt\")\n",
        "  target_col=tokenizer(data['output'],max_length=512,truncation=True,padding=\"max_length\",return_tensors=\"pt\")\n",
        "\n",
        "  return {\n",
        "      \"input_ids\":input_col[\"input_ids\"],\n",
        "      \"attention_mask\":input_col[\"attention_mask\"],\n",
        "      \"labels\":target_col[\"input_ids\"]\n",
        "  }"
      ],
      "metadata": {
        "id": "7c164335",
        "papermill": {
          "duration": 0.057068,
          "end_time": "2024-08-19T18:28:43.547133",
          "exception": false,
          "start_time": "2024-08-19T18:28:43.490065",
          "status": "completed"
        },
        "tags": [],
        "execution": {
          "iopub.status.busy": "2024-08-24T18:27:44.851576Z",
          "iopub.execute_input": "2024-08-24T18:27:44.852262Z",
          "iopub.status.idle": "2024-08-24T18:27:44.857836Z",
          "shell.execute_reply.started": "2024-08-24T18:27:44.852219Z",
          "shell.execute_reply": "2024-08-24T18:27:44.856900Z"
        },
        "trusted": true
      },
      "execution_count": null,
      "outputs": [],
      "id": "7c164335"
    },
    {
      "cell_type": "code",
      "source": [
        "print(\"Mapping train data...\")\n",
        "train=train.map(tokenize_data,batched=True)"
      ],
      "metadata": {
        "id": "DSq1kLlJJfvb",
        "execution": {
          "iopub.status.busy": "2024-08-24T18:27:46.652038Z",
          "iopub.execute_input": "2024-08-24T18:27:46.652431Z",
          "iopub.status.idle": "2024-08-24T18:31:00.855006Z",
          "shell.execute_reply.started": "2024-08-24T18:27:46.652395Z",
          "shell.execute_reply": "2024-08-24T18:31:00.854115Z"
        },
        "trusted": true,
        "colab": {
          "referenced_widgets": [
            "ae6e2c8eb42d415cb69e35832c6e739b"
          ]
        },
        "outputId": "f189c29b-9606-4a86-9626-e712fca943cb"
      },
      "execution_count": null,
      "outputs": [
        {
          "name": "stdout",
          "text": "Mapping train data\n",
          "output_type": "stream"
        },
        {
          "output_type": "display_data",
          "data": {
            "text/plain": "Map:   0%|          | 0/32000 [00:00<?, ? examples/s]",
            "application/vnd.jupyter.widget-view+json": {
              "version_major": 2,
              "version_minor": 0,
              "model_id": "ae6e2c8eb42d415cb69e35832c6e739b"
            }
          },
          "metadata": {}
        }
      ],
      "id": "DSq1kLlJJfvb"
    },
    {
      "cell_type": "code",
      "source": [
        "print(\"Mappig test data...\")\n",
        "test=test.map(tokenize_data,batched=True)"
      ],
      "metadata": {
        "id": "cfb71388",
        "outputId": "ba69d28c-716e-42ee-b04b-029cb0473634",
        "papermill": {
          "duration": 234.201424,
          "end_time": "2024-08-19T18:32:37.796994",
          "exception": false,
          "start_time": "2024-08-19T18:28:43.595570",
          "status": "completed"
        },
        "tags": [],
        "colab": {
          "referenced_widgets": [
            "2d066ee9dcc4410e83b358aaf1d6d930",
            "b68021d73859434c9e5422136e568bf9",
            "942fbf80372048ac9f20653d324f402a"
          ]
        },
        "execution": {
          "iopub.status.busy": "2024-08-24T18:32:18.980250Z",
          "iopub.execute_input": "2024-08-24T18:32:18.980927Z",
          "iopub.status.idle": "2024-08-24T18:33:16.139400Z",
          "shell.execute_reply.started": "2024-08-24T18:32:18.980889Z",
          "shell.execute_reply": "2024-08-24T18:33:16.138557Z"
        },
        "trusted": true
      },
      "execution_count": null,
      "outputs": [
        {
          "name": "stdout",
          "text": "Mappig test data\n",
          "output_type": "stream"
        },
        {
          "output_type": "display_data",
          "data": {
            "text/plain": "Map:   0%|          | 0/8000 [00:00<?, ? examples/s]",
            "application/vnd.jupyter.widget-view+json": {
              "version_major": 2,
              "version_minor": 0,
              "model_id": "942fbf80372048ac9f20653d324f402a"
            }
          },
          "metadata": {}
        }
      ],
      "id": "cfb71388"
    },
    {
      "cell_type": "code",
      "source": [
        "train"
      ],
      "metadata": {
        "id": "fdcd8fbf",
        "outputId": "9ea52a8b-3bbd-4959-eb64-d964ea73f573",
        "papermill": {
          "duration": 0.058778,
          "end_time": "2024-08-19T18:32:37.906151",
          "exception": false,
          "start_time": "2024-08-19T18:32:37.847373",
          "status": "completed"
        },
        "tags": [],
        "execution": {
          "iopub.status.busy": "2024-08-24T18:34:33.106109Z",
          "iopub.execute_input": "2024-08-24T18:34:33.107018Z",
          "iopub.status.idle": "2024-08-24T18:34:33.112921Z",
          "shell.execute_reply.started": "2024-08-24T18:34:33.106978Z",
          "shell.execute_reply": "2024-08-24T18:34:33.111913Z"
        },
        "trusted": true
      },
      "execution_count": null,
      "outputs": [
        {
          "execution_count": 32,
          "output_type": "execute_result",
          "data": {
            "text/plain": "Dataset({\n    features: ['instruction', 'output', 'input_ids', 'attention_mask', 'labels'],\n    num_rows: 32000\n})"
          },
          "metadata": {}
        }
      ],
      "id": "fdcd8fbf"
    },
    {
      "cell_type": "code",
      "source": [
        "train=train.remove_columns([\"instruction\",\"output\"])\n",
        "test=test.remove_columns([\"instruction\",\"output\"])"
      ],
      "metadata": {
        "id": "55b5d90b",
        "papermill": {
          "duration": 0.060414,
          "end_time": "2024-08-19T18:32:38.116038",
          "exception": false,
          "start_time": "2024-08-19T18:32:38.055624",
          "status": "completed"
        },
        "tags": [],
        "execution": {
          "iopub.status.busy": "2024-08-24T18:34:41.361700Z",
          "iopub.execute_input": "2024-08-24T18:34:41.362084Z",
          "iopub.status.idle": "2024-08-24T18:34:41.370842Z",
          "shell.execute_reply.started": "2024-08-24T18:34:41.362046Z",
          "shell.execute_reply": "2024-08-24T18:34:41.370066Z"
        },
        "trusted": true
      },
      "execution_count": null,
      "outputs": [],
      "id": "55b5d90b"
    },
    {
      "cell_type": "code",
      "source": [
        "train"
      ],
      "metadata": {
        "id": "a1a56fac",
        "outputId": "cb697ae3-b4c3-4f8f-c5f7-b83496b874f1",
        "papermill": {
          "duration": 0.058156,
          "end_time": "2024-08-19T18:32:38.224579",
          "exception": false,
          "start_time": "2024-08-19T18:32:38.166423",
          "status": "completed"
        },
        "tags": [],
        "execution": {
          "iopub.status.busy": "2024-08-24T18:34:45.693560Z",
          "iopub.execute_input": "2024-08-24T18:34:45.694463Z",
          "iopub.status.idle": "2024-08-24T18:34:45.700637Z",
          "shell.execute_reply.started": "2024-08-24T18:34:45.694420Z",
          "shell.execute_reply": "2024-08-24T18:34:45.699718Z"
        },
        "trusted": true
      },
      "execution_count": null,
      "outputs": [
        {
          "execution_count": 34,
          "output_type": "execute_result",
          "data": {
            "text/plain": "Dataset({\n    features: ['input_ids', 'attention_mask', 'labels'],\n    num_rows: 32000\n})"
          },
          "metadata": {}
        }
      ],
      "id": "a1a56fac"
    },
    {
      "cell_type": "code",
      "source": [
        "test"
      ],
      "metadata": {
        "id": "d06bbcfc",
        "outputId": "64b82fdc-3d02-40e0-e8aa-319bab8db19b",
        "papermill": {
          "duration": 0.057546,
          "end_time": "2024-08-19T18:32:38.331492",
          "exception": false,
          "start_time": "2024-08-19T18:32:38.273946",
          "status": "completed"
        },
        "tags": [],
        "execution": {
          "iopub.status.busy": "2024-08-24T18:34:47.049086Z",
          "iopub.execute_input": "2024-08-24T18:34:47.049860Z",
          "iopub.status.idle": "2024-08-24T18:34:47.056152Z",
          "shell.execute_reply.started": "2024-08-24T18:34:47.049821Z",
          "shell.execute_reply": "2024-08-24T18:34:47.055051Z"
        },
        "trusted": true
      },
      "execution_count": null,
      "outputs": [
        {
          "execution_count": 35,
          "output_type": "execute_result",
          "data": {
            "text/plain": "Dataset({\n    features: ['input_ids', 'attention_mask', 'labels'],\n    num_rows: 8000\n})"
          },
          "metadata": {}
        }
      ],
      "id": "d06bbcfc"
    },
    {
      "cell_type": "markdown",
      "source": [
        "# Fine-tunning"
      ],
      "metadata": {
        "id": "157d791b",
        "papermill": {
          "duration": 0.049032,
          "end_time": "2024-08-19T18:32:38.430000",
          "exception": false,
          "start_time": "2024-08-19T18:32:38.380968",
          "status": "completed"
        },
        "tags": []
      },
      "id": "157d791b"
    },
    {
      "cell_type": "code",
      "source": [
        "if torch.cuda.is_available():\n",
        "  device=\"cuda\"\n",
        "  print(f\"CUDA device: {torch.cuda.get_device_name()}\")"
      ],
      "metadata": {
        "id": "256aca80",
        "papermill": {
          "duration": null,
          "end_time": null,
          "exception": null,
          "start_time": null,
          "status": "pending"
        },
        "tags": [],
        "execution": {
          "iopub.status.busy": "2024-08-24T18:35:52.093560Z",
          "iopub.execute_input": "2024-08-24T18:35:52.094416Z",
          "iopub.status.idle": "2024-08-24T18:35:52.149347Z",
          "shell.execute_reply.started": "2024-08-24T18:35:52.094376Z",
          "shell.execute_reply": "2024-08-24T18:35:52.148364Z"
        },
        "trusted": true,
        "outputId": "5f9954a9-c53a-4795-b97a-c2e3523680d2"
      },
      "execution_count": null,
      "outputs": [
        {
          "name": "stdout",
          "text": "CUDA device: Tesla P100-PCIE-16GB\n",
          "output_type": "stream"
        }
      ],
      "id": "256aca80"
    },
    {
      "cell_type": "code",
      "source": [
        "torch_type=torch.bfloat16"
      ],
      "metadata": {
        "id": "enDYZvV3LYtj",
        "execution": {
          "iopub.status.busy": "2024-08-24T18:35:58.752841Z",
          "iopub.execute_input": "2024-08-24T18:35:58.753231Z",
          "iopub.status.idle": "2024-08-24T18:35:58.759851Z",
          "shell.execute_reply.started": "2024-08-24T18:35:58.753195Z",
          "shell.execute_reply": "2024-08-24T18:35:58.758964Z"
        },
        "trusted": true
      },
      "execution_count": null,
      "outputs": [],
      "id": "enDYZvV3LYtj"
    },
    {
      "cell_type": "code",
      "source": [
        "peft_config=LoraConfig(\n",
        "    task_type=TaskType.SEQ_2_SEQ_LM,\n",
        "    r=64,\n",
        "    lora_alpha=16,\n",
        "    lora_dropout=0.1,\n",
        "    bias=\"none\",\n",
        "    target_modules=[\"q\",\"v\"]\n",
        ")"
      ],
      "metadata": {
        "id": "333b1465",
        "papermill": {
          "duration": null,
          "end_time": null,
          "exception": null,
          "start_time": null,
          "status": "pending"
        },
        "tags": [],
        "execution": {
          "iopub.status.busy": "2024-08-24T18:37:12.534411Z",
          "iopub.execute_input": "2024-08-24T18:37:12.535076Z",
          "iopub.status.idle": "2024-08-24T18:37:12.539857Z",
          "shell.execute_reply.started": "2024-08-24T18:37:12.535037Z",
          "shell.execute_reply": "2024-08-24T18:37:12.538887Z"
        },
        "trusted": true
      },
      "execution_count": null,
      "outputs": [],
      "id": "333b1465"
    },
    {
      "cell_type": "code",
      "source": [
        "model = T5ForConditionalGeneration.from_pretrained('Salesforce/codet5-base',device_map={\"\": 0})"
      ],
      "metadata": {
        "id": "b7715262",
        "papermill": {
          "duration": null,
          "end_time": null,
          "exception": null,
          "start_time": null,
          "status": "pending"
        },
        "tags": [],
        "execution": {
          "iopub.status.busy": "2024-08-24T18:37:16.467677Z",
          "iopub.execute_input": "2024-08-24T18:37:16.468344Z",
          "iopub.status.idle": "2024-08-24T18:37:21.910521Z",
          "shell.execute_reply.started": "2024-08-24T18:37:16.468302Z",
          "shell.execute_reply": "2024-08-24T18:37:21.909709Z"
        },
        "trusted": true,
        "colab": {
          "referenced_widgets": [
            "ed3d0c7077af46b4ae1442e25b178d74",
            "19429c9192b64f2796a04ec188dba428"
          ]
        },
        "outputId": "1e98472e-c5c5-4318-8440-722734e11c6a"
      },
      "execution_count": null,
      "outputs": [
        {
          "output_type": "display_data",
          "data": {
            "text/plain": "config.json:   0%|          | 0.00/1.57k [00:00<?, ?B/s]",
            "application/vnd.jupyter.widget-view+json": {
              "version_major": 2,
              "version_minor": 0,
              "model_id": "ed3d0c7077af46b4ae1442e25b178d74"
            }
          },
          "metadata": {}
        },
        {
          "output_type": "display_data",
          "data": {
            "text/plain": "pytorch_model.bin:   0%|          | 0.00/892M [00:00<?, ?B/s]",
            "application/vnd.jupyter.widget-view+json": {
              "version_major": 2,
              "version_minor": 0,
              "model_id": "19429c9192b64f2796a04ec188dba428"
            }
          },
          "metadata": {}
        }
      ],
      "id": "b7715262"
    },
    {
      "cell_type": "code",
      "source": [
        "peft_model=get_peft_model(model,peft_config)"
      ],
      "metadata": {
        "id": "e3eabfbf",
        "papermill": {
          "duration": null,
          "end_time": null,
          "exception": null,
          "start_time": null,
          "status": "pending"
        },
        "tags": [],
        "execution": {
          "iopub.status.busy": "2024-08-24T18:37:47.663108Z",
          "iopub.execute_input": "2024-08-24T18:37:47.663522Z",
          "iopub.status.idle": "2024-08-24T18:37:47.882658Z",
          "shell.execute_reply.started": "2024-08-24T18:37:47.663484Z",
          "shell.execute_reply": "2024-08-24T18:37:47.881751Z"
        },
        "trusted": true
      },
      "execution_count": null,
      "outputs": [],
      "id": "e3eabfbf"
    },
    {
      "cell_type": "code",
      "source": [
        "print(f\"BF16 support is {transformers.file_utils.is_torch_bf16_available()}\")"
      ],
      "metadata": {
        "id": "MQsEuuYaL0jO",
        "execution": {
          "iopub.status.busy": "2024-08-24T18:38:21.349180Z",
          "iopub.execute_input": "2024-08-24T18:38:21.349835Z",
          "iopub.status.idle": "2024-08-24T18:38:21.356711Z",
          "shell.execute_reply.started": "2024-08-24T18:38:21.349795Z",
          "shell.execute_reply": "2024-08-24T18:38:21.355715Z"
        },
        "trusted": true,
        "outputId": "d8566765-93e6-48d3-b52e-42aad0540143"
      },
      "execution_count": null,
      "outputs": [
        {
          "name": "stdout",
          "text": "BF16 support is True\n",
          "output_type": "stream"
        },
        {
          "name": "stderr",
          "text": "/opt/conda/lib/python3.10/site-packages/transformers/utils/import_utils.py:455: FutureWarning: The util is_torch_bf16_available is deprecated, please use is_torch_bf16_gpu_available or is_torch_bf16_cpu_available instead according to whether it's used with cpu or gpu\n  warnings.warn(\n",
          "output_type": "stream"
        }
      ],
      "id": "MQsEuuYaL0jO"
    },
    {
      "cell_type": "code",
      "source": [
        "training_args = Seq2SeqTrainingArguments(\n",
        "    output_dir=\"./results\",\n",
        "    eval_strategy=\"epoch\",\n",
        "    learning_rate=5e-5,\n",
        "    per_device_train_batch_size=4,\n",
        "    per_device_eval_batch_size=4,\n",
        "    weight_decay=0.01,\n",
        "    save_total_limit=3,\n",
        "    save_steps=500,\n",
        "    num_train_epochs=1,\n",
        "    fp16=False ,\n",
        "    bf16=True,\n",
        "    gradient_accumulation_steps=4\n",
        ")"
      ],
      "metadata": {
        "id": "86f4dd35",
        "papermill": {
          "duration": null,
          "end_time": null,
          "exception": null,
          "start_time": null,
          "status": "pending"
        },
        "tags": [],
        "execution": {
          "iopub.status.busy": "2024-08-24T18:38:53.002618Z",
          "iopub.execute_input": "2024-08-24T18:38:53.002996Z",
          "iopub.status.idle": "2024-08-24T18:38:53.032480Z",
          "shell.execute_reply.started": "2024-08-24T18:38:53.002959Z",
          "shell.execute_reply": "2024-08-24T18:38:53.031772Z"
        },
        "trusted": true
      },
      "execution_count": null,
      "outputs": [],
      "id": "86f4dd35"
    },
    {
      "cell_type": "code",
      "source": [
        "data_collator = DataCollatorForSeq2Seq(tokenizer, model=model)"
      ],
      "metadata": {
        "id": "be39701c",
        "papermill": {
          "duration": null,
          "end_time": null,
          "exception": null,
          "start_time": null,
          "status": "pending"
        },
        "tags": [],
        "execution": {
          "iopub.status.busy": "2024-08-24T18:38:57.981905Z",
          "iopub.execute_input": "2024-08-24T18:38:57.982303Z",
          "iopub.status.idle": "2024-08-24T18:38:57.986779Z",
          "shell.execute_reply.started": "2024-08-24T18:38:57.982266Z",
          "shell.execute_reply": "2024-08-24T18:38:57.985765Z"
        },
        "trusted": true
      },
      "execution_count": null,
      "outputs": [],
      "id": "be39701c"
    },
    {
      "cell_type": "code",
      "source": [
        "trainer=Seq2SeqTrainer(\n",
        "    model=peft_model,\n",
        "    args=training_args,\n",
        "    train_dataset=train,\n",
        "    eval_dataset=test,\n",
        "    data_collator=data_collator\n",
        ")"
      ],
      "metadata": {
        "id": "f054e9fe",
        "papermill": {
          "duration": null,
          "end_time": null,
          "exception": null,
          "start_time": null,
          "status": "pending"
        },
        "tags": [],
        "execution": {
          "iopub.status.busy": "2024-08-24T18:40:28.790232Z",
          "iopub.execute_input": "2024-08-24T18:40:28.791050Z",
          "iopub.status.idle": "2024-08-24T18:40:29.563932Z",
          "shell.execute_reply.started": "2024-08-24T18:40:28.791013Z",
          "shell.execute_reply": "2024-08-24T18:40:29.563119Z"
        },
        "trusted": true
      },
      "execution_count": null,
      "outputs": [],
      "id": "f054e9fe"
    },
    {
      "cell_type": "code",
      "source": [
        "trainer.train()"
      ],
      "metadata": {
        "id": "9fb44583",
        "papermill": {
          "duration": null,
          "end_time": null,
          "exception": null,
          "start_time": null,
          "status": "pending"
        },
        "tags": [],
        "execution": {
          "iopub.status.busy": "2024-08-24T18:42:16.715861Z",
          "iopub.execute_input": "2024-08-24T18:42:16.716262Z",
          "iopub.status.idle": "2024-08-24T19:05:14.516303Z",
          "shell.execute_reply.started": "2024-08-24T18:42:16.716222Z",
          "shell.execute_reply": "2024-08-24T19:05:14.514928Z"
        },
        "trusted": true,
        "outputId": "7aca87a0-bd79-48e0-bbcc-4cc2fb5019c9"
      },
      "execution_count": null,
      "outputs": [
        {
          "output_type": "display_data",
          "data": {
            "text/plain": "<IPython.core.display.HTML object>",
            "text/html": "\n    <div>\n      \n      <progress value='501' max='2000' style='width:300px; height:20px; vertical-align: middle;'></progress>\n      [ 501/2000 22:52 < 1:08:43, 0.36 it/s, Epoch 0.25/1]\n    </div>\n    <table border=\"1\" class=\"dataframe\">\n  <thead>\n <tr style=\"text-align: left;\">\n      <th>Epoch</th>\n      <th>Training Loss</th>\n      <th>Validation Loss</th>\n    </tr>\n  </thead>\n  <tbody>\n  </tbody>\n</table><p>"
          },
          "metadata": {}
        },
        {
          "traceback": [
            "\u001b[0;31m---------------------------------------------------------------------------\u001b[0m",
            "\u001b[0;31mError\u001b[0m                                     Traceback (most recent call last)",
            "Cell \u001b[0;32mIn[51], line 1\u001b[0m\n\u001b[0;32m----> 1\u001b[0m \u001b[43mtrainer\u001b[49m\u001b[38;5;241;43m.\u001b[39;49m\u001b[43mtrain\u001b[49m\u001b[43m(\u001b[49m\u001b[43m)\u001b[49m\n",
            "File \u001b[0;32m/opt/conda/lib/python3.10/site-packages/transformers/trainer.py:1948\u001b[0m, in \u001b[0;36mtrain\u001b[0;34m(self, resume_from_checkpoint, trial, ignore_keys_for_eval, **kwargs)\u001b[0m\n\u001b[1;32m   1945\u001b[0m \u001b[38;5;28;01mdef\u001b[39;00m \u001b[38;5;21m_inner_training_loop\u001b[39m(\n\u001b[1;32m   1946\u001b[0m     \u001b[38;5;28mself\u001b[39m, batch_size\u001b[38;5;241m=\u001b[39m\u001b[38;5;28;01mNone\u001b[39;00m, args\u001b[38;5;241m=\u001b[39m\u001b[38;5;28;01mNone\u001b[39;00m, resume_from_checkpoint\u001b[38;5;241m=\u001b[39m\u001b[38;5;28;01mNone\u001b[39;00m, trial\u001b[38;5;241m=\u001b[39m\u001b[38;5;28;01mNone\u001b[39;00m, ignore_keys_for_eval\u001b[38;5;241m=\u001b[39m\u001b[38;5;28;01mNone\u001b[39;00m\n\u001b[1;32m   1947\u001b[0m ):\n\u001b[0;32m-> 1948\u001b[0m     \u001b[38;5;28mself\u001b[39m\u001b[38;5;241m.\u001b[39maccelerator\u001b[38;5;241m.\u001b[39mfree_memory()\n\u001b[1;32m   1949\u001b[0m     \u001b[38;5;28mself\u001b[39m\u001b[38;5;241m.\u001b[39m_train_batch_size \u001b[38;5;241m=\u001b[39m batch_size\n\u001b[1;32m   1950\u001b[0m     \u001b[38;5;28;01mif\u001b[39;00m \u001b[38;5;28mself\u001b[39m\u001b[38;5;241m.\u001b[39margs\u001b[38;5;241m.\u001b[39mauto_find_batch_size:\n",
            "File \u001b[0;32m/opt/conda/lib/python3.10/site-packages/transformers/trainer.py:2366\u001b[0m, in \u001b[0;36m_inner_training_loop\u001b[0;34m(self, batch_size, args, resume_from_checkpoint, trial, ignore_keys_for_eval)\u001b[0m\n\u001b[1;32m   2364\u001b[0m         \u001b[38;5;28;01mif\u001b[39;00m is_torch_xla_available():\n\u001b[1;32m   2365\u001b[0m             xm\u001b[38;5;241m.\u001b[39mmark_step()\n\u001b[0;32m-> 2366\u001b[0m         \u001b[38;5;28;01mbreak\u001b[39;00m\n\u001b[1;32m   2367\u001b[0m \u001b[38;5;28;01mif\u001b[39;00m step \u001b[38;5;241m<\u001b[39m \u001b[38;5;241m0\u001b[39m:\n\u001b[1;32m   2368\u001b[0m     logger\u001b[38;5;241m.\u001b[39mwarning(\n\u001b[1;32m   2369\u001b[0m         \u001b[38;5;124m\"\u001b[39m\u001b[38;5;124mThere seems to be not a single sample in your epoch_iterator, stopping training at step\u001b[39m\u001b[38;5;124m\"\u001b[39m\n\u001b[1;32m   2370\u001b[0m         \u001b[38;5;124mf\u001b[39m\u001b[38;5;124m\"\u001b[39m\u001b[38;5;124m \u001b[39m\u001b[38;5;132;01m{\u001b[39;00m\u001b[38;5;28mself\u001b[39m\u001b[38;5;241m.\u001b[39mstate\u001b[38;5;241m.\u001b[39mglobal_step\u001b[38;5;132;01m}\u001b[39;00m\u001b[38;5;124m! This is expected if you\u001b[39m\u001b[38;5;124m'\u001b[39m\u001b[38;5;124mre using an IterableDataset and set\u001b[39m\u001b[38;5;124m\"\u001b[39m\n\u001b[1;32m   2371\u001b[0m         \u001b[38;5;124mf\u001b[39m\u001b[38;5;124m\"\u001b[39m\u001b[38;5;124m num_steps (\u001b[39m\u001b[38;5;132;01m{\u001b[39;00mmax_steps\u001b[38;5;132;01m}\u001b[39;00m\u001b[38;5;124m) higher than the number of available samples.\u001b[39m\u001b[38;5;124m\"\u001b[39m\n\u001b[1;32m   2372\u001b[0m     )\n",
            "File \u001b[0;32m/opt/conda/lib/python3.10/site-packages/transformers/trainer.py:2810\u001b[0m, in \u001b[0;36m_maybe_log_save_evaluate\u001b[0;34m(self, tr_loss, grad_norm, model, trial, epoch, ignore_keys_for_eval)\u001b[0m\n\u001b[1;32m   2807\u001b[0m         \u001b[38;5;28mself\u001b[39m\u001b[38;5;241m.\u001b[39m_save_checkpoint(model, trial, metrics\u001b[38;5;241m=\u001b[39mmetrics)\n\u001b[1;32m   2808\u001b[0m         \u001b[38;5;28mself\u001b[39m\u001b[38;5;241m.\u001b[39mcontrol \u001b[38;5;241m=\u001b[39m \u001b[38;5;28mself\u001b[39m\u001b[38;5;241m.\u001b[39mcallback_handler\u001b[38;5;241m.\u001b[39mon_save(\u001b[38;5;28mself\u001b[39m\u001b[38;5;241m.\u001b[39margs, \u001b[38;5;28mself\u001b[39m\u001b[38;5;241m.\u001b[39mstate, \u001b[38;5;28mself\u001b[39m\u001b[38;5;241m.\u001b[39mcontrol)\n\u001b[0;32m-> 2810\u001b[0m \u001b[38;5;28;01mdef\u001b[39;00m \u001b[38;5;21m_load_rng_state\u001b[39m(\u001b[38;5;28mself\u001b[39m, checkpoint):\n\u001b[1;32m   2811\u001b[0m     \u001b[38;5;66;03m# Load RNG states from `checkpoint`\u001b[39;00m\n\u001b[1;32m   2812\u001b[0m     \u001b[38;5;28;01mif\u001b[39;00m checkpoint \u001b[38;5;129;01mis\u001b[39;00m \u001b[38;5;28;01mNone\u001b[39;00m:\n\u001b[1;32m   2813\u001b[0m         \u001b[38;5;28;01mreturn\u001b[39;00m\n",
            "File \u001b[0;32m/opt/conda/lib/python3.10/site-packages/transformers/trainer.py:3249\u001b[0m, in \u001b[0;36mlog\u001b[0;34m(self, logs)\u001b[0m\n\u001b[1;32m   3247\u001b[0m \u001b[38;5;28;01melif\u001b[39;00m \u001b[38;5;28misinstance\u001b[39m(data, (\u001b[38;5;28mtuple\u001b[39m, \u001b[38;5;28mlist\u001b[39m)):\n\u001b[1;32m   3248\u001b[0m     \u001b[38;5;28;01mreturn\u001b[39;00m \u001b[38;5;28mtype\u001b[39m(data)(\u001b[38;5;28mself\u001b[39m\u001b[38;5;241m.\u001b[39m_prepare_input(v) \u001b[38;5;28;01mfor\u001b[39;00m v \u001b[38;5;129;01min\u001b[39;00m data)\n\u001b[0;32m-> 3249\u001b[0m \u001b[38;5;28;01melif\u001b[39;00m \u001b[38;5;28misinstance\u001b[39m(data, torch\u001b[38;5;241m.\u001b[39mTensor):\n\u001b[1;32m   3250\u001b[0m     kwargs \u001b[38;5;241m=\u001b[39m {\u001b[38;5;124m\"\u001b[39m\u001b[38;5;124mdevice\u001b[39m\u001b[38;5;124m\"\u001b[39m: \u001b[38;5;28mself\u001b[39m\u001b[38;5;241m.\u001b[39margs\u001b[38;5;241m.\u001b[39mdevice}\n\u001b[1;32m   3251\u001b[0m     \u001b[38;5;28;01mif\u001b[39;00m \u001b[38;5;28mself\u001b[39m\u001b[38;5;241m.\u001b[39mis_deepspeed_enabled \u001b[38;5;129;01mand\u001b[39;00m (torch\u001b[38;5;241m.\u001b[39mis_floating_point(data) \u001b[38;5;129;01mor\u001b[39;00m torch\u001b[38;5;241m.\u001b[39mis_complex(data)):\n\u001b[1;32m   3252\u001b[0m         \u001b[38;5;66;03m# NLP models inputs are int/uint and those get adjusted to the right dtype of the\u001b[39;00m\n\u001b[1;32m   3253\u001b[0m         \u001b[38;5;66;03m# embedding. Other models such as wav2vec2's inputs are already float and thus\u001b[39;00m\n\u001b[1;32m   3254\u001b[0m         \u001b[38;5;66;03m# may need special handling to match the dtypes of the model\u001b[39;00m\n",
            "File \u001b[0;32m/opt/conda/lib/python3.10/site-packages/transformers/trainer_callback.py:500\u001b[0m, in \u001b[0;36mCallbackHandler.on_log\u001b[0;34m(self, args, state, control, logs)\u001b[0m\n\u001b[1;32m    498\u001b[0m \u001b[38;5;28;01mdef\u001b[39;00m \u001b[38;5;21mon_log\u001b[39m(\u001b[38;5;28mself\u001b[39m, args: TrainingArguments, state: TrainerState, control: TrainerControl, logs):\n\u001b[1;32m    499\u001b[0m     control\u001b[38;5;241m.\u001b[39mshould_log \u001b[38;5;241m=\u001b[39m \u001b[38;5;28;01mFalse\u001b[39;00m\n\u001b[0;32m--> 500\u001b[0m     \u001b[38;5;28;01mreturn\u001b[39;00m \u001b[38;5;28;43mself\u001b[39;49m\u001b[38;5;241;43m.\u001b[39;49m\u001b[43mcall_event\u001b[49m\u001b[43m(\u001b[49m\u001b[38;5;124;43m\"\u001b[39;49m\u001b[38;5;124;43mon_log\u001b[39;49m\u001b[38;5;124;43m\"\u001b[39;49m\u001b[43m,\u001b[49m\u001b[43m \u001b[49m\u001b[43margs\u001b[49m\u001b[43m,\u001b[49m\u001b[43m \u001b[49m\u001b[43mstate\u001b[49m\u001b[43m,\u001b[49m\u001b[43m \u001b[49m\u001b[43mcontrol\u001b[49m\u001b[43m,\u001b[49m\u001b[43m \u001b[49m\u001b[43mlogs\u001b[49m\u001b[38;5;241;43m=\u001b[39;49m\u001b[43mlogs\u001b[49m\u001b[43m)\u001b[49m\n",
            "File \u001b[0;32m/opt/conda/lib/python3.10/site-packages/transformers/trainer_callback.py:507\u001b[0m, in \u001b[0;36mCallbackHandler.call_event\u001b[0;34m(self, event, args, state, control, **kwargs)\u001b[0m\n\u001b[1;32m    505\u001b[0m \u001b[38;5;28;01mdef\u001b[39;00m \u001b[38;5;21mcall_event\u001b[39m(\u001b[38;5;28mself\u001b[39m, event, args, state, control, \u001b[38;5;241m*\u001b[39m\u001b[38;5;241m*\u001b[39mkwargs):\n\u001b[1;32m    506\u001b[0m     \u001b[38;5;28;01mfor\u001b[39;00m callback \u001b[38;5;129;01min\u001b[39;00m \u001b[38;5;28mself\u001b[39m\u001b[38;5;241m.\u001b[39mcallbacks:\n\u001b[0;32m--> 507\u001b[0m         result \u001b[38;5;241m=\u001b[39m \u001b[38;5;28;43mgetattr\u001b[39;49m\u001b[43m(\u001b[49m\u001b[43mcallback\u001b[49m\u001b[43m,\u001b[49m\u001b[43m \u001b[49m\u001b[43mevent\u001b[49m\u001b[43m)\u001b[49m\u001b[43m(\u001b[49m\n\u001b[1;32m    508\u001b[0m \u001b[43m            \u001b[49m\u001b[43margs\u001b[49m\u001b[43m,\u001b[49m\n\u001b[1;32m    509\u001b[0m \u001b[43m            \u001b[49m\u001b[43mstate\u001b[49m\u001b[43m,\u001b[49m\n\u001b[1;32m    510\u001b[0m \u001b[43m            \u001b[49m\u001b[43mcontrol\u001b[49m\u001b[43m,\u001b[49m\n\u001b[1;32m    511\u001b[0m \u001b[43m            \u001b[49m\u001b[43mmodel\u001b[49m\u001b[38;5;241;43m=\u001b[39;49m\u001b[38;5;28;43mself\u001b[39;49m\u001b[38;5;241;43m.\u001b[39;49m\u001b[43mmodel\u001b[49m\u001b[43m,\u001b[49m\n\u001b[1;32m    512\u001b[0m \u001b[43m            \u001b[49m\u001b[43mtokenizer\u001b[49m\u001b[38;5;241;43m=\u001b[39;49m\u001b[38;5;28;43mself\u001b[39;49m\u001b[38;5;241;43m.\u001b[39;49m\u001b[43mtokenizer\u001b[49m\u001b[43m,\u001b[49m\n\u001b[1;32m    513\u001b[0m \u001b[43m            \u001b[49m\u001b[43moptimizer\u001b[49m\u001b[38;5;241;43m=\u001b[39;49m\u001b[38;5;28;43mself\u001b[39;49m\u001b[38;5;241;43m.\u001b[39;49m\u001b[43moptimizer\u001b[49m\u001b[43m,\u001b[49m\n\u001b[1;32m    514\u001b[0m \u001b[43m            \u001b[49m\u001b[43mlr_scheduler\u001b[49m\u001b[38;5;241;43m=\u001b[39;49m\u001b[38;5;28;43mself\u001b[39;49m\u001b[38;5;241;43m.\u001b[39;49m\u001b[43mlr_scheduler\u001b[49m\u001b[43m,\u001b[49m\n\u001b[1;32m    515\u001b[0m \u001b[43m            \u001b[49m\u001b[43mtrain_dataloader\u001b[49m\u001b[38;5;241;43m=\u001b[39;49m\u001b[38;5;28;43mself\u001b[39;49m\u001b[38;5;241;43m.\u001b[39;49m\u001b[43mtrain_dataloader\u001b[49m\u001b[43m,\u001b[49m\n\u001b[1;32m    516\u001b[0m \u001b[43m            \u001b[49m\u001b[43meval_dataloader\u001b[49m\u001b[38;5;241;43m=\u001b[39;49m\u001b[38;5;28;43mself\u001b[39;49m\u001b[38;5;241;43m.\u001b[39;49m\u001b[43meval_dataloader\u001b[49m\u001b[43m,\u001b[49m\n\u001b[1;32m    517\u001b[0m \u001b[43m            \u001b[49m\u001b[38;5;241;43m*\u001b[39;49m\u001b[38;5;241;43m*\u001b[39;49m\u001b[43mkwargs\u001b[49m\u001b[43m,\u001b[49m\n\u001b[1;32m    518\u001b[0m \u001b[43m        \u001b[49m\u001b[43m)\u001b[49m\n\u001b[1;32m    519\u001b[0m         \u001b[38;5;66;03m# A Callback can skip the return of `control` if it doesn't change it.\u001b[39;00m\n\u001b[1;32m    520\u001b[0m         \u001b[38;5;28;01mif\u001b[39;00m result \u001b[38;5;129;01mis\u001b[39;00m \u001b[38;5;129;01mnot\u001b[39;00m \u001b[38;5;28;01mNone\u001b[39;00m:\n",
            "File \u001b[0;32m/opt/conda/lib/python3.10/site-packages/transformers/integrations/integration_utils.py:960\u001b[0m, in \u001b[0;36mWandbCallback.on_log\u001b[0;34m(self, args, state, control, model, logs, **kwargs)\u001b[0m\n\u001b[1;32m    958\u001b[0m non_scalar_logs \u001b[38;5;241m=\u001b[39m {k: v \u001b[38;5;28;01mfor\u001b[39;00m k, v \u001b[38;5;129;01min\u001b[39;00m logs\u001b[38;5;241m.\u001b[39mitems() \u001b[38;5;28;01mif\u001b[39;00m k \u001b[38;5;129;01mnot\u001b[39;00m \u001b[38;5;129;01min\u001b[39;00m single_value_scalars}\n\u001b[1;32m    959\u001b[0m non_scalar_logs \u001b[38;5;241m=\u001b[39m rewrite_logs(non_scalar_logs)\n\u001b[0;32m--> 960\u001b[0m \u001b[38;5;28;43mself\u001b[39;49m\u001b[38;5;241;43m.\u001b[39;49m\u001b[43m_wandb\u001b[49m\u001b[38;5;241;43m.\u001b[39;49m\u001b[43mlog\u001b[49m\u001b[43m(\u001b[49m\u001b[43m{\u001b[49m\u001b[38;5;241;43m*\u001b[39;49m\u001b[38;5;241;43m*\u001b[39;49m\u001b[43mnon_scalar_logs\u001b[49m\u001b[43m,\u001b[49m\u001b[43m \u001b[49m\u001b[38;5;124;43m\"\u001b[39;49m\u001b[38;5;124;43mtrain/global_step\u001b[39;49m\u001b[38;5;124;43m\"\u001b[39;49m\u001b[43m:\u001b[49m\u001b[43m \u001b[49m\u001b[43mstate\u001b[49m\u001b[38;5;241;43m.\u001b[39;49m\u001b[43mglobal_step\u001b[49m\u001b[43m}\u001b[49m\u001b[43m)\u001b[49m\n",
            "File \u001b[0;32m/opt/conda/lib/python3.10/site-packages/wandb/sdk/lib/preinit.py:36\u001b[0m, in \u001b[0;36mPreInitCallable.<locals>.preinit_wrapper\u001b[0;34m(*args, **kwargs)\u001b[0m\n\u001b[1;32m     35\u001b[0m \u001b[38;5;28;01mdef\u001b[39;00m \u001b[38;5;21mpreinit_wrapper\u001b[39m(\u001b[38;5;241m*\u001b[39margs: Any, \u001b[38;5;241m*\u001b[39m\u001b[38;5;241m*\u001b[39mkwargs: Any) \u001b[38;5;241m-\u001b[39m\u001b[38;5;241m>\u001b[39m Any:\n\u001b[0;32m---> 36\u001b[0m     \u001b[38;5;28;01mraise\u001b[39;00m wandb\u001b[38;5;241m.\u001b[39mError(\u001b[38;5;124mf\u001b[39m\u001b[38;5;124m\"\u001b[39m\u001b[38;5;124mYou must call wandb.init() before \u001b[39m\u001b[38;5;132;01m{\u001b[39;00mname\u001b[38;5;132;01m}\u001b[39;00m\u001b[38;5;124m()\u001b[39m\u001b[38;5;124m\"\u001b[39m)\n",
            "\u001b[0;31mError\u001b[0m: You must call wandb.init() before wandb.log()"
          ],
          "ename": "Error",
          "evalue": "You must call wandb.init() before wandb.log()",
          "output_type": "error"
        }
      ],
      "id": "9fb44583"
    },
    {
      "cell_type": "code",
      "source": [
        "peft_model.save_pretrained(model_path)\n",
        "tokenizer.save_pretrained(tokenizer_path)"
      ],
      "metadata": {
        "id": "2dae6f4e",
        "papermill": {
          "duration": null,
          "end_time": null,
          "exception": null,
          "start_time": null,
          "status": "pending"
        },
        "tags": []
      },
      "execution_count": null,
      "outputs": [],
      "id": "2dae6f4e"
    },
    {
      "cell_type": "markdown",
      "source": [
        "# Evaluation"
      ],
      "metadata": {
        "id": "izDfW-KP0dWR"
      },
      "id": "izDfW-KP0dWR"
    },
    {
      "cell_type": "code",
      "source": [
        "model = T5ForConditionalGeneration.from_pretrained(model_path)\n",
        "tokenizer = RobertaTokenizer.from_pretrained(tokenizer_path)"
      ],
      "metadata": {
        "id": "SZgy6afuM8-i"
      },
      "execution_count": null,
      "outputs": [],
      "id": "SZgy6afuM8-i"
    },
    {
      "cell_type": "code",
      "source": [
        "code_eval = load(\"code_eval\")  # or replace with the appropriate metric"
      ],
      "metadata": {
        "id": "GcWz0Bm5NAGI"
      },
      "execution_count": null,
      "outputs": [],
      "id": "GcWz0Bm5NAGI"
    },
    {
      "cell_type": "code",
      "source": [
        "def evaluate_model(model, tokenizer, test_data):\n",
        "    results = []\n",
        "    for example in test_data:\n",
        "        # Tokenize input and generate output\n",
        "        inputs = tokenizer(example['instruction'], return_tensors=\"pt\", truncation=True, padding=\"max_length\", max_length=512)\n",
        "        outputs = model.generate(**inputs, max_length=512, num_beams=5, do_sample=True)\n",
        "        generated_code = tokenizer.decode(outputs[0], skip_special_tokens=True)\n",
        "\n",
        "        # Evaluate the generated code\n",
        "        metric_results = code_eval.compute(predictions=[generated_code], references=[example['reference_code']])\n",
        "        results.append(metric_results)\n",
        "\n",
        "    return results"
      ],
      "metadata": {
        "id": "AnNAJe6vNGcx"
      },
      "execution_count": null,
      "outputs": [],
      "id": "AnNAJe6vNGcx"
    },
    {
      "cell_type": "code",
      "source": [
        "test_data = [\n",
        "    {\"instruction\": example['instruction'], \"reference_code\": example['output']}\n",
        "    for example in test\n",
        "]"
      ],
      "metadata": {
        "id": "98b8e932",
        "papermill": {
          "duration": null,
          "end_time": null,
          "exception": null,
          "start_time": null,
          "status": "pending"
        },
        "tags": []
      },
      "execution_count": null,
      "outputs": [],
      "id": "98b8e932"
    },
    {
      "cell_type": "code",
      "source": [
        "evaluation_results = evaluate_model(model, tokenizer, test_data)\n",
        "\n",
        "for result in evaluation_results:\n",
        "    print(result)"
      ],
      "metadata": {
        "id": "EGcNdK7hNPCH"
      },
      "execution_count": null,
      "outputs": [],
      "id": "EGcNdK7hNPCH"
    },
    {
      "cell_type": "markdown",
      "source": [
        "# Inference"
      ],
      "metadata": {
        "id": "9khP-ru10g3P"
      },
      "id": "9khP-ru10g3P"
    },
    {
      "cell_type": "code",
      "source": [
        "model = T5ForConditionalGeneration.from_pretrained(model_path)\n",
        "tokenizer = RobertaTokenizer.from_pretrained(tokenizer_path)"
      ],
      "metadata": {
        "id": "T-Z3C6X5NXbb"
      },
      "execution_count": null,
      "outputs": [],
      "id": "T-Z3C6X5NXbb"
    },
    {
      "cell_type": "code",
      "source": [
        "def generate_unit_tests(instruction):\n",
        "\n",
        "  inputs = tokenizer(instruction, max_length=512, truncation=True, padding=\"max_length\", return_tensors=\"pt\")\n",
        "\n",
        "  outputs = model.generate(\n",
        "      input_ids=inputs[\"input_ids\"],\n",
        "      attention_mask=inputs[\"attention_mask\"],\n",
        "      max_length=512,\n",
        "      num_beams=5,\n",
        "      do_sample=True,  # Enable sampling for diverse output\n",
        "      temperature=1,  # Control randomness\n",
        "      top_k=50,  # Limit the sampling pool to top K tokens\n",
        "      top_p=0.9,\n",
        "      no_repeat_ngram_size=2,\n",
        "      early_stopping=True\n",
        "  )\n",
        "\n",
        "  # Decode the generated output\n",
        "  generated_test = tokenizer.decode(outputs[0], skip_special_tokens=True)\n",
        "\n",
        "  return generated_test"
      ],
      "metadata": {
        "id": "d992ad34",
        "papermill": {
          "duration": null,
          "end_time": null,
          "exception": null,
          "start_time": null,
          "status": "pending"
        },
        "tags": []
      },
      "execution_count": null,
      "outputs": [],
      "id": "d992ad34"
    },
    {
      "cell_type": "code",
      "source": [
        "code = \"\"\"\n",
        "public class SimpleCalculator {\n",
        "    // Method to add two numbers\n",
        "    public int add(int a, int b) {\n",
        "        return a + b;\n",
        "    }\n",
        "\n",
        "    // Method to subtract two numbers\n",
        "    public int subtract(int a, int b) {\n",
        "        return a - b;\n",
        "    }\n",
        "\n",
        "    // Method to multiply two numbers\n",
        "    public int multiply(int a, int b) {\n",
        "        return a * b;\n",
        "    }\n",
        "\n",
        "    // Method to divide two numbers\n",
        "    // Throws ArithmeticException if divisor is zero\n",
        "    public double divide(int a, int b) {\n",
        "        if (b == 0) {\n",
        "            throw new ArithmeticException(\"Cannot divide by zero\");\n",
        "        }\n",
        "        return (double) a / b;\n",
        "    }\n",
        "}\n",
        "\"\"\"\n",
        "prompt=\"Generate a unit test case for the following Java method: \"+code"
      ],
      "metadata": {
        "id": "5018ef20",
        "papermill": {
          "duration": null,
          "end_time": null,
          "exception": null,
          "start_time": null,
          "status": "pending"
        },
        "tags": []
      },
      "execution_count": null,
      "outputs": [],
      "id": "5018ef20"
    },
    {
      "cell_type": "code",
      "source": [
        "generated_test = generate_unit_tests(prompt)\n",
        "print(generated_test)"
      ],
      "metadata": {
        "id": "gdC78jrINm7s"
      },
      "execution_count": null,
      "outputs": [],
      "id": "gdC78jrINm7s"
    }
  ]
}